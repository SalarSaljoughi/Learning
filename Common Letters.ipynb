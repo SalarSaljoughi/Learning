{
 "cells": [
  {
   "cell_type": "markdown",
   "id": "3571dbef",
   "metadata": {},
   "source": [
    "# Common Letters\n",
    "write a function to find common letters in 2 words and return them (avoid duplicates)"
   ]
  },
  {
   "cell_type": "code",
   "execution_count": 1,
   "id": "64a3a10a",
   "metadata": {},
   "outputs": [],
   "source": [
    "def common_letters(string_one, string_two):\n",
    "  list = []\n",
    "  for letter in string_one:\n",
    "    if (letter in string_two) and not (letter in list):\n",
    "      list.append(letter)\n",
    "  return list"
   ]
  },
  {
   "cell_type": "code",
   "execution_count": 2,
   "id": "e394c293",
   "metadata": {},
   "outputs": [
    {
     "data": {
      "text/plain": [
       "['a']"
      ]
     },
     "execution_count": 2,
     "metadata": {},
     "output_type": "execute_result"
    }
   ],
   "source": [
    "# test function\n",
    "common_letters(\"banana\", \"cream\")"
   ]
  },
  {
   "cell_type": "code",
   "execution_count": 3,
   "id": "042937c4",
   "metadata": {},
   "outputs": [
    {
     "data": {
      "text/plain": [
       "['M', 'a', 'n', 'h', 't']"
      ]
     },
     "execution_count": 3,
     "metadata": {},
     "output_type": "execute_result"
    }
   ],
   "source": [
    "# test function\n",
    "common_letters(\"Manhattan\", \"Manchester\")"
   ]
  }
 ],
 "metadata": {
  "kernelspec": {
   "display_name": "Python 3 (ipykernel)",
   "language": "python",
   "name": "python3"
  },
  "language_info": {
   "codemirror_mode": {
    "name": "ipython",
    "version": 3
   },
   "file_extension": ".py",
   "mimetype": "text/x-python",
   "name": "python",
   "nbconvert_exporter": "python",
   "pygments_lexer": "ipython3",
   "version": "3.11.5"
  }
 },
 "nbformat": 4,
 "nbformat_minor": 5
}
