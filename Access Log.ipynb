{
 "cells": [
  {
   "cell_type": "markdown",
   "id": "18ba4577",
   "metadata": {},
   "source": [
    "# access log\n",
    "we have access log dictionary, we want to turn and save it to CSV"
   ]
  },
  {
   "cell_type": "code",
   "execution_count": 1,
   "id": "670704c6",
   "metadata": {},
   "outputs": [],
   "source": [
    "access_log = [{'time': '08:39:37', 'limit': 844404, 'address': '1.227.124.181'}, {'time': '13:13:35', 'limit': 543871, 'address': '198.51.139.193'}, {'time': '19:40:45', 'limit': 3021, 'address': '172.1.254.208'}, {'time': '18:57:16', 'limit': 67031769, 'address': '172.58.247.219'}, {'time': '21:17:13', 'limit': 9083, 'address': '124.144.20.113'}, {'time': '23:34:17', 'limit': 65913, 'address': '203.236.149.220'}, {'time': '13:58:05', 'limit': 1541474, 'address': '192.52.206.76'}, {'time': '10:52:00', 'limit': 11465607, 'address': '104.47.149.93'}, {'time': '14:56:12', 'limit': 109, 'address': '192.31.185.7'}, {'time': '18:56:35', 'limit': 6207, 'address': '2.228.164.197'}]\n",
    "fields = ['time', 'address', 'limit']"
   ]
  },
  {
   "cell_type": "code",
   "execution_count": 2,
   "id": "982bb6b1",
   "metadata": {},
   "outputs": [],
   "source": [
    "import csv\n",
    "with open(\"logger.csv\", \"w\") as logger_csv:\n",
    "    log_writer = csv.DictWriter(logger_csv, fieldnames=fields)\n",
    "\n",
    "    log_writer.writeheader()\n",
    "    for item in access_log:\n",
    "        log_writer.writerow(item)"
   ]
  },
  {
   "cell_type": "code",
   "execution_count": null,
   "id": "00621254",
   "metadata": {},
   "outputs": [],
   "source": []
  }
 ],
 "metadata": {
  "kernelspec": {
   "display_name": "Python 3 (ipykernel)",
   "language": "python",
   "name": "python3"
  },
  "language_info": {
   "codemirror_mode": {
    "name": "ipython",
    "version": 3
   },
   "file_extension": ".py",
   "mimetype": "text/x-python",
   "name": "python",
   "nbconvert_exporter": "python",
   "pygments_lexer": "ipython3",
   "version": "3.11.5"
  }
 },
 "nbformat": 4,
 "nbformat_minor": 5
}
