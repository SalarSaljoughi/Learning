{
 "cells": [
  {
   "cell_type": "markdown",
   "id": "73cc9ece",
   "metadata": {},
   "source": [
    "# username generator\n",
    "write a function to generate user name with first 3 letters of first name and first 3 letters of last name"
   ]
  },
  {
   "cell_type": "code",
   "execution_count": 1,
   "id": "f21c23ae",
   "metadata": {},
   "outputs": [],
   "source": [
    "def account_generator(first_name, last_name):\n",
    "  account_name = first_name[:3] + last_name[:3]\n",
    "  return account_name"
   ]
  },
  {
   "cell_type": "code",
   "execution_count": 2,
   "id": "36cc98f1",
   "metadata": {},
   "outputs": [],
   "source": [
    "# random first and last name\n",
    "first_name = \"Julie\"\n",
    "last_name = \"Blevins\""
   ]
  },
  {
   "cell_type": "code",
   "execution_count": 3,
   "id": "49afc39c",
   "metadata": {},
   "outputs": [
    {
     "name": "stdout",
     "output_type": "stream",
     "text": [
      "JulBle\n"
     ]
    }
   ],
   "source": [
    "# test function\n",
    "new_account = account_generator(first_name, last_name)\n",
    "print(new_account)"
   ]
  },
  {
   "cell_type": "code",
   "execution_count": null,
   "id": "2d2240d7",
   "metadata": {},
   "outputs": [],
   "source": []
  }
 ],
 "metadata": {
  "kernelspec": {
   "display_name": "Python 3 (ipykernel)",
   "language": "python",
   "name": "python3"
  },
  "language_info": {
   "codemirror_mode": {
    "name": "ipython",
    "version": 3
   },
   "file_extension": ".py",
   "mimetype": "text/x-python",
   "name": "python",
   "nbconvert_exporter": "python",
   "pygments_lexer": "ipython3",
   "version": "3.11.5"
  }
 },
 "nbformat": 4,
 "nbformat_minor": 5
}
