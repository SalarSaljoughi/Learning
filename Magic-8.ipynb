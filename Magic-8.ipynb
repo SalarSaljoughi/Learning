{
  "metadata": {
    "kernelspec": {
      "name": "python",
      "display_name": "Python (Pyodide)",
      "language": "python"
    },
    "language_info": {
      "codemirror_mode": {
        "name": "python",
        "version": 3
      },
      "file_extension": ".py",
      "mimetype": "text/x-python",
      "name": "python",
      "nbconvert_exporter": "python",
      "pygments_lexer": "ipython3",
      "version": "3.8"
    }
  },
  "nbformat_minor": 4,
  "nbformat": 4,
  "cells": [
    {
      "cell_type": "markdown",
      "source": "# Magic 8 Ball",
      "metadata": {}
    },
    {
      "cell_type": "code",
      "source": "import random",
      "metadata": {
        "trusted": true
      },
      "outputs": [],
      "execution_count": 1
    },
    {
      "cell_type": "code",
      "source": "# creating variable\nname = \"Salar\"\nquestion = \"Will I win the lottery?\"\nanswer = \"\"",
      "metadata": {
        "trusted": true
      },
      "outputs": [],
      "execution_count": 2
    },
    {
      "cell_type": "code",
      "source": "# generating random number\nrandom_number = random.randint(1, 9)\n# making sure the random number works\nprint(random_number)",
      "metadata": {
        "trusted": true
      },
      "outputs": [
        {
          "name": "stdout",
          "text": "6\n",
          "output_type": "stream"
        }
      ],
      "execution_count": 3
    },
    {
      "cell_type": "code",
      "source": "# magic 8 ball logic\nif random_number == 1:\n  answer = \"Yes - definitely\"\nelif random_number == 2:\n  answer = \"It is decidedly so\"\nelif random_number == 3:\n  answer = \"Without a doubt\"\nelif random_number == 4:\n  answer = \"Reply hazy, try again\"\nelif random_number == 5:\n  answer = \"Ask again later\"\nelif random_number == 6:\n  answer = \"Better not tell you now\" \nelif random_number == 7:\n  answer = \"My sources say no\"\nelif random_number == 8:\n  answer = \"Outloo not so good\" \nelif random_number == 9:\n  answer = \"It is decidedly so\"\nelse:\n  answer = \"Error\"",
      "metadata": {
        "trusted": true
      },
      "outputs": [],
      "execution_count": 4
    },
    {
      "cell_type": "code",
      "source": "# printing the answers\nprint(name + \" asks: \" + question )\nprint(\"Magic 8-Ball's answer: \" + answer)",
      "metadata": {
        "trusted": true
      },
      "outputs": [
        {
          "name": "stdout",
          "text": "Salar asks: Will I win the lottery?\nMagic 8-Ball's answer: Better not tell you now\n",
          "output_type": "stream"
        }
      ],
      "execution_count": 5
    },
    {
      "cell_type": "code",
      "source": "",
      "metadata": {
        "trusted": true
      },
      "outputs": [],
      "execution_count": null
    }
  ]
}