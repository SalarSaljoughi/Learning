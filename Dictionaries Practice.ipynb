{
 "cells": [
  {
   "cell_type": "markdown",
   "id": "24ddd560",
   "metadata": {},
   "source": [
    "# Dictionary"
   ]
  },
  {
   "cell_type": "code",
   "execution_count": 1,
   "id": "600530ca",
   "metadata": {},
   "outputs": [
    {
     "name": "stdout",
     "output_type": "stream",
     "text": [
      "{'living room': 21, 'kitchen': 23, 'bedroom': 20, 'pantry': 22}\n",
      "{'backyard': 6, 'garage': 2, 'driveway': 1}\n"
     ]
    }
   ],
   "source": [
    "# dictionaries are key: value pairs\n",
    "sensors =  {\"living room\": 21, \"kitchen\": 23, \"bedroom\": 20, \"pantry\": 22}\n",
    "num_cameras = {\"backyard\": 6, \"garage\": 2, \"driveway\": 1}\n",
    "\n",
    "print(sensors)\n",
    "print(num_cameras)"
   ]
  },
  {
   "cell_type": "code",
   "execution_count": 2,
   "id": "b8cc9c3e",
   "metadata": {},
   "outputs": [],
   "source": [
    "# create empty dictionary\n",
    "animals_in_zoo = {}"
   ]
  },
  {
   "cell_type": "code",
   "execution_count": 3,
   "id": "0bb1b542",
   "metadata": {},
   "outputs": [
    {
     "name": "stdout",
     "output_type": "stream",
     "text": [
      "{'zebras': 8}\n"
     ]
    }
   ],
   "source": [
    "# add new key_value pair\n",
    "animals_in_zoo[\"zebras\"] = 8\n",
    "\n",
    "print(animals_in_zoo)"
   ]
  },
  {
   "cell_type": "code",
   "execution_count": 7,
   "id": "4c156e08",
   "metadata": {},
   "outputs": [
    {
     "name": "stdout",
     "output_type": "stream",
     "text": [
      "{'zebras': 8, 'monkeys': 12, 'dinosaurs': 0}\n"
     ]
    }
   ],
   "source": [
    "# if want to add multiple keys at once we can use .update() method\n",
    "animals_in_zoo.update({\"monkeys\": 12, \"dinosaurs\": 0})\n",
    "\n",
    "print(animals_in_zoo)"
   ]
  },
  {
   "cell_type": "code",
   "execution_count": 8,
   "id": "0f59bfc2",
   "metadata": {},
   "outputs": [
    {
     "name": "stdout",
     "output_type": "stream",
     "text": [
      "{'oatmeal': 5, 'avocado toast': 6, 'carrot juice': 5, 'blueberry muffin': 2}\n"
     ]
    }
   ],
   "source": [
    "# overwrite existing value\n",
    "menu = {\"oatmeal\": 3, \"avocado toast\": 6, \"carrot juice\": 5, \"blueberry muffin\": 2}\n",
    "menu[\"oatmeal\"] = 5\n",
    "print(menu)"
   ]
  },
  {
   "cell_type": "markdown",
   "id": "3903a5ce",
   "metadata": {},
   "source": [
    "# Dict Comprehensions"
   ]
  },
  {
   "cell_type": "code",
   "execution_count": 9,
   "id": "98c20dcf",
   "metadata": {},
   "outputs": [
    {
     "name": "stdout",
     "output_type": "stream",
     "text": [
      "{'Jenny': 61, 'Alexus': 70, 'Sam': 67, 'Grace': 64}\n"
     ]
    }
   ],
   "source": [
    "# if we have 2 lists that we want to combine into a dictionary\n",
    "\n",
    "names = ['Jenny', 'Alexus', 'Sam', 'Grace']\n",
    "heights = [61, 70, 67, 64]\n",
    "\n",
    "students = {key:value for key, value in zip(names, heights)}\n",
    "print(students)"
   ]
  },
  {
   "cell_type": "code",
   "execution_count": 10,
   "id": "90ca54e6",
   "metadata": {},
   "outputs": [
    {
     "name": "stdout",
     "output_type": "stream",
     "text": [
      "{'New York': 99, 'London': 81, 'Sydney': 65}\n"
     ]
    }
   ],
   "source": [
    "# dictionaries can't have duplicate keys. if during list comprehension, first list has duplicate element, it will be overwritten in the process\n",
    "\n",
    "# if we have 2 lists that we want to combine into a dictionary\n",
    "cities = [\"New York\", \"London\", \"Sydney\", \"New York\"]\n",
    "temps = [ 85, 81, 65, 99]\n",
    "\n",
    "weather = { key:value for key,value in zip(cities, temps)}\n",
    "\n",
    "print(weather)"
   ]
  },
  {
   "cell_type": "code",
   "execution_count": null,
   "id": "79b971f2",
   "metadata": {},
   "outputs": [],
   "source": []
  }
 ],
 "metadata": {
  "kernelspec": {
   "display_name": "Python 3 (ipykernel)",
   "language": "python",
   "name": "python3"
  },
  "language_info": {
   "codemirror_mode": {
    "name": "ipython",
    "version": 3
   },
   "file_extension": ".py",
   "mimetype": "text/x-python",
   "name": "python",
   "nbconvert_exporter": "python",
   "pygments_lexer": "ipython3",
   "version": "3.11.5"
  }
 },
 "nbformat": 4,
 "nbformat_minor": 5
}
