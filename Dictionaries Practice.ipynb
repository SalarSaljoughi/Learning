{
 "cells": [
  {
   "cell_type": "markdown",
   "id": "24ddd560",
   "metadata": {},
   "source": [
    "# Dictionary\n",
    "### creating and updating dicts"
   ]
  },
  {
   "cell_type": "code",
   "execution_count": 1,
   "id": "600530ca",
   "metadata": {},
   "outputs": [
    {
     "name": "stdout",
     "output_type": "stream",
     "text": [
      "{'living room': 21, 'kitchen': 23, 'bedroom': 20, 'pantry': 22}\n",
      "{'backyard': 6, 'garage': 2, 'driveway': 1}\n"
     ]
    }
   ],
   "source": [
    "# dictionaries are key: value pairs\n",
    "sensors =  {\"living room\": 21, \"kitchen\": 23, \"bedroom\": 20, \"pantry\": 22}\n",
    "num_cameras = {\"backyard\": 6, \"garage\": 2, \"driveway\": 1}\n",
    "\n",
    "print(sensors)\n",
    "print(num_cameras)"
   ]
  },
  {
   "cell_type": "code",
   "execution_count": 2,
   "id": "b8cc9c3e",
   "metadata": {},
   "outputs": [],
   "source": [
    "# create empty dictionary\n",
    "animals_in_zoo = {}"
   ]
  },
  {
   "cell_type": "code",
   "execution_count": 3,
   "id": "0bb1b542",
   "metadata": {},
   "outputs": [
    {
     "name": "stdout",
     "output_type": "stream",
     "text": [
      "{'zebras': 8}\n"
     ]
    }
   ],
   "source": [
    "# add new key_value pair\n",
    "animals_in_zoo[\"zebras\"] = 8\n",
    "\n",
    "print(animals_in_zoo)"
   ]
  },
  {
   "cell_type": "code",
   "execution_count": 7,
   "id": "4c156e08",
   "metadata": {},
   "outputs": [
    {
     "name": "stdout",
     "output_type": "stream",
     "text": [
      "{'zebras': 8, 'monkeys': 12, 'dinosaurs': 0}\n"
     ]
    }
   ],
   "source": [
    "# if want to add multiple keys at once we can use .update() method\n",
    "animals_in_zoo.update({\"monkeys\": 12, \"dinosaurs\": 0})\n",
    "\n",
    "print(animals_in_zoo)"
   ]
  },
  {
   "cell_type": "code",
   "execution_count": 8,
   "id": "0f59bfc2",
   "metadata": {},
   "outputs": [
    {
     "name": "stdout",
     "output_type": "stream",
     "text": [
      "{'oatmeal': 5, 'avocado toast': 6, 'carrot juice': 5, 'blueberry muffin': 2}\n"
     ]
    }
   ],
   "source": [
    "# overwrite existing value\n",
    "menu = {\"oatmeal\": 3, \"avocado toast\": 6, \"carrot juice\": 5, \"blueberry muffin\": 2}\n",
    "menu[\"oatmeal\"] = 5\n",
    "print(menu)"
   ]
  },
  {
   "cell_type": "markdown",
   "id": "3903a5ce",
   "metadata": {},
   "source": [
    "### Dict Comprehensions"
   ]
  },
  {
   "cell_type": "code",
   "execution_count": 9,
   "id": "98c20dcf",
   "metadata": {},
   "outputs": [
    {
     "name": "stdout",
     "output_type": "stream",
     "text": [
      "{'Jenny': 61, 'Alexus': 70, 'Sam': 67, 'Grace': 64}\n"
     ]
    }
   ],
   "source": [
    "# if we have 2 lists that we want to combine into a dictionary\n",
    "\n",
    "names = ['Jenny', 'Alexus', 'Sam', 'Grace']\n",
    "heights = [61, 70, 67, 64]\n",
    "\n",
    "students = {key:value for key, value in zip(names, heights)}\n",
    "print(students)"
   ]
  },
  {
   "cell_type": "code",
   "execution_count": 10,
   "id": "90ca54e6",
   "metadata": {},
   "outputs": [
    {
     "name": "stdout",
     "output_type": "stream",
     "text": [
      "{'New York': 99, 'London': 81, 'Sydney': 65}\n"
     ]
    }
   ],
   "source": [
    "# dictionaries can't have duplicate keys. if during list comprehension, first list has duplicate element, it will be overwritten in the process\n",
    "\n",
    "# if we have 2 lists that we want to combine into a dictionary\n",
    "cities = [\"New York\", \"London\", \"Sydney\", \"New York\"]\n",
    "temps = [ 85, 81, 65, 99]\n",
    "\n",
    "weather = { key:value for key,value in zip(cities, temps)}\n",
    "\n",
    "print(weather)"
   ]
  },
  {
   "cell_type": "markdown",
   "id": "2cd34ca0",
   "metadata": {},
   "source": [
    "### get a key"
   ]
  },
  {
   "cell_type": "code",
   "execution_count": 12,
   "id": "ace56bc1",
   "metadata": {},
   "outputs": [
    {
     "name": "stdout",
     "output_type": "stream",
     "text": [
      "828\n",
      "599\n"
     ]
    }
   ],
   "source": [
    "building_heights = {\"Burj Khalifa\": 828, \"Shanghai Tower\": 632, \"Abraj Al Bait\": 601, \"Ping An\": 599, \"Lotte World Tower\": 554.5, \"One World Trade\": 541.3}\n",
    "\n",
    "print(building_heights[\"Burj Khalifa\"])\n",
    "print(building_heights[\"Ping An\"])"
   ]
  },
  {
   "cell_type": "code",
   "execution_count": 13,
   "id": "c4e3f6d0",
   "metadata": {},
   "outputs": [],
   "source": [
    "# if we want to access a  key that does not exist in a dictionary we get an error to avoid we can use if statement\n",
    "key_to_check = \"Landmark 81\"\n",
    "\n",
    "if key_to_check in building_heights:\n",
    "  print(building_heights[\"Landmark 81\"])"
   ]
  },
  {
   "cell_type": "markdown",
   "id": "e16b0f4c",
   "metadata": {},
   "source": [
    "### .get( ) method"
   ]
  },
  {
   "cell_type": "code",
   "execution_count": 14,
   "id": "7520203d",
   "metadata": {},
   "outputs": [
    {
     "name": "stdout",
     "output_type": "stream",
     "text": [
      "632\n",
      "None\n",
      "632\n",
      "0\n",
      "No Value\n"
     ]
    }
   ],
   "source": [
    "# Dictionaries have a .get() method to search for a value instead of the my_dict[key] notation we have been using. If the key you are trying to .get() does not exist, it will return None by default.\n",
    "\n",
    "building_heights = {\"Burj Khalifa\": 828, \"Shanghai Tower\": 632, \"Abraj Al Bait\": 601, \"Ping An\": 599, \"Lotte World Tower\": 554.5, \"One World Trade\": 541.3}\n",
    "\n",
    "#this line will return 632:\n",
    "print(building_heights.get(\"Shanghai Tower\"))\n",
    "\n",
    "#this line will return None:\n",
    "print(building_heights.get(\"My House\"))\n",
    "\n",
    "# You can also specify a value to return if the key doesn’t exist. For example, we might want to return a building height of 0 if our desired building is not in the dictionary\n",
    "print(building_heights.get('Shanghai Tower', 0))\n",
    "print(building_heights.get('Mt Olympus', 0))\n",
    "print(building_heights.get('Kilimanjaro', 'No Value'))"
   ]
  },
  {
   "cell_type": "markdown",
   "id": "b4daabef",
   "metadata": {},
   "source": [
    "### delete a key"
   ]
  },
  {
   "cell_type": "code",
   "execution_count": 4,
   "id": "f6b042cd",
   "metadata": {},
   "outputs": [
    {
     "name": "stdout",
     "output_type": "stream",
     "text": [
      "Gift Basket\n",
      "{223842: 'Teddy Bear', 872921: 'Concert Tickets', 412123: 'Necklace', 298787: 'Pasta Maker'}\n"
     ]
    }
   ],
   "source": [
    "# to delete a key, we can use .pop() method\n",
    "raffle = {223842: \"Teddy Bear\", 872921: \"Concert Tickets\", 320291: \"Gift Basket\", 412123: \"Necklace\", 298787: \"Pasta Maker\"}\n",
    "\n",
    "print(raffle.pop(320291, \"No Prize\"))\n",
    "print(raffle)"
   ]
  },
  {
   "cell_type": "code",
   "execution_count": 6,
   "id": "076c41c4",
   "metadata": {},
   "outputs": [
    {
     "name": "stdout",
     "output_type": "stream",
     "text": [
      "No Prize\n",
      "No Prize\n",
      "Concert Tickets\n",
      "{223842: 'Teddy Bear', 412123: 'Necklace', 298787: 'Pasta Maker'}\n"
     ]
    }
   ],
   "source": [
    "print(raffle.pop(320291, \"No Prize\"))\n",
    "print(raffle.pop(100000, \"No Prize\"))\n",
    "print(raffle.pop(872921, \"No Prize\"))\n",
    "\n",
    "print(raffle)"
   ]
  },
  {
   "cell_type": "markdown",
   "id": "5b5ad638",
   "metadata": {},
   "source": [
    "### get all keys"
   ]
  },
  {
   "cell_type": "code",
   "execution_count": 7,
   "id": "0550a665",
   "metadata": {},
   "outputs": [
    {
     "name": "stdout",
     "output_type": "stream",
     "text": [
      "['Grace', 'Jeffrey', 'Sylvia', 'Pedro', 'Martin', 'Dina']\n"
     ]
    }
   ],
   "source": [
    "# we can access list of all keys using .list() method\n",
    "test_scores = {\"Grace\":[80, 72, 90], \"Jeffrey\":[88, 68, 81], \"Sylvia\":[80, 82, 84], \"Pedro\":[98, 96, 95], \"Martin\":[78, 80, 78], \"Dina\":[64, 60, 75]}\n",
    "\n",
    "print(list(test_scores))"
   ]
  },
  {
   "cell_type": "code",
   "execution_count": 8,
   "id": "eb5bba25",
   "metadata": {},
   "outputs": [
    {
     "name": "stdout",
     "output_type": "stream",
     "text": [
      "Grace\n",
      "Jeffrey\n",
      "Sylvia\n",
      "Pedro\n",
      "Martin\n",
      "Dina\n"
     ]
    }
   ],
   "source": [
    "# also there is .keys() method which returns a dict_keys object that we can itterate. you can not add or remove elements from dict_keys object\n",
    "\n",
    "for student in test_scores.keys():\n",
    "    print(student)"
   ]
  },
  {
   "cell_type": "markdown",
   "id": "e18dd847",
   "metadata": {},
   "source": [
    "### get all values"
   ]
  },
  {
   "cell_type": "code",
   "execution_count": 9,
   "id": "6a8d56b5",
   "metadata": {},
   "outputs": [
    {
     "name": "stdout",
     "output_type": "stream",
     "text": [
      "[80, 72, 90]\n",
      "[88, 68, 81]\n",
      "[80, 82, 84]\n",
      "[98, 96, 95]\n",
      "[78, 80, 78]\n",
      "[64, 60, 75]\n"
     ]
    }
   ],
   "source": [
    "# we can use .valus() method to create dict_values object that we can itterate.\n",
    "\n",
    "for score in test_scores.values():\n",
    "    print(score)"
   ]
  },
  {
   "cell_type": "markdown",
   "id": "59f5ceef",
   "metadata": {},
   "source": [
    "### get all values"
   ]
  },
  {
   "cell_type": "code",
   "execution_count": 10,
   "id": "af325c1e",
   "metadata": {},
   "outputs": [
    {
     "name": "stdout",
     "output_type": "stream",
     "text": [
      "Apple has a value of 184 billion dollars. \n",
      "Google has a value of 141.7 billion dollars. \n",
      "Microsoft has a value of 80 billion dollars. \n",
      "Coca-Cola has a value of 69.7 billion dollars. \n",
      "Amazon has a value of 64.8 billion dollars. \n"
     ]
    }
   ],
   "source": [
    "# we can get both keys and values using .item() method which returns dict_list object. each element of the dict_list is a tuple (key, value)\n",
    "\n",
    "biggest_brands = {\"Apple\": 184, \"Google\": 141.7, \"Microsoft\": 80, \"Coca-Cola\": 69.7, \"Amazon\": 64.8}\n",
    "\n",
    "for company, value in biggest_brands.items():\n",
    " print(company + \" has a value of \" + str(value) + \" billion dollars. \")"
   ]
  }
 ],
 "metadata": {
  "kernelspec": {
   "display_name": "Python 3 (ipykernel)",
   "language": "python",
   "name": "python3"
  },
  "language_info": {
   "codemirror_mode": {
    "name": "ipython",
    "version": 3
   },
   "file_extension": ".py",
   "mimetype": "text/x-python",
   "name": "python",
   "nbconvert_exporter": "python",
   "pygments_lexer": "ipython3",
   "version": "3.11.5"
  }
 },
 "nbformat": 4,
 "nbformat_minor": 5
}
