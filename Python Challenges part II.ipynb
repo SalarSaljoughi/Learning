{
  "metadata": {
    "kernelspec": {
      "name": "python",
      "display_name": "Python (Pyodide)",
      "language": "python"
    },
    "language_info": {
      "codemirror_mode": {
        "name": "ipython",
        "version": 3
      },
      "file_extension": ".py",
      "mimetype": "text/x-python",
      "name": "python",
      "nbconvert_exporter": "python",
      "pygments_lexer": "ipython3",
      "version": "3.11.5"
    }
  },
  "nbformat_minor": 5,
  "nbformat": 4,
  "cells": [
    {
      "id": "d5f84d68",
      "cell_type": "markdown",
      "source": "# Python Challenge - Functions and Lists",
      "metadata": {}
    },
    {
      "id": "7c28e614",
      "cell_type": "markdown",
      "source": "### append size\ncalculate the size of the list and append it to the list. then return the new list",
      "metadata": {}
    },
    {
      "id": "b4523373",
      "cell_type": "code",
      "source": "#Write your function here\ndef append_size(my_list):\n  my_list.append(len(my_list))\n  return my_list",
      "metadata": {
        "trusted": true
      },
      "outputs": [],
      "execution_count": 1
    },
    {
      "id": "7f0fadec",
      "cell_type": "code",
      "source": "# test function\nprint(append_size([23, 42, 108]))",
      "metadata": {
        "trusted": true
      },
      "outputs": [
        {
          "name": "stdout",
          "output_type": "stream",
          "text": "[23, 42, 108, 3]\n"
        }
      ],
      "execution_count": 2
    },
    {
      "id": "1281ea9a",
      "cell_type": "markdown",
      "source": "### append sum\nadd last 2 elements of the list and add it to list and repeat the process 2 more times and return the list at the end",
      "metadata": {}
    },
    {
      "id": "675720ba",
      "cell_type": "code",
      "source": "# Write your function here\ndef append_sum(my_list):\n  for i in range(3):\n    my_list.append(my_list[-1] + my_list[-2])\n    i += 1\n  return my_list",
      "metadata": {
        "trusted": true
      },
      "outputs": [],
      "execution_count": 6
    },
    {
      "id": "1f21f461",
      "cell_type": "code",
      "source": "# test function\nprint(append_sum([1, 1, 2]))",
      "metadata": {
        "trusted": true
      },
      "outputs": [
        {
          "name": "stdout",
          "output_type": "stream",
          "text": "[1, 1, 2, 3, 5, 8]\n"
        }
      ],
      "execution_count": 7
    },
    {
      "id": "1709cc50",
      "cell_type": "markdown",
      "source": "### larger list\nreturn the last element of list that has more elements, if their are same length return last element of first list",
      "metadata": {}
    },
    {
      "id": "53ec11da",
      "cell_type": "code",
      "source": "# Write your function here\ndef larger_list(my_list1, my_list2):\n  if len(my_list1) >= len(my_list2):\n    return my_list1[-1]\n  else:\n    return(my_list2[-1])",
      "metadata": {
        "trusted": true
      },
      "outputs": [],
      "execution_count": 10
    },
    {
      "id": "addeb824",
      "cell_type": "code",
      "source": "# test function\nprint(larger_list([4, 10, 2, 5], [-10, 2, 5, 10]))",
      "metadata": {
        "trusted": true
      },
      "outputs": [
        {
          "name": "stdout",
          "output_type": "stream",
          "text": "5\n"
        }
      ],
      "execution_count": 11
    },
    {
      "id": "66ae2089",
      "cell_type": "markdown",
      "source": "### more than n\ncheck if item apears more than n times in the list then return True otherwise return False",
      "metadata": {}
    },
    {
      "id": "a028ba25",
      "cell_type": "code",
      "source": "# Write your function here\ndef more_than_n(my_list, item, n):\n  if my_list.count(item) > n:\n    return True\n  else:\n    return False",
      "metadata": {
        "trusted": true
      },
      "outputs": [],
      "execution_count": 12
    },
    {
      "id": "d51ba902",
      "cell_type": "code",
      "source": "# test function\nprint(more_than_n([2, 4, 6, 2, 3, 2, 1, 2], 2, 3))",
      "metadata": {
        "trusted": true
      },
      "outputs": [
        {
          "name": "stdout",
          "output_type": "stream",
          "text": "True\n"
        }
      ],
      "execution_count": 13
    },
    {
      "id": "49f5af2f",
      "cell_type": "markdown",
      "source": "### combine sort\ncombine 2 list and sort it and return the sorted list",
      "metadata": {}
    },
    {
      "id": "10cd270d",
      "cell_type": "code",
      "source": "# Write your function here\ndef combine_sort(my_list1, my_list2):\n  new_list = my_list1 + my_list2\n  new_list.sort()\n  return new_list",
      "metadata": {
        "trusted": true
      },
      "outputs": [],
      "execution_count": 14
    },
    {
      "id": "9db6aae4",
      "cell_type": "code",
      "source": "# test function\nprint(combine_sort([4, 10, 2, 5], [-10, 2, 5, 10]))",
      "metadata": {
        "trusted": true
      },
      "outputs": [
        {
          "name": "stdout",
          "output_type": "stream",
          "text": "[-10, 2, 2, 4, 5, 5, 10, 10]\n"
        }
      ],
      "execution_count": 15
    },
    {
      "id": "a6625d95",
      "cell_type": "markdown",
      "source": "### every 3 number\ncreate a list of every 3 number from user input number to 100 (100 is inclusive)",
      "metadata": {}
    },
    {
      "id": "f340bf65",
      "cell_type": "code",
      "source": "# Write your function here\ndef every_three_nums(start):\n  return list(range(start, 101, 3))",
      "metadata": {
        "trusted": true
      },
      "outputs": [],
      "execution_count": 18
    },
    {
      "id": "0c61069a",
      "cell_type": "code",
      "source": "# test function\nprint(every_three_nums(91))",
      "metadata": {
        "trusted": true
      },
      "outputs": [
        {
          "name": "stdout",
          "output_type": "stream",
          "text": "[91, 94, 97, 100]\n"
        }
      ],
      "execution_count": 19
    },
    {
      "id": "dc8e4870-8fad-4007-a696-61a9c8e9d392",
      "cell_type": "markdown",
      "source": "### remove middle\nOur next function will remove all elements from a list with an index within a certain range.",
      "metadata": {}
    },
    {
      "id": "708c0166-abfb-418d-b8a7-8f9fbc36f7ee",
      "cell_type": "code",
      "source": "# Write your function here\ndef remove_middle(my_list, start, end):\n  return my_list[:start] + my_list[end+1:]",
      "metadata": {
        "trusted": true
      },
      "outputs": [],
      "execution_count": null
    },
    {
      "id": "305cbc87-ef75-45c6-9c6e-28f9a2b4315a",
      "cell_type": "code",
      "source": "# test function\nprint(remove_middle([4, 8, 15, 16, 23, 42], 1, 3))",
      "metadata": {
        "trusted": true
      },
      "outputs": [],
      "execution_count": null
    },
    {
      "id": "0d7e2887-7a29-40ce-a575-6d0c17d3982e",
      "cell_type": "markdown",
      "source": "### more frequent item\ncheck which item on the list is more frequent",
      "metadata": {}
    },
    {
      "id": "320bf13e-f6eb-4b1e-9e9e-eec7f752569f",
      "cell_type": "code",
      "source": "# Write your function here\ndef more_frequent_item(my_list, item1, item2):\n  if my_list.count(item1) > my_list.count(item2):\n    return item1\n  else:\n    return item2",
      "metadata": {
        "trusted": true
      },
      "outputs": [],
      "execution_count": null
    },
    {
      "id": "ca4bbe3d-8fbd-488a-860f-1ccca9af0981",
      "cell_type": "code",
      "source": "# test function\nprint(more_frequent_item([2, 3, 3, 2, 3, 2, 3, 2, 3], 2, 3))",
      "metadata": {
        "trusted": true
      },
      "outputs": [],
      "execution_count": null
    },
    {
      "id": "b35a6784-5ce2-4ea1-bf45-15a6597b471b",
      "cell_type": "markdown",
      "source": "### double index\nWe will provide a list and an index to double. This will create a new list by replacing the value at the index provided with double the original value.",
      "metadata": {}
    },
    {
      "id": "9fb4e8db-3931-49b9-b84a-ecfb7eb77a24",
      "cell_type": "code",
      "source": "# Write your function here\ndef double_index(my_list, index):\n  # Checks to see if index is too big\n  if index >= len(my_list):\n    return my_list\n  else:\n    # Gets the original list up to index\n    my_new_list = my_list[0:index]\n # Adds double the value at index to the new list \n  my_new_list.append(my_list[index]*2)\n  #  Adds the rest of the original list\n  my_new_list = my_new_list + my_list[index+1:]\n  return my_new_list",
      "metadata": {
        "trusted": true
      },
      "outputs": [],
      "execution_count": null
    },
    {
      "id": "ae586f06-1c3a-4ad6-8cbc-ae4d8d6637b7",
      "cell_type": "code",
      "source": "# test function\nprint(double_index([3, 8, -10, 12], 2))",
      "metadata": {
        "trusted": true
      },
      "outputs": [],
      "execution_count": null
    },
    {
      "id": "319c69a2-ca65-423e-9a54-a78c2b944649",
      "cell_type": "markdown",
      "source": "### middle element\nthe function will find middle element of the list. This will be different depending on whether there are an odd or even number of values. ",
      "metadata": {}
    },
    {
      "id": "eb3c9f9d-bb68-4419-a8be-22bac9883f75",
      "cell_type": "code",
      "source": "#Write your function here\ndef middle_element(my_list):\n  if len(my_list) % 2 == 0:\n    sum = my_list[int(len(my_list)/2)] + my_list[int(len(my_list)/2) - 1]\n    return sum / 2\n  else:\n    return my_list[int(len(my_list)/2)]",
      "metadata": {
        "trusted": true
      },
      "outputs": [],
      "execution_count": null
    },
    {
      "id": "5bcdced9-f7f4-48a3-9425-0b427593fadb",
      "cell_type": "code",
      "source": "# test function\nprint(middle_element([5, 2, -10, -4, 4, 5]))",
      "metadata": {
        "trusted": true
      },
      "outputs": [],
      "execution_count": null
    },
    {
      "id": "57b223d4-5eb9-4283-9302-ad67801c5be9",
      "cell_type": "code",
      "source": "",
      "metadata": {
        "trusted": true
      },
      "outputs": [],
      "execution_count": null
    }
  ]
}