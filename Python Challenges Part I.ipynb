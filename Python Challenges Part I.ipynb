{
  "metadata": {
    "kernelspec": {
      "name": "python",
      "display_name": "Python (Pyodide)",
      "language": "python"
    },
    "language_info": {
      "codemirror_mode": {
        "name": "python",
        "version": 3
      },
      "file_extension": ".py",
      "mimetype": "text/x-python",
      "name": "python",
      "nbconvert_exporter": "python",
      "pygments_lexer": "ipython3",
      "version": "3.8"
    }
  },
  "nbformat_minor": 4,
  "nbformat": 4,
  "cells": [
    {
      "cell_type": "markdown",
      "source": "# Python Challenges",
      "metadata": {}
    },
    {
      "cell_type": "markdown",
      "source": "### Over budget",
      "metadata": {}
    },
    {
      "cell_type": "code",
      "source": "# Monthly budget\nbudget = 2000",
      "metadata": {
        "trusted": true
      },
      "outputs": [],
      "execution_count": 1
    },
    {
      "cell_type": "code",
      "source": "# Monthly expenses\nfood_bill = 200\nelectricity_bill = 100\ninternet_bill = 60\nrent = 1500",
      "metadata": {
        "trusted": true
      },
      "outputs": [],
      "execution_count": 2
    },
    {
      "cell_type": "code",
      "source": "# Calculate the total amount of expenses\ntotal = food_bill + electricity_bill + internet_bill + rent",
      "metadata": {
        "trusted": true
      },
      "outputs": [],
      "execution_count": 3
    },
    {
      "cell_type": "code",
      "source": "# Check if the total is greater than the budget and store the result in over_budget\nif total > budget:\n  over_budget = True\nelse:\n  over_budget = False",
      "metadata": {
        "trusted": true
      },
      "outputs": [],
      "execution_count": 4
    },
    {
      "cell_type": "code",
      "source": "print(\"Total: \" + str(total))\nprint(\"Is it over budget? \" + str(over_budget))",
      "metadata": {
        "trusted": true
      },
      "outputs": [
        {
          "name": "stdout",
          "text": "Total: 1860\nIs it over budget? False\n",
          "output_type": "stream"
        }
      ],
      "execution_count": 5
    },
    {
      "cell_type": "markdown",
      "source": "### large power",
      "metadata": {}
    },
    {
      "cell_type": "code",
      "source": "# Write your large_power function here:\ndef large_power(base, exponent):\n    number = base ** exponent\n    if number > 5000:\n        return True\n    else:\n        return False",
      "metadata": {
        "trusted": true
      },
      "outputs": [],
      "execution_count": 25
    },
    {
      "cell_type": "code",
      "source": "# testing the functions\nprint(large_power(2, 13))\n# should print True\nprint(large_power(2, 12))\n# should print False",
      "metadata": {
        "trusted": true
      },
      "outputs": [
        {
          "name": "stdout",
          "text": "True\nFalse\n",
          "output_type": "stream"
        }
      ],
      "execution_count": 26
    },
    {
      "cell_type": "markdown",
      "source": "### Twice as large",
      "metadata": {}
    },
    {
      "cell_type": "code",
      "source": "# Write your twice_as_large function here:\ndef twice_as_large(num1, num2):\n  if num1 > 2 * num2:\n    return True\n  else:\n    return False",
      "metadata": {
        "trusted": true
      },
      "outputs": [],
      "execution_count": 27
    },
    {
      "cell_type": "code",
      "source": "# test function\nprint(twice_as_large(10, 5))\n# should print False\nprint(twice_as_large(11, 5))\n# should print True",
      "metadata": {
        "trusted": true
      },
      "outputs": [
        {
          "name": "stdout",
          "text": "False\nTrue\n",
          "output_type": "stream"
        }
      ],
      "execution_count": 28
    },
    {
      "cell_type": "markdown",
      "source": "### Divisible by 10",
      "metadata": {}
    },
    {
      "cell_type": "code",
      "source": "# Write your divisible_by_ten() function here:\ndef divisible_by_ten(num):\n  if num % 10 == 0:\n    return True\n  else:\n    return False",
      "metadata": {
        "trusted": true
      },
      "outputs": [],
      "execution_count": 29
    },
    {
      "cell_type": "code",
      "source": "# test the function\nprint(divisible_by_ten(20))\n# should print True\nprint(divisible_by_ten(25))\n# should print False",
      "metadata": {
        "trusted": true
      },
      "outputs": [
        {
          "name": "stdout",
          "text": "True\nFalse\n",
          "output_type": "stream"
        }
      ],
      "execution_count": 30
    },
    {
      "cell_type": "markdown",
      "source": "### In Range",
      "metadata": {}
    },
    {
      "cell_type": "code",
      "source": "# Write your in_range function here:\ndef in_range(num, lower, upper):\n  if num >= lower and num <= upper:\n    return True\n  else:\n    return False",
      "metadata": {
        "trusted": true
      },
      "outputs": [],
      "execution_count": 31
    },
    {
      "cell_type": "code",
      "source": "# test function\nprint(in_range(10, 10, 10))\n# should print True\nprint(in_range(5, 10, 20))\n# should print False",
      "metadata": {
        "trusted": true
      },
      "outputs": [
        {
          "name": "stdout",
          "text": "True\nFalse\n",
          "output_type": "stream"
        }
      ],
      "execution_count": 32
    },
    {
      "cell_type": "markdown",
      "source": "### Same Name",
      "metadata": {}
    },
    {
      "cell_type": "code",
      "source": "# Write your same_name function here:\ndef same_name(your_name, my_name):\n  if your_name == my_name:\n    return True\n  else:\n    return False",
      "metadata": {
        "trusted": true
      },
      "outputs": [],
      "execution_count": 33
    },
    {
      "cell_type": "code",
      "source": "# test function\nprint(same_name(\"Colby\", \"Colby\"))\n# should print True\nprint(same_name(\"Tina\", \"Amber\"))\n# should print False",
      "metadata": {
        "trusted": true
      },
      "outputs": [
        {
          "name": "stdout",
          "text": "True\nFalse\n",
          "output_type": "stream"
        }
      ],
      "execution_count": 34
    },
    {
      "cell_type": "markdown",
      "source": "### Always False",
      "metadata": {}
    },
    {
      "cell_type": "code",
      "source": "# Write your always_false function here:\ndef always_false(num):\n  if num > 10 and num < 10:\n    return True\n  else:\n    return False",
      "metadata": {
        "trusted": true
      },
      "outputs": [],
      "execution_count": 35
    },
    {
      "cell_type": "code",
      "source": "# test function\nprint(always_false(0))\n# should print False\nprint(always_false(-1))\n# should print False\nprint(always_false(1))\n# should print False",
      "metadata": {
        "trusted": true
      },
      "outputs": [
        {
          "name": "stdout",
          "text": "False\nFalse\nFalse\n",
          "output_type": "stream"
        }
      ],
      "execution_count": 36
    },
    {
      "cell_type": "markdown",
      "source": "### Movie Rating",
      "metadata": {}
    },
    {
      "cell_type": "code",
      "source": "# Write your movie_review function here:\ndef movie_review(rating):\n  if rating <= 5:\n    return \"Avoid at all costs!\"\n  elif 5 < rating < 9:\n    return \"This one was fun.\"\n  else: \n    return \"Outstanding!\" ",
      "metadata": {
        "trusted": true
      },
      "outputs": [],
      "execution_count": 39
    },
    {
      "cell_type": "code",
      "source": "# test function\nprint(movie_review(9))\n# should print \"Outstanding!\"\nprint(movie_review(4))\n# should print \"Avoid at all costs!\"\nprint(movie_review(6))\n# should print \"This one was fun.\"",
      "metadata": {
        "trusted": true
      },
      "outputs": [
        {
          "name": "stdout",
          "text": "Outstanding!\nAvoid at all costs!\nThis one was fun\n",
          "output_type": "stream"
        }
      ],
      "execution_count": 38
    },
    {
      "cell_type": "code",
      "source": "",
      "metadata": {
        "trusted": true
      },
      "outputs": [],
      "execution_count": null
    }
  ]
}