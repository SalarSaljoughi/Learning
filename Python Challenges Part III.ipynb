{
  "metadata": {
    "kernelspec": {
      "name": "python",
      "display_name": "Python (Pyodide)",
      "language": "python"
    },
    "language_info": {
      "name": ""
    }
  },
  "nbformat_minor": 4,
  "nbformat": 4,
  "cells": [
    {
      "cell_type": "markdown",
      "source": "# Python Challenges - Functions and Loops",
      "metadata": {}
    },
    {
      "cell_type": "markdown",
      "source": "### Divisible by 10",
      "metadata": {}
    },
    {
      "cell_type": "code",
      "source": "# Write your function here\ndef divisible_by_ten(nums):\n  counter = 0\n  for i in nums:\n    if i % 10 == 0:\n      counter += 1\n  return counter",
      "metadata": {
        "trusted": true
      },
      "outputs": [],
      "execution_count": null
    },
    {
      "cell_type": "code",
      "source": "# test function\nprint(divisible_by_ten([20, 25, 30, 35, 40]))",
      "metadata": {
        "trusted": true
      },
      "outputs": [],
      "execution_count": null
    },
    {
      "cell_type": "markdown",
      "source": "### Greetings\nIn this challenge, we will take a list of names and prepend the string 'Hello, ' before each name.",
      "metadata": {}
    },
    {
      "cell_type": "code",
      "source": "# Write your function here\ndef add_greetings(names):\n  new_list = []\n  for name in names:\n    new_list.append(\"Hello, \" + name)\n  return new_list",
      "metadata": {
        "trusted": true
      },
      "outputs": [],
      "execution_count": null
    },
    {
      "cell_type": "code",
      "source": "# test function\nprint(add_greetings([\"Owen\", \"Max\", \"Sophie\"]))",
      "metadata": {
        "trusted": true
      },
      "outputs": [],
      "execution_count": null
    },
    {
      "cell_type": "markdown",
      "source": "### Delete starting even number\nif list starts with even number, remove them till the first element of the list is off number",
      "metadata": {}
    },
    {
      "cell_type": "code",
      "source": "# Write your function here\ndef delete_starting_evens(my_list):\n  while (len(my_list) > 0 and my_list[0] % 2 == 0):\n    my_list = my_list[1:]\n  return my_list",
      "metadata": {
        "trusted": true
      },
      "outputs": [],
      "execution_count": null
    },
    {
      "cell_type": "code",
      "source": "# test function\nprint(delete_starting_evens([4, 8, 10, 11, 12, 15]))\nprint(delete_starting_evens([4, 8, 10]))",
      "metadata": {
        "trusted": true
      },
      "outputs": [],
      "execution_count": null
    },
    {
      "cell_type": "markdown",
      "source": "### odd_indicies\nget a list as input and only return the odd indicies",
      "metadata": {}
    },
    {
      "cell_type": "code",
      "source": "#Write your function here\ndef odd_indices(my_list):\n  new_list = []\n  for index in range(1, len(my_list), 2):\n    new_list.append(my_list[index])\n  return new_list",
      "metadata": {
        "trusted": true
      },
      "outputs": [],
      "execution_count": null
    },
    {
      "cell_type": "code",
      "source": "# test function\nprint(odd_indices([4, 3, 7, 10, 11, -2]))",
      "metadata": {
        "trusted": true
      },
      "outputs": [],
      "execution_count": null
    },
    {
      "cell_type": "markdown",
      "source": "### Exponents\nfunction must accept 2 lists as input and will be using nested loops in order to raise a list of numbers to the power of a list of other numbers. ",
      "metadata": {}
    },
    {
      "cell_type": "code",
      "source": "# Write your function here\ndef exponents(bases, powers):\n  new_list = []\n  for i in bases:\n    for j in powers:\n      new_list.append(i ** j)\n    i += 1\n    j += 1\n  return new_list  ",
      "metadata": {
        "trusted": true
      },
      "outputs": [],
      "execution_count": null
    },
    {
      "cell_type": "code",
      "source": "# test function\nprint(exponents([2, 3, 4], [1, 2, 3]))",
      "metadata": {
        "trusted": true
      },
      "outputs": [],
      "execution_count": null
    },
    {
      "cell_type": "code",
      "source": "",
      "metadata": {
        "trusted": true
      },
      "outputs": [],
      "execution_count": null
    }
  ]
}