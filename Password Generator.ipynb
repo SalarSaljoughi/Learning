{
 "cells": [
  {
   "cell_type": "markdown",
   "id": "8ef2ed9d",
   "metadata": {},
   "source": [
    "# password generator\n",
    "create a function that generates temporary password with last 3 digits of first name and last name"
   ]
  },
  {
   "cell_type": "code",
   "execution_count": 5,
   "id": "7e5eb2a5",
   "metadata": {},
   "outputs": [],
   "source": [
    "# define the function\n",
    "def password_generator(fist_name, last_name):\n",
    "  temp_pass = first_name[len(first_name)-3:] + last_name[len(last_name)-3:]\n",
    "  return temp_pass"
   ]
  },
  {
   "cell_type": "code",
   "execution_count": 6,
   "id": "b3dac283",
   "metadata": {},
   "outputs": [],
   "source": [
    "# random name\n",
    "first_name = \"Reiko\"\n",
    "last_name = \"Matsuki\""
   ]
  },
  {
   "cell_type": "code",
   "execution_count": 7,
   "id": "eff2f5e1",
   "metadata": {},
   "outputs": [
    {
     "name": "stdout",
     "output_type": "stream",
     "text": [
      "ikouki\n"
     ]
    }
   ],
   "source": [
    "# test function\n",
    "temp_password = password_generator(first_name, last_name)\n",
    "print(temp_password)"
   ]
  },
  {
   "cell_type": "code",
   "execution_count": null,
   "id": "4e64698e",
   "metadata": {},
   "outputs": [],
   "source": []
  }
 ],
 "metadata": {
  "kernelspec": {
   "display_name": "Python 3 (ipykernel)",
   "language": "python",
   "name": "python3"
  },
  "language_info": {
   "codemirror_mode": {
    "name": "ipython",
    "version": 3
   },
   "file_extension": ".py",
   "mimetype": "text/x-python",
   "name": "python",
   "nbconvert_exporter": "python",
   "pygments_lexer": "ipython3",
   "version": "3.11.5"
  }
 },
 "nbformat": 4,
 "nbformat_minor": 5
}
