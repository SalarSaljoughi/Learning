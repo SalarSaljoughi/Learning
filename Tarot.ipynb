{
 "cells": [
  {
   "cell_type": "markdown",
   "id": "ec48dde6",
   "metadata": {},
   "source": [
    "# Tarot"
   ]
  },
  {
   "cell_type": "code",
   "execution_count": 1,
   "id": "a947e101",
   "metadata": {},
   "outputs": [],
   "source": [
    "tarot = { 1: \"The Magician\", 2: \"The High Priestess\", 3: \"The Empress\", 4: \"The Emperor\", 5: \"The Hierophant\", 6: \"The Lovers\", 7: \"The Chariot\", 8: \"Strength\", 9: \"The Hermit\", 10: \"Wheel of Fortune\", 11: \"Justice\", 12: \"The Hanged Man\", 13: \"Death\", 14: \"Temperance\", 15: \"The Devil\", 16: \"The Tower\", 17: \"The Star\", 18:\t\"The Moon\", 19: \"The Sun\", 20: \"Judgement\", 21: \"The World\", 22: \"The Fool\"}"
   ]
  },
  {
   "cell_type": "code",
   "execution_count": 2,
   "id": "55bc3ca0",
   "metadata": {},
   "outputs": [],
   "source": [
    "# we are going to do a three card spread of your past, present, future\n",
    "# create empty dictionary called spread\n",
    "\n",
    "spread = {}"
   ]
  },
  {
   "cell_type": "code",
   "execution_count": 3,
   "id": "7a552327",
   "metadata": {},
   "outputs": [
    {
     "name": "stdout",
     "output_type": "stream",
     "text": [
      "{'past': 'Death'}\n"
     ]
    }
   ],
   "source": [
    "# the first card we draw is card 13, pop the value and assign it as value to key \"past\" in spread dictionary\n",
    "spread[\"past\"] = tarot.pop(13, 0)\n",
    "\n",
    "print(spread)"
   ]
  },
  {
   "cell_type": "code",
   "execution_count": 4,
   "id": "8da266a2",
   "metadata": {},
   "outputs": [
    {
     "name": "stdout",
     "output_type": "stream",
     "text": [
      "{'past': 'Death', 'present': 'The Fool'}\n"
     ]
    }
   ],
   "source": [
    "# the second card you draw is card 22. pop the value and assign it as value to key \"present\" in spread dictionary\n",
    "spread[\"present\"] = tarot.pop(22, 0)\n",
    "\n",
    "print(spread)"
   ]
  },
  {
   "cell_type": "code",
   "execution_count": 5,
   "id": "e81d0790",
   "metadata": {},
   "outputs": [
    {
     "name": "stdout",
     "output_type": "stream",
     "text": [
      "{'past': 'Death', 'present': 'The Fool', 'future': 'Wheel of Fortune'}\n"
     ]
    }
   ],
   "source": [
    "# the third card you draw is card 10. pop the value and assign it as value to key \"future\" in spread dictionary\n",
    "spread[\"future\"] = tarot.pop(10, 0)\n",
    "\n",
    "print(spread)"
   ]
  },
  {
   "cell_type": "code",
   "execution_count": 6,
   "id": "3a91fc8a",
   "metadata": {},
   "outputs": [
    {
     "name": "stdout",
     "output_type": "stream",
     "text": [
      "your past is the Death card.\n",
      "your present is the The Fool card.\n",
      "your future is the Wheel of Fortune card.\n"
     ]
    }
   ],
   "source": [
    "# itterate through the items in spread dictionary and print the statement\n",
    "\n",
    "for time, card in spread.items():\n",
    "    print(f\"your {time} is the {card} card.\")"
   ]
  }
 ],
 "metadata": {
  "kernelspec": {
   "display_name": "Python 3 (ipykernel)",
   "language": "python",
   "name": "python3"
  },
  "language_info": {
   "codemirror_mode": {
    "name": "ipython",
    "version": 3
   },
   "file_extension": ".py",
   "mimetype": "text/x-python",
   "name": "python",
   "nbconvert_exporter": "python",
   "pygments_lexer": "ipython3",
   "version": "3.11.5"
  }
 },
 "nbformat": 4,
 "nbformat_minor": 5
}
