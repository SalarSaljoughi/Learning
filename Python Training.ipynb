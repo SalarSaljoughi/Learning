{
 "cells": [
  {
   "cell_type": "markdown",
   "id": "54267398",
   "metadata": {},
   "source": [
    "# Python Basics\n",
    "### print function"
   ]
  },
  {
   "cell_type": "code",
   "execution_count": 1,
   "id": "a37955eb",
   "metadata": {},
   "outputs": [
    {
     "name": "stdout",
     "output_type": "stream",
     "text": [
      "Hello World!\n"
     ]
    }
   ],
   "source": [
    "print(\"Hello World!\")"
   ]
  },
  {
   "cell_type": "markdown",
   "id": "59e98568",
   "metadata": {},
   "source": [
    "### variables"
   ]
  },
  {
   "cell_type": "code",
   "execution_count": 2,
   "id": "fa2fd021",
   "metadata": {},
   "outputs": [
    {
     "name": "stdout",
     "output_type": "stream",
     "text": [
      "Hello there\n",
      "Hasta la vista\n",
      "5\n"
     ]
    }
   ],
   "source": [
    "# strings - Greeting\n",
    "message_string = \"Hello there\"\n",
    "print(message_string)\n",
    "\n",
    "# Strings - Farewell\n",
    "message_string = \"Hasta la vista\"\n",
    "print(message_string)\n",
    "\n",
    "# int & float\n",
    "an_int = 2\n",
    "a_float = 2.1\n",
    "\n",
    "print(an_int + 3)"
   ]
  },
  {
   "cell_type": "markdown",
   "id": "3104cca2",
   "metadata": {},
   "source": [
    "### calculations"
   ]
  },
  {
   "cell_type": "code",
   "execution_count": 3,
   "id": "9f1cb958",
   "metadata": {},
   "outputs": [
    {
     "name": "stdout",
     "output_type": "stream",
     "text": [
      "7\n",
      "0\n",
      "15\n",
      "3.0\n",
      "27\n",
      "1\n",
      "5\n"
     ]
    }
   ],
   "source": [
    "print(3 + 4) # Addition\n",
    "print(5 - 5) # Subtraction\n",
    "print(3 * 5) # Multiplication\n",
    "print(12 / 4) # Division\n",
    "print(3 ** 3) # Exponentiation\n",
    "print(15 % 2) # Modulus\n",
    "print(15 // 3) # Floor division"
   ]
  },
  {
   "cell_type": "code",
   "execution_count": 4,
   "id": "8bb3b9f4",
   "metadata": {},
   "outputs": [
    {
     "name": "stdout",
     "output_type": "stream",
     "text": [
      "15\n"
     ]
    }
   ],
   "source": [
    "a = 5\n",
    "b = 10\n",
    "print(a + b)"
   ]
  },
  {
   "cell_type": "markdown",
   "id": "4dba5b7c",
   "metadata": {},
   "source": [
    "### concatination"
   ]
  },
  {
   "cell_type": "code",
   "execution_count": 5,
   "id": "7b915b9e",
   "metadata": {},
   "outputs": [
    {
     "name": "stdout",
     "output_type": "stream",
     "text": [
      "Hey there!How are you doing?\n",
      "Hey there! How are you doing?\n"
     ]
    }
   ],
   "source": [
    "# process of combining strings called concatination\n",
    "greeting_text = \"Hey there!\"\n",
    "question_text = \"How are you doing?\"\n",
    "full_text = greeting_text + question_text\n",
    "\n",
    "print(full_text)\n",
    "\n",
    "full_text = greeting_text + \" \" + question_text\n",
    "\n",
    "# Prints \"Hey there! How are you doing?\"\n",
    "print(full_text)"
   ]
  },
  {
   "cell_type": "code",
   "execution_count": 6,
   "id": "2e001760",
   "metadata": {},
   "outputs": [
    {
     "name": "stdout",
     "output_type": "stream",
     "text": [
      "I am 10 years old today!\n",
      "I am  10  years old today!\n"
     ]
    }
   ],
   "source": [
    "birthday_string = \"I am \"\n",
    "age = 10\n",
    "birthday_string_2 = \" years old today!\"\n",
    "\n",
    "# Concatenating an integer with strings is possible if we turn the integer into a string first\n",
    "full_birthday_string = birthday_string + str(age) + birthday_string_2\n",
    "print(full_birthday_string)\n",
    "\n",
    "# If we just want to print an integer we can pass a variable as an argument to print() regardless of whether it is a string.\n",
    "print(birthday_string, age, birthday_string_2)"
   ]
  },
  {
   "cell_type": "markdown",
   "id": "9a443c62",
   "metadata": {},
   "source": [
    "### updating variables"
   ]
  },
  {
   "cell_type": "code",
   "execution_count": 7,
   "id": "7de60d04",
   "metadata": {},
   "outputs": [
    {
     "name": "stdout",
     "output_type": "stream",
     "text": [
      "14\n"
     ]
    }
   ],
   "source": [
    "# First we have a variable with a number saved\n",
    "number_of_miles_hiked = 12\n",
    "\n",
    "# Then we need to update that variable Let's say we hike another two miles today\n",
    "number_of_miles_hiked += 2\n",
    "\n",
    "# The new value is the old value Plus the number after the plus-equals\n",
    "print(number_of_miles_hiked)"
   ]
  },
  {
   "cell_type": "code",
   "execution_count": 8,
   "id": "d3568318",
   "metadata": {},
   "outputs": [
    {
     "name": "stdout",
     "output_type": "stream",
     "text": [
      "What an amazing time to walk through nature! #nofilter #blessed\n"
     ]
    }
   ],
   "source": [
    "hike_caption = \"What an amazing time to walk through nature!\"\n",
    "\n",
    "# Almost forgot the hashtags!\n",
    "hike_caption += \" #nofilter\"\n",
    "hike_caption += \" #blessed\"\n",
    "\n",
    "print(hike_caption)"
   ]
  },
  {
   "cell_type": "markdown",
   "id": "74720583",
   "metadata": {},
   "source": [
    "### multiline strings"
   ]
  },
  {
   "cell_type": "code",
   "execution_count": 9,
   "id": "c0db4c6a",
   "metadata": {},
   "outputs": [
    {
     "name": "stdout",
     "output_type": "stream",
     "text": [
      "\n",
      "Poets to come! orators, singers, musicians to come!\n",
      "Not to-day is to justify me and answer what I am for,\n",
      "But you, a new brood, native, athletic, continental, greater than\n",
      "  before known,\n",
      "Arouse! for you must justify me.\n",
      "\n"
     ]
    }
   ],
   "source": [
    "# By using three quote-marks (\"\"\" or ''') instead of one, we tell the program that the string doesn’t end until the next triple-quote. \n",
    "# This method is useful if the string being defined contains a lot of quotation marks and we want to be sure we don’t close it prematurely.\n",
    "\n",
    "leaves_of_grass = \"\"\"\n",
    "Poets to come! orators, singers, musicians to come!\n",
    "Not to-day is to justify me and answer what I am for,\n",
    "But you, a new brood, native, athletic, continental, greater than\n",
    "  before known,\n",
    "Arouse! for you must justify me.\n",
    "\"\"\"\n",
    "\n",
    "print(leaves_of_grass)"
   ]
  },
  {
   "cell_type": "markdown",
   "id": "8a0cc2e7",
   "metadata": {},
   "source": [
    "## control flow\n",
    "### if statement"
   ]
  },
  {
   "cell_type": "code",
   "execution_count": 10,
   "id": "2d2abc7a",
   "metadata": {},
   "outputs": [
    {
     "name": "stdout",
     "output_type": "stream",
     "text": [
      "I know it is you, Dave! Go away!\n"
     ]
    }
   ],
   "source": [
    "# Enter a user name here, make sure to make it a string\n",
    "user_name = \"angela_catlady_87\"\n",
    "\n",
    "if user_name == \"Dave\":\n",
    "  print(\"Get off my computer Dave!\")\n",
    "if user_name == \"angela_catlady_87\":\n",
    "  print(\"I know it is you, Dave! Go away!\")"
   ]
  },
  {
   "cell_type": "code",
   "execution_count": 11,
   "id": "b8d09f90",
   "metadata": {},
   "outputs": [
    {
     "name": "stdout",
     "output_type": "stream",
     "text": [
      "You meet the requirements to graduate!\n"
     ]
    }
   ],
   "source": [
    "# and logical operator\n",
    "credits = 120\n",
    "gpa = 3.4\n",
    "\n",
    "if credits >= 120 and gpa >=2.0:\n",
    "  print(\"You meet the requirements to graduate!\")"
   ]
  },
  {
   "cell_type": "code",
   "execution_count": 12,
   "id": "7d46eaee",
   "metadata": {},
   "outputs": [
    {
     "name": "stdout",
     "output_type": "stream",
     "text": [
      "You have met at least one of the requirements.\n"
     ]
    }
   ],
   "source": [
    "# or logical operator\n",
    "credits = 118\n",
    "gpa = 2.0\n",
    "\n",
    "if credits >= 120 or gpa >= 2.0:\n",
    "  print(\"You have met at least one of the requirements.\")"
   ]
  },
  {
   "cell_type": "code",
   "execution_count": 13,
   "id": "5b680f00",
   "metadata": {},
   "outputs": [
    {
     "name": "stdout",
     "output_type": "stream",
     "text": [
      "Your GPA is not high enough to graduate.\n"
     ]
    }
   ],
   "source": [
    "# not logical operator\n",
    "credits = 120\n",
    "gpa = 1.8\n",
    "\n",
    "if not credits >= 120:\n",
    "  print(\"You do not have enough credits to graduate\")\n",
    "elif (not gpa >= 2.0):\n",
    "  print(\"Your GPA is not high enough to graduate.\")\n",
    "else:\n",
    "  print(\"You do not meet either requirement to graduate!\")"
   ]
  },
  {
   "cell_type": "markdown",
   "id": "22a655af",
   "metadata": {},
   "source": [
    "## Loops\n",
    "### for loops"
   ]
  },
  {
   "cell_type": "code",
   "execution_count": 14,
   "id": "c0398aa7",
   "metadata": {},
   "outputs": [
    {
     "name": "stdout",
     "output_type": "stream",
     "text": [
      "milk\n",
      "sugar\n",
      "vanilla extract\n",
      "dough\n",
      "chocolate\n"
     ]
    }
   ],
   "source": [
    "# With for loops, on each iteration, we will be able to perform an action on each element of the collection.\n",
    "# If we ever forget to indent, we’ll get an IndentationError or unexpected behavior.\n",
    "\n",
    "\n",
    "ingredients = [\"milk\", \"sugar\", \"vanilla extract\", \"dough\", \"chocolate\"]\n",
    "\n",
    "for ingredient in ingredients:\n",
    "  print(ingredient)"
   ]
  },
  {
   "cell_type": "code",
   "execution_count": 15,
   "id": "c71c6bd6",
   "metadata": {},
   "outputs": [
    {
     "name": "stdout",
     "output_type": "stream",
     "text": [
      "milk\n",
      "sugar\n",
      "vanilla extract\n",
      "dough\n",
      "chocolate\n"
     ]
    }
   ],
   "source": [
    "# elegent way to write for loops\n",
    "for ingredient in ingredients: print(ingredient)"
   ]
  },
  {
   "cell_type": "code",
   "execution_count": 16,
   "id": "de609285",
   "metadata": {},
   "outputs": [
    {
     "name": "stdout",
     "output_type": "stream",
     "text": [
      "Learning Loops!\n",
      "Learning Loops!\n",
      "Learning Loops!\n",
      "Learning Loops!\n",
      "Learning Loops!\n",
      "Learning Loops!\n",
      "Loop is on iteration number 1\n",
      "Loop is on iteration number 2\n",
      "Loop is on iteration number 3\n",
      "Loop is on iteration number 4\n",
      "Loop is on iteration number 5\n",
      "Loop is on iteration number 6\n"
     ]
    }
   ],
   "source": [
    "# if we want to repeat for certain amount of time we use for loop using range function\n",
    "# for <temporary variable> in <list of length n>:\n",
    "#   action\n",
    "\n",
    "for temp in range(6):\n",
    "    print(\"Learning Loops!\")\n",
    "    \n",
    "for temp in range(6):\n",
    "  print(\"Loop is on iteration number \" + str(temp + 1))\n"
   ]
  },
  {
   "cell_type": "markdown",
   "id": "a5a1c3ae",
   "metadata": {},
   "source": [
    "### while loops"
   ]
  },
  {
   "cell_type": "code",
   "execution_count": 17,
   "id": "11fe0466",
   "metadata": {},
   "outputs": [
    {
     "name": "stdout",
     "output_type": "stream",
     "text": [
      "0\n",
      "1\n",
      "2\n",
      "3\n"
     ]
    }
   ],
   "source": [
    "# while loops are form of indefinite iteration. A while loop performs a set of instructions as long as a given condition is true.\n",
    "count = 0\n",
    "while count <= 3:\n",
    "  # Loop Body\n",
    "  print(count)\n",
    "  count += 1"
   ]
  },
  {
   "cell_type": "code",
   "execution_count": 18,
   "id": "79a45998",
   "metadata": {},
   "outputs": [
    {
     "name": "stdout",
     "output_type": "stream",
     "text": [
      "0\n",
      "1\n",
      "2\n",
      "3\n"
     ]
    }
   ],
   "source": [
    "# elegent way of writing while loop\n",
    "count = 0\n",
    "while count <= 3: print(count); count += 1"
   ]
  },
  {
   "cell_type": "code",
   "execution_count": 19,
   "id": "3f4cd04e",
   "metadata": {},
   "outputs": [
    {
     "name": "stdout",
     "output_type": "stream",
     "text": [
      "10\n",
      "9\n",
      "8\n",
      "7\n",
      "6\n",
      "5\n",
      "4\n",
      "3\n",
      "2\n",
      "1\n",
      "0\n",
      "we have liftoff!\n"
     ]
    }
   ],
   "source": [
    "countdown = 10\n",
    "while countdown >= 0:\n",
    "  print(countdown)\n",
    "  countdown -= 1\n",
    "print(\"we have liftoff!\")"
   ]
  },
  {
   "cell_type": "code",
   "execution_count": 20,
   "id": "8baa0943",
   "metadata": {},
   "outputs": [
    {
     "name": "stdout",
     "output_type": "stream",
     "text": [
      "milk\n",
      "sugar\n",
      "vanilla extract\n",
      "dough\n",
      "chocolate\n"
     ]
    }
   ],
   "source": [
    "# while loops with list - first we need to fine the list length and compare\n",
    "length = len(ingredients)\n",
    "index = 0\n",
    "\n",
    "while index < length:\n",
    "  print(ingredients[index])\n",
    "  index += 1"
   ]
  },
  {
   "cell_type": "markdown",
   "id": "529d36f4",
   "metadata": {},
   "source": [
    "### infinite loops"
   ]
  },
  {
   "cell_type": "code",
   "execution_count": 21,
   "id": "0c85fd31",
   "metadata": {},
   "outputs": [],
   "source": [
    "# A loop that never terminates is called an infinite loop. \n",
    "# my_favorite_numbers = [4, 8, 15, 16, 42]\n",
    "\n",
    "# for number in my_favorite_numbers:\n",
    "#   my_favorite_numbers.append(1)\n",
    "\n",
    "# if we encounter infinite loop, we can terminate with control + c"
   ]
  },
  {
   "cell_type": "markdown",
   "id": "f60555bd",
   "metadata": {},
   "source": [
    "### loop conotrol: Break"
   ]
  },
  {
   "cell_type": "code",
   "execution_count": 22,
   "id": "467d1b27",
   "metadata": {},
   "outputs": [
    {
     "name": "stdout",
     "output_type": "stream",
     "text": [
      "Found it\n"
     ]
    }
   ],
   "source": [
    "items_on_sale = [\"blue shirt\", \"striped socks\", \"knit dress\", \"red headband\", \"dinosaur onesie\"]\n",
    "for item in items_on_sale:\n",
    "    if item == \"knit dress\":\n",
    "        print(\"Found it\")\n",
    "# this loop will continue even after it prints the statement, if we have many elements this is waste of time and memory    "
   ]
  },
  {
   "cell_type": "code",
   "execution_count": 23,
   "id": "e5d685f5",
   "metadata": {},
   "outputs": [
    {
     "name": "stdout",
     "output_type": "stream",
     "text": [
      "Checking the sale list!\n",
      "blue shirt\n",
      "striped socks\n",
      "knit dress\n",
      "End of search!\n"
     ]
    }
   ],
   "source": [
    "# better way to write above loop\n",
    "items_on_sale = [\"blue shirt\", \"striped socks\", \"knit dress\", \"red headband\", \"dinosaur onesie\"]\n",
    "\n",
    "print(\"Checking the sale list!\")\n",
    "\n",
    "for item in items_on_sale:\n",
    "  print(item)\n",
    "  if item == \"knit dress\":\n",
    "    break\n",
    "\n",
    "print(\"End of search!\")"
   ]
  },
  {
   "cell_type": "markdown",
   "id": "aefdece4",
   "metadata": {},
   "source": [
    "### loop control: Continue"
   ]
  },
  {
   "cell_type": "code",
   "execution_count": 24,
   "id": "05b5edbb",
   "metadata": {},
   "outputs": [
    {
     "name": "stdout",
     "output_type": "stream",
     "text": [
      "1\n",
      "2\n",
      "4\n",
      "5\n",
      "2\n"
     ]
    }
   ],
   "source": [
    "# continue will be used to skip current iteration of the loop\n",
    "big_number_list = [1, 2, -1, 4, -5, 5, 2, -9]\n",
    "\n",
    "for i in big_number_list:\n",
    "  if i <= 0:\n",
    "    continue\n",
    "  print(i)"
   ]
  },
  {
   "cell_type": "markdown",
   "id": "30bbcf65",
   "metadata": {},
   "source": [
    "### nested loops"
   ]
  },
  {
   "cell_type": "code",
   "execution_count": 25,
   "id": "4b1729d3",
   "metadata": {},
   "outputs": [
    {
     "name": "stdout",
     "output_type": "stream",
     "text": [
      "['Ava', 'Samantha', 'James']\n",
      "['Lucille', 'Zed']\n",
      "['Edgar', 'Gabriel']\n"
     ]
    }
   ],
   "source": [
    "project_teams = [[\"Ava\", \"Samantha\", \"James\"], [\"Lucille\", \"Zed\"], [\"Edgar\", \"Gabriel\"]]\n",
    "for team in project_teams:\n",
    "  print(team)"
   ]
  },
  {
   "cell_type": "code",
   "execution_count": 26,
   "id": "890f5cfc",
   "metadata": {},
   "outputs": [
    {
     "name": "stdout",
     "output_type": "stream",
     "text": [
      "Ava\n",
      "Samantha\n",
      "James\n",
      "Lucille\n",
      "Zed\n",
      "Edgar\n",
      "Gabriel\n"
     ]
    }
   ],
   "source": [
    "# Loop through each sublist\n",
    "for team in project_teams:\n",
    "  # Loop elements in each sublist\n",
    "  for student in team:\n",
    "    print(student)"
   ]
  },
  {
   "cell_type": "markdown",
   "id": "43c490f0",
   "metadata": {},
   "source": [
    "## tuples"
   ]
  },
  {
   "cell_type": "code",
   "execution_count": 27,
   "id": "af4d9e5c",
   "metadata": {},
   "outputs": [
    {
     "name": "stdout",
     "output_type": "stream",
     "text": [
      "Salar\n",
      "30\n"
     ]
    }
   ],
   "source": [
    "# you can store different data types and they are ordered but immutable (can not be changed)\n",
    "my_info = (\"Salar\", 30, \"programmer\")\n",
    "print(my_info[0])\n",
    "print(my_info[1])"
   ]
  },
  {
   "cell_type": "markdown",
   "id": "fab5d32f",
   "metadata": {},
   "source": [
    "### tuple unpacking"
   ]
  },
  {
   "cell_type": "code",
   "execution_count": 28,
   "id": "e8d7aab4",
   "metadata": {},
   "outputs": [
    {
     "name": "stdout",
     "output_type": "stream",
     "text": [
      "Salar\n",
      "programmer\n"
     ]
    }
   ],
   "source": [
    "name, age, occupation = my_info\n",
    "print(name)\n",
    "print(occupation)"
   ]
  },
  {
   "cell_type": "code",
   "execution_count": 29,
   "id": "c5e2c938",
   "metadata": {},
   "outputs": [
    {
     "data": {
      "text/plain": [
       "(4,)"
      ]
     },
     "execution_count": 29,
     "metadata": {},
     "output_type": "execute_result"
    }
   ],
   "source": [
    "# if we want to create one element tuple\n",
    "one_element_tuple = (4,)\n",
    "one_element_tuple"
   ]
  },
  {
   "cell_type": "markdown",
   "id": "d9002103",
   "metadata": {},
   "source": [
    "## lists"
   ]
  },
  {
   "cell_type": "code",
   "execution_count": 30,
   "id": "f1b875b4",
   "metadata": {},
   "outputs": [],
   "source": [
    "# lists can contain any data type\n",
    "mixed_list_common = [\"Mia\", 27, False, 0.5]\n",
    "\n",
    "# empty list\n",
    "empty_list = []"
   ]
  },
  {
   "cell_type": "code",
   "execution_count": 31,
   "id": "aa23f014",
   "metadata": {},
   "outputs": [
    {
     "name": "stdout",
     "output_type": "stream",
     "text": [
      "['hallway', 11.25, 'kitchen', 18.0, 'living room', 20.0, 'bedroom', 10.75, 'bathroom', 9.5]\n",
      "[['hallway', 11.25], ['kitchen', 18.0], ['living room', 20.0], ['bedroom', 10.75], ['bathroom', 9.5]]\n"
     ]
    }
   ],
   "source": [
    "# House Areas\n",
    "hall = 11.25\n",
    "kit = 18.0\n",
    "liv = 20.0\n",
    "bed = 10.75\n",
    "bath = 9.50\n",
    "\n",
    "# creating list of areas\n",
    "areas = [\"hallway\", hall,\n",
    "         \"kitchen\", kit,\n",
    "         \"living room\", liv,\n",
    "         \"bedroom\", bed,\n",
    "         \"bathroom\", bath]\n",
    "\n",
    "print(areas)\n",
    "\n",
    "# creating list of list\n",
    "house = [[\"hallway\", hall],\n",
    "         [\"kitchen\", kit],\n",
    "         [\"living room\", liv],\n",
    "         [\"bedroom\", bed],\n",
    "         [\"bathroom\", bath]]\n",
    "\n",
    "print(house)"
   ]
  },
  {
   "cell_type": "markdown",
   "id": "6821bb91",
   "metadata": {},
   "source": [
    "### list methods"
   ]
  },
  {
   "cell_type": "code",
   "execution_count": 32,
   "id": "dbf45073",
   "metadata": {},
   "outputs": [
    {
     "name": "stdout",
     "output_type": "stream",
     "text": [
      "[1, 2, 3, 4, 5]\n"
     ]
    }
   ],
   "source": [
    "# .append()\n",
    "\n",
    "example_list = [1, 2, 3, 4]\n",
    "\n",
    "example_list.append(5)\n",
    "print(example_list)"
   ]
  },
  {
   "cell_type": "code",
   "execution_count": 33,
   "id": "94dd5514",
   "metadata": {},
   "outputs": [
    {
     "name": "stdout",
     "output_type": "stream",
     "text": [
      "[1, 2, 3, 4]\n"
     ]
    }
   ],
   "source": [
    "# .remove()\n",
    "\n",
    "# if the element we want to remove has duplicates, remove method only removes the first instance.\n",
    "# if we try to remove element that does not exist we get index error or Value error\n",
    "example_list.remove(5)\n",
    "print(example_list)"
   ]
  },
  {
   "cell_type": "code",
   "execution_count": 34,
   "id": "b63c1d94",
   "metadata": {},
   "outputs": [
    {
     "name": "stdout",
     "output_type": "stream",
     "text": [
      "['cake', 'cookie', 'bread', 'buscuit', 'tart']\n"
     ]
    }
   ],
   "source": [
    "# append only adds one items at a time, if want to add multiple items we can use + (concatenation)\n",
    "items_sold = [\"cake\", \"cookie\", \"bread\"]\n",
    "\n",
    "# we want to add \"buscuit\" and \"tart\" to the list\n",
    "items_sold_new = items_sold + [\"buscuit\", \"tart\"]\n",
    "print(items_sold_new)"
   ]
  },
  {
   "cell_type": "code",
   "execution_count": 35,
   "id": "f2b3a589",
   "metadata": {},
   "outputs": [
    {
     "name": "stdout",
     "output_type": "stream",
     "text": [
      "['Karla', 'Maxium', 'Vikor', 'Martim', 'Isabella']\n"
     ]
    }
   ],
   "source": [
    "# .insert() method\n",
    "\n",
    "store_line = [\"Karla\", \"Maxium\", \"Martim\", \"Isabella\"]\n",
    "\n",
    "store_line.insert(2, \"Vikor\")\n",
    "print(store_line) "
   ]
  },
  {
   "cell_type": "code",
   "execution_count": 36,
   "id": "ca846c3f",
   "metadata": {},
   "outputs": [
    {
     "name": "stdout",
     "output_type": "stream",
     "text": [
      "['Python', 'Data Structures', 'Balloon Making', 'Algorithms']\n",
      "Clowns 101\n",
      "['Python', 'Data Structures', 'Algorithms']\n"
     ]
    }
   ],
   "source": [
    "# .pop() removing by index\n",
    "# Passing in an index that does not exist or calling .pop() on an empty list will both result in an IndexError.\n",
    "\n",
    "cs_topics = [\"Python\", \"Data Structures\", \"Balloon Making\", \"Algorithms\", \"Clowns 101\"]\n",
    "\n",
    "removed_element = cs_topics.pop()\n",
    "print(cs_topics)\n",
    "print(removed_element)\n",
    "\n",
    "cs_topics.pop(2)\n",
    "print(cs_topics)"
   ]
  },
  {
   "cell_type": "code",
   "execution_count": 37,
   "id": "69cc77bf",
   "metadata": {},
   "outputs": [
    {
     "name": "stdout",
     "output_type": "stream",
     "text": [
      "<class 'range'>\n",
      "[0, 1, 2, 3, 4, 5, 6, 7, 8, 9]\n",
      "[2, 3, 4, 5, 6, 7, 8]\n",
      "[2, 4, 6, 8]\n",
      "[1, 11, 21, 31, 41, 51, 61, 71, 81, 91]\n"
     ]
    }
   ],
   "source": [
    "# range function / list function\n",
    "\n",
    "# this below creats range object\n",
    "my_range = range(10)\n",
    "print(type(my_range))\n",
    "\n",
    "# to turn this object to list, we use list funtion\n",
    "print(list(my_range))\n",
    "\n",
    "# if we enter one number to range function, the range starts at zero, if we want to start on number other that zero, we need to enter 2 numbers\n",
    "my_list = range(2, 9)\n",
    "print(list(my_list))\n",
    "\n",
    "# if we enter 3 numbers in range function, we can create list that skips numbers\n",
    "my_range2 = range(2, 9, 2)\n",
    "print(list(my_range2))\n",
    "\n",
    "my_range3 = range(1, 100, 10)\n",
    "print(list(my_range3))"
   ]
  },
  {
   "cell_type": "code",
   "execution_count": 38,
   "id": "e4c4b5b1",
   "metadata": {},
   "outputs": [
    {
     "name": "stdout",
     "output_type": "stream",
     "text": [
      "5\n"
     ]
    }
   ],
   "source": [
    "# len() function\n",
    "\n",
    "my_list = [1, 2, 3, 4, 5]\n",
    "\n",
    "print(len(my_list))"
   ]
  },
  {
   "cell_type": "code",
   "execution_count": 39,
   "id": "bcd08f66",
   "metadata": {},
   "outputs": [
    {
     "name": "stdout",
     "output_type": "stream",
     "text": [
      "4\n"
     ]
    }
   ],
   "source": [
    "# .count() method to count occurances of an item on the list\n",
    "letters = [\"m\", \"i\", \"s\", \"s\", \"i\", \"s\", \"s\", \"i\", \"p\", \"p\", \"i\"]\n",
    "num_i = letters.count(\"i\")\n",
    "print(num_i)"
   ]
  },
  {
   "cell_type": "code",
   "execution_count": 40,
   "id": "17272198",
   "metadata": {},
   "outputs": [
    {
     "name": "stdout",
     "output_type": "stream",
     "text": [
      "['Angel', 'Buffy', 'Giles', 'Willow', 'Xander']\n",
      "['Xander', 'Willow', 'Giles', 'Buffy', 'Angel']\n"
     ]
    }
   ],
   "source": [
    "# .sort() method for sorting list\n",
    "names = [\"Xander\", \"Buffy\", \"Angel\", \"Willow\", \"Giles\"]\n",
    "\n",
    "names.sort()\n",
    "print(names)\n",
    "\n",
    "names.sort(reverse=True)\n",
    "print(names)"
   ]
  },
  {
   "cell_type": "code",
   "execution_count": 41,
   "id": "1fa91670",
   "metadata": {},
   "outputs": [
    {
     "name": "stdout",
     "output_type": "stream",
     "text": [
      "['Angel', 'Buffy', 'Giles', 'Willow', 'Xander']\n",
      "['Xander', 'Buffy', 'Angel', 'Willow', 'Giles']\n"
     ]
    }
   ],
   "source": [
    "# sorted() function\n",
    "# difference between .sort() method and sorted function is the method modifies the list but the function generates new list\n",
    "names = [\"Xander\", \"Buffy\", \"Angel\", \"Willow\", \"Giles\"]\n",
    "\n",
    "sorted_names = sorted(names)\n",
    "print(sorted_names)\n",
    "print(names)"
   ]
  },
  {
   "cell_type": "markdown",
   "id": "2abf2ceb",
   "metadata": {},
   "source": [
    "### accessing list elements"
   ]
  },
  {
   "cell_type": "code",
   "execution_count": 42,
   "id": "a8505c37",
   "metadata": {},
   "outputs": [
    {
     "name": "stdout",
     "output_type": "stream",
     "text": [
      "Pam\n"
     ]
    }
   ],
   "source": [
    "# python list start at index zero\n",
    "employees = [\"Michael\", \"Dwight\", \"Jim\", \"Pam\", \"Ryan\", \"Andy\", \"Robert\"]\n",
    "\n",
    "employee_four = employees[3]\n",
    "print(employee_four)\n",
    "\n",
    "# print(employees[8])\n",
    "# we get index error because index 8 does not exist"
   ]
  },
  {
   "cell_type": "code",
   "execution_count": 43,
   "id": "1629d455",
   "metadata": {},
   "outputs": [
    {
     "name": "stdout",
     "output_type": "stream",
     "text": [
      "cereal\n",
      "cereal\n"
     ]
    }
   ],
   "source": [
    "# negative index\n",
    "shopping_list = [\"eggs\", \"butter\", \"milk\", \"cucumbers\", \"juice\", \"cereal\"]\n",
    "\n",
    "last_element = shopping_list[-1]\n",
    "index5_element = shopping_list[5]\n",
    "\n",
    "print(last_element)\n",
    "print(index5_element)"
   ]
  },
  {
   "cell_type": "code",
   "execution_count": 44,
   "id": "5d50fc69",
   "metadata": {},
   "outputs": [
    {
     "name": "stdout",
     "output_type": "stream",
     "text": [
      "['b', 'c', 'd', 'e', 'f']\n"
     ]
    }
   ],
   "source": [
    "# list slicing list[start: end] - end is the index we want + 1\n",
    "\n",
    "letters = [\"a\", \"b\", \"c\", \"d\", \"e\", \"f\", \"g\"]\n",
    "# we want letter b to f\n",
    "sliced_list = letters[1:6]\n",
    "print(sliced_list)"
   ]
  },
  {
   "cell_type": "code",
   "execution_count": 45,
   "id": "81956efe",
   "metadata": {},
   "outputs": [
    {
     "name": "stdout",
     "output_type": "stream",
     "text": [
      "['apple', 'cherry', 'pineapple']\n",
      "['orange', 'mango']\n"
     ]
    }
   ],
   "source": [
    "# slicing for first n elements list[:n]\n",
    "fruits = [\"apple\", \"cherry\", \"pineapple\", \"orange\", \"mango\"]\n",
    "print(fruits[:3])\n",
    "\n",
    "# accessing last n element list[-n:]\n",
    "print(fruits[-2:])"
   ]
  },
  {
   "cell_type": "markdown",
   "id": "14684d30",
   "metadata": {},
   "source": [
    "### modifying elements"
   ]
  },
  {
   "cell_type": "code",
   "execution_count": 46,
   "id": "82755033",
   "metadata": {},
   "outputs": [
    {
     "name": "stdout",
     "output_type": "stream",
     "text": [
      "['Tomatoes', 'Green Beans', 'Strawberries', 'Grapes']\n"
     ]
    }
   ],
   "source": [
    "# replacing cauliflower with straberries\n",
    "garden = [\"Tomatoes\", \"Green Beans\", \"Cauliflower\", \"Grapes\"]\n",
    "\n",
    "garden[2] = \"Strawberries\"\n",
    "print(garden)"
   ]
  },
  {
   "cell_type": "markdown",
   "id": "4f5ff9c0",
   "metadata": {},
   "source": [
    "### 2D lists"
   ]
  },
  {
   "cell_type": "code",
   "execution_count": 47,
   "id": "2cfb7ecc",
   "metadata": {},
   "outputs": [
    {
     "name": "stdout",
     "output_type": "stream",
     "text": [
      "[['Noelle', 61], ['Ava', 70], ['Sam', 67], ['Mia', 64]]\n"
     ]
    }
   ],
   "source": [
    "# lists can contain other list as elements, we call these 2D list\n",
    "heights = [[\"Noelle\", 61], [\"Ava\", 70], [\"Sam\", 67], [\"Mia\", 64]]\n",
    "print(heights)"
   ]
  },
  {
   "cell_type": "code",
   "execution_count": 48,
   "id": "99cd1d17",
   "metadata": {},
   "outputs": [
    {
     "name": "stdout",
     "output_type": "stream",
     "text": [
      "61\n"
     ]
    }
   ],
   "source": [
    "# accessing 2D list\n",
    "noelles_height = heights[0][1]\n",
    "print(noelles_height)"
   ]
  },
  {
   "cell_type": "code",
   "execution_count": 49,
   "id": "eb8a4dde",
   "metadata": {},
   "outputs": [
    {
     "name": "stdout",
     "output_type": "stream",
     "text": [
      "[['Jenny', 'Meditation'], ['Alexus', 'Photography'], ['Grace', 'Soccer']]\n"
     ]
    }
   ],
   "source": [
    "# modifying 2D list\n",
    "class_name_hobbies = [[\"Jenny\", \"Breakdancing\"], [\"Alexus\", \"Photography\"], [\"Grace\", \"Soccer\"]]\n",
    "\n",
    "# change Jenny's hobby to meditation\n",
    "class_name_hobbies[0][1] = \"Meditation\"\n",
    "print(class_name_hobbies)"
   ]
  },
  {
   "cell_type": "code",
   "execution_count": 50,
   "id": "e2745dbd",
   "metadata": {},
   "outputs": [
    {
     "name": "stdout",
     "output_type": "stream",
     "text": [
      "2\n"
     ]
    }
   ],
   "source": [
    "# .count() with 2D list\n",
    "number_collection = [[100, 200], [100, 200], [475, 29], [34, 34]]\n",
    "num_pairs = number_collection.count([100, 200])\n",
    "print(num_pairs)"
   ]
  },
  {
   "cell_type": "markdown",
   "id": "bc7fefa3",
   "metadata": {},
   "source": [
    "### list unpacking"
   ]
  },
  {
   "cell_type": "code",
   "execution_count": 51,
   "id": "6553d20a",
   "metadata": {},
   "outputs": [
    {
     "name": "stdout",
     "output_type": "stream",
     "text": [
      "1\n",
      "2\n",
      "3\n"
     ]
    }
   ],
   "source": [
    "numbers = [1, 2, 3]\n",
    "first, second, third = numbers # first = 1, second = 2, third = 3\n",
    "print(first)\n",
    "print(second)\n",
    "print(third)"
   ]
  },
  {
   "cell_type": "code",
   "execution_count": 52,
   "id": "d9143419",
   "metadata": {},
   "outputs": [
    {
     "name": "stdout",
     "output_type": "stream",
     "text": [
      "1\n",
      "2\n",
      "[3, 4, 5, 6]\n"
     ]
    }
   ],
   "source": [
    "numbers = [1, 2, 3, 4, 5, 6]\n",
    "first_1, second_2, *others = numbers\n",
    "print(first_1)\n",
    "print(second_2)\n",
    "print(others)"
   ]
  },
  {
   "cell_type": "markdown",
   "id": "b6bd7f86",
   "metadata": {},
   "source": [
    "### combining lists: zip function"
   ]
  },
  {
   "cell_type": "code",
   "execution_count": 53,
   "id": "5cc0deea",
   "metadata": {},
   "outputs": [
    {
     "name": "stdout",
     "output_type": "stream",
     "text": [
      "<zip object at 0x110d35400>\n",
      "[('Jenny', 61), ('Alexus', 70), ('Sam', 67), ('Grace', 64)]\n"
     ]
    }
   ],
   "source": [
    "# allows to combine list\n",
    "names = [\"Jenny\", \"Alexus\", \"Sam\", \"Grace\"]\n",
    "heights = [61, 70, 67, 64]\n",
    "\n",
    "# we want to create a nested list that combines each name with a height\n",
    "names_and_heights = zip(names, heights)\n",
    "print(names_and_heights)\n",
    "converted_list = list(names_and_heights)\n",
    "print(converted_list)\n",
    "\n",
    "# when using zip function, the inner elements does not use [] because they are converted to tuples."
   ]
  },
  {
   "cell_type": "markdown",
   "id": "8d298081",
   "metadata": {},
   "source": [
    "### list comprehension"
   ]
  },
  {
   "cell_type": "code",
   "execution_count": 54,
   "id": "184eb76c",
   "metadata": {},
   "outputs": [
    {
     "name": "stdout",
     "output_type": "stream",
     "text": [
      "[4, -2, 158, 66, -90]\n"
     ]
    }
   ],
   "source": [
    "# list comprehension syntax\n",
    "# new_list = [<expression> for <element> in <collection>]\n",
    "numbers = [2, -1, 79, 33, -45]\n",
    "doubled = []\n",
    "\n",
    "for number in numbers:\n",
    "  doubled.append(number * 2)\n",
    "\n",
    "print(doubled)"
   ]
  },
  {
   "cell_type": "code",
   "execution_count": 55,
   "id": "7295c819",
   "metadata": {},
   "outputs": [
    {
     "name": "stdout",
     "output_type": "stream",
     "text": [
      "[4, -2, 158, 66, -90]\n"
     ]
    }
   ],
   "source": [
    "# same output via list comprehension\n",
    "numbers = [2, -1, 79, 33, -45]\n",
    "doubled = [num * 2 for num in numbers]\n",
    "print(doubled)"
   ]
  },
  {
   "cell_type": "code",
   "execution_count": 56,
   "id": "c8b781c8",
   "metadata": {},
   "outputs": [
    {
     "name": "stdout",
     "output_type": "stream",
     "text": [
      "[-2, -90]\n"
     ]
    }
   ],
   "source": [
    "# list comprehension with conditionals\n",
    "# if we want to double only negative numbers in numbers list\n",
    "\n",
    "numbers = [2, -1, 79, 33, -45]\n",
    "only_negative_doubled = []\n",
    "\n",
    "for num in numbers:\n",
    "  if num < 0: \n",
    "    only_negative_doubled.append(num * 2)\n",
    "\n",
    "print(only_negative_doubled) "
   ]
  },
  {
   "cell_type": "code",
   "execution_count": 57,
   "id": "027db463",
   "metadata": {},
   "outputs": [
    {
     "name": "stdout",
     "output_type": "stream",
     "text": [
      "[-2, -90]\n"
     ]
    }
   ],
   "source": [
    "# same output via list comprehension\n",
    "numbers = [2, -1, 79, 33, -45]\n",
    "negative_doubled = [num * 2 for num in numbers if num < 0]\n",
    "print(negative_doubled)"
   ]
  },
  {
   "cell_type": "code",
   "execution_count": 58,
   "id": "83eff213",
   "metadata": {},
   "outputs": [
    {
     "name": "stdout",
     "output_type": "stream",
     "text": [
      "[6, -2, 237, 99, -90]\n"
     ]
    }
   ],
   "source": [
    "# list comprehension with if else statement\n",
    "numbers = [2, -1, 79, 33, -45]\n",
    "doubled = [num * 2 if num < 0 else num * 3 for num in numbers ]\n",
    "print(doubled)"
   ]
  },
  {
   "cell_type": "markdown",
   "id": "00f9b275",
   "metadata": {},
   "source": [
    "## functions"
   ]
  },
  {
   "cell_type": "code",
   "execution_count": 73,
   "id": "b3e6a92c",
   "metadata": {},
   "outputs": [],
   "source": [
    "# python has built in functions and user defined functions\n",
    "\n",
    "# some builtin functions are:\n",
    "# print\n",
    "# srt()\n",
    "# len()\n",
    "# help()\n",
    "# min() and max()\n",
    "# round()\n",
    "# return"
   ]
  },
  {
   "cell_type": "code",
   "execution_count": 74,
   "id": "833edb01",
   "metadata": {},
   "outputs": [
    {
     "name": "stdout",
     "output_type": "stream",
     "text": [
      "9.8\n"
     ]
    }
   ],
   "source": [
    "# round function \n",
    "tshirt_price = 9.75\n",
    "\n",
    "rounded_price = round(tshirt_price, 1)\n",
    "print(rounded_price)"
   ]
  },
  {
   "cell_type": "markdown",
   "id": "e759f53e",
   "metadata": {},
   "source": [
    "### defining function"
   ]
  },
  {
   "cell_type": "code",
   "execution_count": 60,
   "id": "6e27906f",
   "metadata": {},
   "outputs": [
    {
     "name": "stdout",
     "output_type": "stream",
     "text": [
      "Welcome to Tripcademy!\n",
      "Let's get you to your destination.\n"
     ]
    }
   ],
   "source": [
    "# to define a function\n",
    "def trip_welcome():\n",
    "  print(\"Welcome to Tripcademy!\") \n",
    "  print(\"Let's get you to your destination.\")\n",
    "    \n",
    "# to call a function\n",
    "trip_welcome()"
   ]
  },
  {
   "cell_type": "code",
   "execution_count": 62,
   "id": "ba86f0c2",
   "metadata": {},
   "outputs": [
    {
     "name": "stdout",
     "output_type": "stream",
     "text": [
      "Welcome to Tripcademy!\n",
      "Looks like you're going to Denver today.\n"
     ]
    }
   ],
   "source": [
    "# defining function with one parameter\n",
    "def trip_welcome(destination):\n",
    "  print(\"Welcome to Tripcademy!\") \n",
    "  print(\"Looks like you're going to \" + destination + \" today.\")\n",
    "    \n",
    "trip_welcome(\"Denver\")"
   ]
  },
  {
   "cell_type": "code",
   "execution_count": 63,
   "id": "671fe5d0",
   "metadata": {},
   "outputs": [
    {
     "name": "stdout",
     "output_type": "stream",
     "text": [
      "Welcome to Tripcademy\n",
      "Looks like you are traveling from Prospect Park\n",
      "And you are heading to Atlantic Terminal\n"
     ]
    }
   ],
   "source": [
    "# defining function with multiple parameters\n",
    "def trip_welcome(origin, destination):\n",
    "  print(\"Welcome to Tripcademy\")\n",
    "  print(\"Looks like you are traveling from \" + origin)\n",
    "  print(\"And you are heading to \" + destination)\n",
    "\n",
    "trip_welcome(\"Prospect Park\", \"Atlantic Terminal\")"
   ]
  },
  {
   "cell_type": "code",
   "execution_count": 66,
   "id": "e663d368",
   "metadata": {},
   "outputs": [
    {
     "name": "stdout",
     "output_type": "stream",
     "text": [
      "40.0\n"
     ]
    }
   ],
   "source": [
    "# function with keyword arguments\n",
    "def calculate_taxi_price(miles_to_travel, rate, discount):\n",
    "  print(miles_to_travel * rate - discount )\n",
    "\n",
    "calculate_taxi_price(rate=0.5, discount=10, miles_to_travel=100)"
   ]
  },
  {
   "cell_type": "code",
   "execution_count": 69,
   "id": "98e7f71f",
   "metadata": {},
   "outputs": [
    {
     "name": "stdout",
     "output_type": "stream",
     "text": [
      "-5.0\n",
      "-15.0\n"
     ]
    }
   ],
   "source": [
    "# funtion with default values\n",
    "def calculate_taxi_price(miles_to_travel, rate, discount = 10):\n",
    "  print(miles_to_travel * rate - discount )\n",
    "\n",
    "\n",
    "# Using the default value of 10 for discount.\n",
    "calculate_taxi_price(10, 0.5)\n",
    "\n",
    "# Overwriting the default value of 10 with 20\n",
    "calculate_taxi_price(10, 0.5, 20)"
   ]
  },
  {
   "cell_type": "markdown",
   "id": "1f5781f4",
   "metadata": {},
   "source": [
    "### return"
   ]
  },
  {
   "cell_type": "code",
   "execution_count": 76,
   "id": "c6d6bb9f",
   "metadata": {},
   "outputs": [
    {
     "name": "stdout",
     "output_type": "stream",
     "text": [
      "100 dollars in US currency would give you 140.0 New Zealand dollars\n"
     ]
    }
   ],
   "source": [
    "# return - Functions can also return a value to the program so that this value can be modified or used later.\n",
    "def calculate_exchange_usd(us_dollars, exchange_rate):\n",
    "  return us_dollars * exchange_rate\n",
    "\n",
    "new_zealand_exchange = calculate_exchange_usd(100, 1.4)\n",
    "\n",
    "print(\"100 dollars in US currency would give you \" + str(new_zealand_exchange) + \" New Zealand dollars\")"
   ]
  },
  {
   "cell_type": "code",
   "execution_count": null,
   "id": "9b4b4965",
   "metadata": {},
   "outputs": [],
   "source": [
    "# multiple returns - We can return several values by separating them with a comma.\n"
   ]
  }
 ],
 "metadata": {
  "kernelspec": {
   "display_name": "Python 3 (ipykernel)",
   "language": "python",
   "name": "python3"
  },
  "language_info": {
   "codemirror_mode": {
    "name": "ipython",
    "version": 3
   },
   "file_extension": ".py",
   "mimetype": "text/x-python",
   "name": "python",
   "nbconvert_exporter": "python",
   "pygments_lexer": "ipython3",
   "version": "3.11.5"
  }
 },
 "nbformat": 4,
 "nbformat_minor": 5
}
