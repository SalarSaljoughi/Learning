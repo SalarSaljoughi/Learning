{
  "metadata": {
    "kernelspec": {
      "name": "python",
      "display_name": "Python (Pyodide)",
      "language": "python"
    },
    "language_info": {
      "codemirror_mode": {
        "name": "ipython",
        "version": 3
      },
      "file_extension": ".py",
      "mimetype": "text/x-python",
      "name": "python",
      "nbconvert_exporter": "python",
      "pygments_lexer": "ipython3",
      "version": "3.11.5"
    }
  },
  "nbformat_minor": 5,
  "nbformat": 4,
  "cells": [
    {
      "id": "54267398",
      "cell_type": "markdown",
      "source": "# Python Basics\n### print function",
      "metadata": {}
    },
    {
      "id": "a37955eb",
      "cell_type": "code",
      "source": "print(\"Hello World!\")",
      "metadata": {},
      "outputs": [
        {
          "name": "stdout",
          "output_type": "stream",
          "text": [
            "Hello World!\n"
          ]
        }
      ],
      "execution_count": 1
    },
    {
      "id": "59e98568",
      "cell_type": "markdown",
      "source": "### variables",
      "metadata": {}
    },
    {
      "id": "fa2fd021",
      "cell_type": "code",
      "source": "# strings - Greeting\nmessage_string = \"Hello there\"\nprint(message_string)\n\n# Strings - Farewell\nmessage_string = \"Hasta la vista\"\nprint(message_string)\n\n# int & float\nan_int = 2\na_float = 2.1\n\nprint(an_int + 3)",
      "metadata": {},
      "outputs": [
        {
          "name": "stdout",
          "output_type": "stream",
          "text": [
            "Hello there\n",
            "Hasta la vista\n",
            "5\n"
          ]
        }
      ],
      "execution_count": 2
    },
    {
      "id": "3104cca2",
      "cell_type": "markdown",
      "source": "### calculations",
      "metadata": {}
    },
    {
      "id": "9f1cb958",
      "cell_type": "code",
      "source": "print(3 + 4) # Addition\nprint(5 - 5) # Subtraction\nprint(3 * 5) # Multiplication\nprint(12 / 4) # Division\nprint(3 ** 3) # Exponentiation\nprint(15 % 2) # Modulus\nprint(15 // 3) # Floor division",
      "metadata": {},
      "outputs": [
        {
          "name": "stdout",
          "output_type": "stream",
          "text": [
            "7\n",
            "0\n",
            "15\n",
            "3.0\n",
            "27\n",
            "1\n",
            "5\n"
          ]
        }
      ],
      "execution_count": 3
    },
    {
      "id": "8bb3b9f4",
      "cell_type": "code",
      "source": "a = 5\nb = 10\nprint(a + b)",
      "metadata": {},
      "outputs": [
        {
          "name": "stdout",
          "output_type": "stream",
          "text": [
            "15\n"
          ]
        }
      ],
      "execution_count": 4
    },
    {
      "id": "4dba5b7c",
      "cell_type": "markdown",
      "source": "### concatination",
      "metadata": {}
    },
    {
      "id": "7b915b9e",
      "cell_type": "code",
      "source": "# process of combining strings called concatination\ngreeting_text = \"Hey there!\"\nquestion_text = \"How are you doing?\"\nfull_text = greeting_text + question_text\n\nprint(full_text)\n\nfull_text = greeting_text + \" \" + question_text\n\n# Prints \"Hey there! How are you doing?\"\nprint(full_text)",
      "metadata": {},
      "outputs": [
        {
          "name": "stdout",
          "output_type": "stream",
          "text": [
            "Hey there!How are you doing?\n",
            "Hey there! How are you doing?\n"
          ]
        }
      ],
      "execution_count": 5
    },
    {
      "id": "2e001760",
      "cell_type": "code",
      "source": "birthday_string = \"I am \"\nage = 10\nbirthday_string_2 = \" years old today!\"\n\n# Concatenating an integer with strings is possible if we turn the integer into a string first\nfull_birthday_string = birthday_string + str(age) + birthday_string_2\nprint(full_birthday_string)\n\n# If we just want to print an integer we can pass a variable as an argument to print() regardless of whether it is a string.\nprint(birthday_string, age, birthday_string_2)",
      "metadata": {},
      "outputs": [
        {
          "name": "stdout",
          "output_type": "stream",
          "text": [
            "I am 10 years old today!\n",
            "I am  10  years old today!\n"
          ]
        }
      ],
      "execution_count": 6
    },
    {
      "id": "9a443c62",
      "cell_type": "markdown",
      "source": "### updating variables",
      "metadata": {}
    },
    {
      "id": "7de60d04",
      "cell_type": "code",
      "source": "# First we have a variable with a number saved\nnumber_of_miles_hiked = 12\n\n# Then we need to update that variable Let's say we hike another two miles today\nnumber_of_miles_hiked += 2\n\n# The new value is the old value Plus the number after the plus-equals\nprint(number_of_miles_hiked)",
      "metadata": {},
      "outputs": [
        {
          "name": "stdout",
          "output_type": "stream",
          "text": [
            "14\n"
          ]
        }
      ],
      "execution_count": 7
    },
    {
      "id": "d3568318",
      "cell_type": "code",
      "source": "hike_caption = \"What an amazing time to walk through nature!\"\n\n# Almost forgot the hashtags!\nhike_caption += \" #nofilter\"\nhike_caption += \" #blessed\"\n\nprint(hike_caption)",
      "metadata": {},
      "outputs": [
        {
          "name": "stdout",
          "output_type": "stream",
          "text": [
            "What an amazing time to walk through nature! #nofilter #blessed\n"
          ]
        }
      ],
      "execution_count": 8
    },
    {
      "id": "74720583",
      "cell_type": "markdown",
      "source": "### multiline strings",
      "metadata": {}
    },
    {
      "id": "c0db4c6a",
      "cell_type": "code",
      "source": "# By using three quote-marks (\"\"\" or ''') instead of one, we tell the program that the string doesn’t end until the next triple-quote. \n# This method is useful if the string being defined contains a lot of quotation marks and we want to be sure we don’t close it prematurely.\n\nleaves_of_grass = \"\"\"\nPoets to come! orators, singers, musicians to come!\nNot to-day is to justify me and answer what I am for,\nBut you, a new brood, native, athletic, continental, greater than\n  before known,\nArouse! for you must justify me.\n\"\"\"\n\nprint(leaves_of_grass)",
      "metadata": {},
      "outputs": [
        {
          "name": "stdout",
          "output_type": "stream",
          "text": [
            "\n",
            "Poets to come! orators, singers, musicians to come!\n",
            "Not to-day is to justify me and answer what I am for,\n",
            "But you, a new brood, native, athletic, continental, greater than\n",
            "  before known,\n",
            "Arouse! for you must justify me.\n",
            "\n"
          ]
        }
      ],
      "execution_count": 9
    },
    {
      "id": "8a0cc2e7",
      "cell_type": "markdown",
      "source": "## control flow\n### if statement",
      "metadata": {}
    },
    {
      "id": "2d2abc7a",
      "cell_type": "code",
      "source": "# Enter a user name here, make sure to make it a string\nuser_name = \"angela_catlady_87\"\n\nif user_name == \"Dave\":\n  print(\"Get off my computer Dave!\")\nif user_name == \"angela_catlady_87\":\n  print(\"I know it is you, Dave! Go away!\")",
      "metadata": {},
      "outputs": [
        {
          "name": "stdout",
          "output_type": "stream",
          "text": [
            "I know it is you, Dave! Go away!\n"
          ]
        }
      ],
      "execution_count": 10
    },
    {
      "id": "b8d09f90",
      "cell_type": "code",
      "source": "# and logical operator\ncredits = 120\ngpa = 3.4\n\nif credits >= 120 and gpa >=2.0:\n  print(\"You meet the requirements to graduate!\")",
      "metadata": {},
      "outputs": [
        {
          "name": "stdout",
          "output_type": "stream",
          "text": [
            "You meet the requirements to graduate!\n"
          ]
        }
      ],
      "execution_count": 11
    },
    {
      "id": "7d46eaee",
      "cell_type": "code",
      "source": "# or logical operator\ncredits = 118\ngpa = 2.0\n\nif credits >= 120 or gpa >= 2.0:\n  print(\"You have met at least one of the requirements.\")",
      "metadata": {},
      "outputs": [
        {
          "name": "stdout",
          "output_type": "stream",
          "text": [
            "You have met at least one of the requirements.\n"
          ]
        }
      ],
      "execution_count": 12
    },
    {
      "id": "5b680f00",
      "cell_type": "code",
      "source": "# not logical operator\ncredits = 120\ngpa = 1.8\n\nif not credits >= 120:\n  print(\"You do not have enough credits to graduate\")\nelif (not gpa >= 2.0):\n  print(\"Your GPA is not high enough to graduate.\")\nelse:\n  print(\"You do not meet either requirement to graduate!\")",
      "metadata": {},
      "outputs": [
        {
          "name": "stdout",
          "output_type": "stream",
          "text": [
            "Your GPA is not high enough to graduate.\n"
          ]
        }
      ],
      "execution_count": 13
    },
    {
      "id": "d9002103",
      "cell_type": "markdown",
      "source": "## lists",
      "metadata": {}
    },
    {
      "id": "f1b875b4",
      "cell_type": "code",
      "source": "# lists can contain any data type\nmixed_list_common = [\"Mia\", 27, False, 0.5]\n\n# empty list\nempty_list = []",
      "metadata": {},
      "outputs": [],
      "execution_count": 14
    },
    {
      "id": "aa23f014",
      "cell_type": "code",
      "source": "# House Areas\nhall = 11.25\nkit = 18.0\nliv = 20.0\nbed = 10.75\nbath = 9.50\n\n# creating list of areas\nareas = [\"hallway\", hall,\n         \"kitchen\", kit,\n         \"living room\", liv,\n         \"bedroom\", bed,\n         \"bathroom\", bath]\n\nprint(areas)\n\n# creating list of list\nhouse = [[\"hallway\", hall],\n         [\"kitchen\", kit],\n         [\"living room\", liv],\n         [\"bedroom\", bed],\n         [\"bathroom\", bath]]\n\nprint(house)",
      "metadata": {},
      "outputs": [
        {
          "name": "stdout",
          "output_type": "stream",
          "text": [
            "['hallway', 11.25, 'kitchen', 18.0, 'living room', 20.0, 'bedroom', 10.75, 'bathroom', 9.5]\n",
            "[['hallway', 11.25], ['kitchen', 18.0], ['living room', 20.0], ['bedroom', 10.75], ['bathroom', 9.5]]\n"
          ]
        }
      ],
      "execution_count": 17
    },
    {
      "id": "6821bb91",
      "cell_type": "markdown",
      "source": "### list methods and builtin functions",
      "metadata": {}
    },
    {
      "id": "dbf45073",
      "cell_type": "code",
      "source": "# .append()\n\nexample_list = [1, 2, 3, 4]\n\nexample_list.append(5)\nprint(example_list)",
      "metadata": {},
      "outputs": [
        {
          "name": "stdout",
          "output_type": "stream",
          "text": [
            "[1, 2, 3, 4, 5]\n"
          ]
        }
      ],
      "execution_count": 15
    },
    {
      "id": "94dd5514",
      "cell_type": "code",
      "source": "# .remove()\n\n# if the element we want to remove has duplicates, remove method only removes the first instance.\n# if we try to remove element that does not exist we get index error or Value error\nexample_list.remove(5)\nprint(example_list)",
      "metadata": {},
      "outputs": [
        {
          "name": "stdout",
          "output_type": "stream",
          "text": [
            "[1, 2, 3, 4]\n"
          ]
        }
      ],
      "execution_count": 16
    },
    {
      "id": "b63c1d94",
      "cell_type": "code",
      "source": "# append only adds one items at a time, if want to add multiple items we can use + (concatenation)\nitems_sold = [\"cake\", \"cookie\", \"bread\"]\n\n# we want to add \"buscuit\" and \"tart\" to the list\nitems_sold_new = items_sold + [\"buscuit\", \"tart\"]\nprint(items_sold_new)",
      "metadata": {
        "trusted": true
      },
      "outputs": [],
      "execution_count": null
    },
    {
      "id": "c11a37b7-053f-4941-932b-1327787e6a00",
      "cell_type": "code",
      "source": "# .insert() method\n\nstore_line = [\"Karla\", \"Maxium\", \"Martim\", \"Isabella\"]\n\nstore_line.insert(2, \"Vikor\")\nprint(store_line) ",
      "metadata": {
        "trusted": true
      },
      "outputs": [],
      "execution_count": null
    },
    {
      "id": "8ef00ccc-8ea7-49e1-9dd9-630ebd23c7b2",
      "cell_type": "code",
      "source": "# .pop() removing by index\n# Passing in an index that does not exist or calling .pop() on an empty list will both result in an IndexError.\n\ncs_topics = [\"Python\", \"Data Structures\", \"Balloon Making\", \"Algorithms\", \"Clowns 101\"]\n\nremoved_element = cs_topics.pop()\nprint(cs_topics)\nprint(removed_element)\n\ncs_topics.pop(2)\nprint(cs_topics)",
      "metadata": {
        "trusted": true
      },
      "outputs": [],
      "execution_count": null
    },
    {
      "id": "5b3a4730-cdb1-42ef-ae09-dfc175cf2ff9",
      "cell_type": "code",
      "source": "# range function / list function\n\n# this below creats range object\nmy_range = range(10)\nprint(type(my_range))\n\n# to turn this object to list, we use list funtion\nprint(list(my_range))\n\n# if we enter one number to range function, the range starts at zero, if we want to start on number other that zero, we need to enter 2 numbers\nmy_list = range(2, 9)\nprint(list(my_list))\n\n# if we enter 3 numbers in range function, we can create list that skips numbers\nmy_range2 = range(2, 9, 2)\nprint(list(my_range2))\n\nmy_range3 = range(1, 100, 10)\nprint(list(my_range3))",
      "metadata": {
        "trusted": true
      },
      "outputs": [],
      "execution_count": null
    },
    {
      "id": "cd89ef29-7dbb-4281-9991-1d482d51a7c6",
      "cell_type": "code",
      "source": "",
      "metadata": {
        "trusted": true
      },
      "outputs": [],
      "execution_count": null
    },
    {
      "id": "2abf2ceb",
      "cell_type": "markdown",
      "source": "### accessing list elements",
      "metadata": {}
    },
    {
      "id": "a8505c37",
      "cell_type": "code",
      "source": "# python list start at index zero\nemployees = [\"Michael\", \"Dwight\", \"Jim\", \"Pam\", \"Ryan\", \"Andy\", \"Robert\"]\n\nemployee_four = employees[3]\nprint(employee_four)\n\n# print(employees[8])\n# we get index error because index 8 does not exist",
      "metadata": {},
      "outputs": [
        {
          "name": "stdout",
          "output_type": "stream",
          "text": [
            "Pam\n"
          ]
        }
      ],
      "execution_count": 21
    },
    {
      "id": "1629d455",
      "cell_type": "code",
      "source": "# negative index\nshopping_list = [\"eggs\", \"butter\", \"milk\", \"cucumbers\", \"juice\", \"cereal\"]\n\nlast_element = shopping_list[-1]\nindex5_element = shopping_list[5]\n\nprint(last_element)\nprint(index5_element)",
      "metadata": {},
      "outputs": [
        {
          "name": "stdout",
          "output_type": "stream",
          "text": [
            "cereal\n",
            "cereal\n"
          ]
        }
      ],
      "execution_count": 22
    },
    {
      "id": "14684d30",
      "cell_type": "markdown",
      "source": "### modifying elements",
      "metadata": {}
    },
    {
      "id": "82755033",
      "cell_type": "code",
      "source": "# replacing cauliflower with straberries\ngarden = [\"Tomatoes\", \"Green Beans\", \"Cauliflower\", \"Grapes\"]\n\ngarden[2] = \"Strawberries\"\nprint(garden)",
      "metadata": {},
      "outputs": [
        {
          "name": "stdout",
          "output_type": "stream",
          "text": [
            "['Tomatoes', 'Green Beans', 'Strawberries', 'Grapes']\n"
          ]
        }
      ],
      "execution_count": 24
    },
    {
      "id": "4f5ff9c0",
      "cell_type": "markdown",
      "source": "### 2D lists",
      "metadata": {}
    },
    {
      "id": "2cfb7ecc",
      "cell_type": "code",
      "source": "# lists can contain other list as elements, we call these 2D list\nheights = [[\"Noelle\", 61], [\"Ava\", 70], [\"Sam\", 67], [\"Mia\", 64]]\nprint(heights)",
      "metadata": {},
      "outputs": [
        {
          "name": "stdout",
          "output_type": "stream",
          "text": [
            "[['Noelle', 61], ['Ava', 70], ['Sam', 67], ['Mia', 64]]\n"
          ]
        }
      ],
      "execution_count": 25
    },
    {
      "id": "99cd1d17",
      "cell_type": "code",
      "source": "# accessing 2D list\nnoelles_height = heights[0][1]\nprint(noelles_height)",
      "metadata": {},
      "outputs": [
        {
          "name": "stdout",
          "output_type": "stream",
          "text": [
            "61\n"
          ]
        }
      ],
      "execution_count": 27
    },
    {
      "id": "eb8a4dde",
      "cell_type": "code",
      "source": "# modifying 2D list\nclass_name_hobbies = [[\"Jenny\", \"Breakdancing\"], [\"Alexus\", \"Photography\"], [\"Grace\", \"Soccer\"]]\n\n# change Jenny's hobby to meditation\nclass_name_hobbies[0][1] = \"Meditation\"\nprint(class_name_hobbies)",
      "metadata": {},
      "outputs": [
        {
          "name": "stdout",
          "output_type": "stream",
          "text": [
            "[['Jenny', 'Meditation'], ['Alexus', 'Photography'], ['Grace', 'Soccer']]\n"
          ]
        }
      ],
      "execution_count": 28
    },
    {
      "id": "e2745dbd",
      "cell_type": "code",
      "source": "",
      "metadata": {},
      "outputs": [],
      "execution_count": null
    }
  ]
}