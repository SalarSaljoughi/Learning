{
 "cells": [
  {
   "cell_type": "markdown",
   "id": "54267398",
   "metadata": {},
   "source": [
    "# Python Basics\n",
    "### print function"
   ]
  },
  {
   "cell_type": "code",
   "execution_count": 1,
   "id": "a37955eb",
   "metadata": {},
   "outputs": [
    {
     "name": "stdout",
     "output_type": "stream",
     "text": [
      "Hello World!\n"
     ]
    }
   ],
   "source": [
    "print(\"Hello World!\")"
   ]
  },
  {
   "cell_type": "markdown",
   "id": "59e98568",
   "metadata": {},
   "source": [
    "### variables"
   ]
  },
  {
   "cell_type": "code",
   "execution_count": 2,
   "id": "fa2fd021",
   "metadata": {},
   "outputs": [
    {
     "name": "stdout",
     "output_type": "stream",
     "text": [
      "Hello there\n",
      "Hasta la vista\n",
      "5\n"
     ]
    }
   ],
   "source": [
    "# strings - Greeting\n",
    "message_string = \"Hello there\"\n",
    "print(message_string)\n",
    "\n",
    "# Strings - Farewell\n",
    "message_string = \"Hasta la vista\"\n",
    "print(message_string)\n",
    "\n",
    "# int & float\n",
    "an_int = 2\n",
    "a_float = 2.1\n",
    "\n",
    "print(an_int + 3)"
   ]
  },
  {
   "cell_type": "markdown",
   "id": "3104cca2",
   "metadata": {},
   "source": [
    "### calculations"
   ]
  },
  {
   "cell_type": "code",
   "execution_count": 3,
   "id": "9f1cb958",
   "metadata": {},
   "outputs": [
    {
     "name": "stdout",
     "output_type": "stream",
     "text": [
      "7\n",
      "0\n",
      "15\n",
      "3.0\n",
      "27\n",
      "1\n",
      "5\n"
     ]
    }
   ],
   "source": [
    "print(3 + 4) # Addition\n",
    "print(5 - 5) # Subtraction\n",
    "print(3 * 5) # Multiplication\n",
    "print(12 / 4) # Division\n",
    "print(3 ** 3) # Exponentiation\n",
    "print(15 % 2) # Modulus\n",
    "print(15 // 3) # Floor division"
   ]
  },
  {
   "cell_type": "code",
   "execution_count": 4,
   "id": "8bb3b9f4",
   "metadata": {},
   "outputs": [
    {
     "name": "stdout",
     "output_type": "stream",
     "text": [
      "15\n"
     ]
    }
   ],
   "source": [
    "a = 5\n",
    "b = 10\n",
    "print(a + b)"
   ]
  },
  {
   "cell_type": "markdown",
   "id": "4dba5b7c",
   "metadata": {},
   "source": [
    "### concatination"
   ]
  },
  {
   "cell_type": "code",
   "execution_count": 5,
   "id": "7b915b9e",
   "metadata": {},
   "outputs": [
    {
     "name": "stdout",
     "output_type": "stream",
     "text": [
      "Hey there!How are you doing?\n",
      "Hey there! How are you doing?\n"
     ]
    }
   ],
   "source": [
    "# process of combining strings called concatination\n",
    "greeting_text = \"Hey there!\"\n",
    "question_text = \"How are you doing?\"\n",
    "full_text = greeting_text + question_text\n",
    "\n",
    "print(full_text)\n",
    "\n",
    "full_text = greeting_text + \" \" + question_text\n",
    "\n",
    "# Prints \"Hey there! How are you doing?\"\n",
    "print(full_text)"
   ]
  },
  {
   "cell_type": "code",
   "execution_count": 6,
   "id": "2e001760",
   "metadata": {},
   "outputs": [
    {
     "name": "stdout",
     "output_type": "stream",
     "text": [
      "I am 10 years old today!\n",
      "I am  10  years old today!\n"
     ]
    }
   ],
   "source": [
    "birthday_string = \"I am \"\n",
    "age = 10\n",
    "birthday_string_2 = \" years old today!\"\n",
    "\n",
    "# Concatenating an integer with strings is possible if we turn the integer into a string first\n",
    "full_birthday_string = birthday_string + str(age) + birthday_string_2\n",
    "print(full_birthday_string)\n",
    "\n",
    "# If we just want to print an integer we can pass a variable as an argument to print() regardless of whether it is a string.\n",
    "print(birthday_string, age, birthday_string_2)"
   ]
  },
  {
   "cell_type": "markdown",
   "id": "9a443c62",
   "metadata": {},
   "source": [
    "### updating variables"
   ]
  },
  {
   "cell_type": "code",
   "execution_count": 7,
   "id": "7de60d04",
   "metadata": {},
   "outputs": [
    {
     "name": "stdout",
     "output_type": "stream",
     "text": [
      "14\n"
     ]
    }
   ],
   "source": [
    "# First we have a variable with a number saved\n",
    "number_of_miles_hiked = 12\n",
    "\n",
    "# Then we need to update that variable Let's say we hike another two miles today\n",
    "number_of_miles_hiked += 2\n",
    "\n",
    "# The new value is the old value Plus the number after the plus-equals\n",
    "print(number_of_miles_hiked)"
   ]
  },
  {
   "cell_type": "code",
   "execution_count": 8,
   "id": "d3568318",
   "metadata": {},
   "outputs": [
    {
     "name": "stdout",
     "output_type": "stream",
     "text": [
      "What an amazing time to walk through nature! #nofilter #blessed\n"
     ]
    }
   ],
   "source": [
    "hike_caption = \"What an amazing time to walk through nature!\"\n",
    "\n",
    "# Almost forgot the hashtags!\n",
    "hike_caption += \" #nofilter\"\n",
    "hike_caption += \" #blessed\"\n",
    "\n",
    "print(hike_caption)"
   ]
  },
  {
   "cell_type": "markdown",
   "id": "74720583",
   "metadata": {},
   "source": [
    "### multiline strings"
   ]
  },
  {
   "cell_type": "code",
   "execution_count": 9,
   "id": "c0db4c6a",
   "metadata": {},
   "outputs": [
    {
     "name": "stdout",
     "output_type": "stream",
     "text": [
      "\n",
      "Poets to come! orators, singers, musicians to come!\n",
      "Not to-day is to justify me and answer what I am for,\n",
      "But you, a new brood, native, athletic, continental, greater than\n",
      "  before known,\n",
      "Arouse! for you must justify me.\n",
      "\n"
     ]
    }
   ],
   "source": [
    "# By using three quote-marks (\"\"\" or ''') instead of one, we tell the program that the string doesn’t end until the next triple-quote. \n",
    "# This method is useful if the string being defined contains a lot of quotation marks and we want to be sure we don’t close it prematurely.\n",
    "\n",
    "leaves_of_grass = \"\"\"\n",
    "Poets to come! orators, singers, musicians to come!\n",
    "Not to-day is to justify me and answer what I am for,\n",
    "But you, a new brood, native, athletic, continental, greater than\n",
    "  before known,\n",
    "Arouse! for you must justify me.\n",
    "\"\"\"\n",
    "\n",
    "print(leaves_of_grass)"
   ]
  },
  {
   "cell_type": "markdown",
   "id": "8a0cc2e7",
   "metadata": {},
   "source": [
    "## control flow\n",
    "### if statement"
   ]
  },
  {
   "cell_type": "code",
   "execution_count": 10,
   "id": "2d2abc7a",
   "metadata": {},
   "outputs": [
    {
     "name": "stdout",
     "output_type": "stream",
     "text": [
      "I know it is you, Dave! Go away!\n"
     ]
    }
   ],
   "source": [
    "# Enter a user name here, make sure to make it a string\n",
    "user_name = \"angela_catlady_87\"\n",
    "\n",
    "if user_name == \"Dave\":\n",
    "  print(\"Get off my computer Dave!\")\n",
    "if user_name == \"angela_catlady_87\":\n",
    "  print(\"I know it is you, Dave! Go away!\")"
   ]
  },
  {
   "cell_type": "code",
   "execution_count": 11,
   "id": "b8d09f90",
   "metadata": {},
   "outputs": [
    {
     "name": "stdout",
     "output_type": "stream",
     "text": [
      "You meet the requirements to graduate!\n"
     ]
    }
   ],
   "source": [
    "# and logical operator\n",
    "credits = 120\n",
    "gpa = 3.4\n",
    "\n",
    "if credits >= 120 and gpa >=2.0:\n",
    "  print(\"You meet the requirements to graduate!\")"
   ]
  },
  {
   "cell_type": "code",
   "execution_count": 12,
   "id": "7d46eaee",
   "metadata": {},
   "outputs": [
    {
     "name": "stdout",
     "output_type": "stream",
     "text": [
      "You have met at least one of the requirements.\n"
     ]
    }
   ],
   "source": [
    "# or logical operator\n",
    "credits = 118\n",
    "gpa = 2.0\n",
    "\n",
    "if credits >= 120 or gpa >= 2.0:\n",
    "  print(\"You have met at least one of the requirements.\")"
   ]
  },
  {
   "cell_type": "code",
   "execution_count": 13,
   "id": "5b680f00",
   "metadata": {},
   "outputs": [
    {
     "name": "stdout",
     "output_type": "stream",
     "text": [
      "Your GPA is not high enough to graduate.\n"
     ]
    }
   ],
   "source": [
    "# not logical operator\n",
    "credits = 120\n",
    "gpa = 1.8\n",
    "\n",
    "if not credits >= 120:\n",
    "  print(\"You do not have enough credits to graduate\")\n",
    "elif (not gpa >= 2.0):\n",
    "  print(\"Your GPA is not high enough to graduate.\")\n",
    "else:\n",
    "  print(\"You do not meet either requirement to graduate!\")"
   ]
  },
  {
   "cell_type": "markdown",
   "id": "22a655af",
   "metadata": {},
   "source": [
    "## Loops\n",
    "### for loops"
   ]
  },
  {
   "cell_type": "code",
   "execution_count": 14,
   "id": "c0398aa7",
   "metadata": {},
   "outputs": [
    {
     "name": "stdout",
     "output_type": "stream",
     "text": [
      "milk\n",
      "sugar\n",
      "vanilla extract\n",
      "dough\n",
      "chocolate\n"
     ]
    }
   ],
   "source": [
    "# With for loops, on each iteration, we will be able to perform an action on each element of the collection.\n",
    "# If we ever forget to indent, we’ll get an IndentationError or unexpected behavior.\n",
    "\n",
    "\n",
    "ingredients = [\"milk\", \"sugar\", \"vanilla extract\", \"dough\", \"chocolate\"]\n",
    "\n",
    "for ingredient in ingredients:\n",
    "  print(ingredient)"
   ]
  },
  {
   "cell_type": "code",
   "execution_count": 15,
   "id": "c71c6bd6",
   "metadata": {},
   "outputs": [
    {
     "name": "stdout",
     "output_type": "stream",
     "text": [
      "milk\n",
      "sugar\n",
      "vanilla extract\n",
      "dough\n",
      "chocolate\n"
     ]
    }
   ],
   "source": [
    "# elegent way to write for loops\n",
    "for ingredient in ingredients: print(ingredient)"
   ]
  },
  {
   "cell_type": "code",
   "execution_count": 16,
   "id": "de609285",
   "metadata": {},
   "outputs": [
    {
     "name": "stdout",
     "output_type": "stream",
     "text": [
      "Learning Loops!\n",
      "Learning Loops!\n",
      "Learning Loops!\n",
      "Learning Loops!\n",
      "Learning Loops!\n",
      "Learning Loops!\n",
      "Loop is on iteration number 1\n",
      "Loop is on iteration number 2\n",
      "Loop is on iteration number 3\n",
      "Loop is on iteration number 4\n",
      "Loop is on iteration number 5\n",
      "Loop is on iteration number 6\n"
     ]
    }
   ],
   "source": [
    "# if we want to repeat for certain amount of time we use for loop using range function\n",
    "# for <temporary variable> in <list of length n>:\n",
    "#   action\n",
    "\n",
    "for temp in range(6):\n",
    "    print(\"Learning Loops!\")\n",
    "    \n",
    "for temp in range(6):\n",
    "  print(\"Loop is on iteration number \" + str(temp + 1))\n"
   ]
  },
  {
   "cell_type": "markdown",
   "id": "a5a1c3ae",
   "metadata": {},
   "source": [
    "### while loops"
   ]
  },
  {
   "cell_type": "code",
   "execution_count": 17,
   "id": "11fe0466",
   "metadata": {},
   "outputs": [
    {
     "name": "stdout",
     "output_type": "stream",
     "text": [
      "0\n",
      "1\n",
      "2\n",
      "3\n"
     ]
    }
   ],
   "source": [
    "# while loops are form of indefinite iteration. A while loop performs a set of instructions as long as a given condition is true.\n",
    "count = 0\n",
    "while count <= 3:\n",
    "  # Loop Body\n",
    "  print(count)\n",
    "  count += 1"
   ]
  },
  {
   "cell_type": "code",
   "execution_count": 18,
   "id": "79a45998",
   "metadata": {},
   "outputs": [
    {
     "name": "stdout",
     "output_type": "stream",
     "text": [
      "0\n",
      "1\n",
      "2\n",
      "3\n"
     ]
    }
   ],
   "source": [
    "# elegent way of writing while loop\n",
    "count = 0\n",
    "while count <= 3: print(count); count += 1"
   ]
  },
  {
   "cell_type": "code",
   "execution_count": 19,
   "id": "3f4cd04e",
   "metadata": {},
   "outputs": [
    {
     "name": "stdout",
     "output_type": "stream",
     "text": [
      "10\n",
      "9\n",
      "8\n",
      "7\n",
      "6\n",
      "5\n",
      "4\n",
      "3\n",
      "2\n",
      "1\n",
      "0\n",
      "we have liftoff!\n"
     ]
    }
   ],
   "source": [
    "countdown = 10\n",
    "while countdown >= 0:\n",
    "  print(countdown)\n",
    "  countdown -= 1\n",
    "print(\"we have liftoff!\")"
   ]
  },
  {
   "cell_type": "code",
   "execution_count": 20,
   "id": "8baa0943",
   "metadata": {},
   "outputs": [
    {
     "name": "stdout",
     "output_type": "stream",
     "text": [
      "milk\n",
      "sugar\n",
      "vanilla extract\n",
      "dough\n",
      "chocolate\n"
     ]
    }
   ],
   "source": [
    "# while loops with list - first we need to fine the list length and compare\n",
    "length = len(ingredients)\n",
    "index = 0\n",
    "\n",
    "while index < length:\n",
    "  print(ingredients[index])\n",
    "  index += 1"
   ]
  },
  {
   "cell_type": "markdown",
   "id": "529d36f4",
   "metadata": {},
   "source": [
    "### infinite loops"
   ]
  },
  {
   "cell_type": "code",
   "execution_count": 21,
   "id": "0c85fd31",
   "metadata": {},
   "outputs": [],
   "source": [
    "# A loop that never terminates is called an infinite loop. \n",
    "# my_favorite_numbers = [4, 8, 15, 16, 42]\n",
    "\n",
    "# for number in my_favorite_numbers:\n",
    "#   my_favorite_numbers.append(1)\n",
    "\n",
    "# if we encounter infinite loop, we can terminate with control + c"
   ]
  },
  {
   "cell_type": "markdown",
   "id": "f60555bd",
   "metadata": {},
   "source": [
    "### loop conotrol: Break"
   ]
  },
  {
   "cell_type": "code",
   "execution_count": 22,
   "id": "467d1b27",
   "metadata": {},
   "outputs": [
    {
     "name": "stdout",
     "output_type": "stream",
     "text": [
      "Found it\n"
     ]
    }
   ],
   "source": [
    "items_on_sale = [\"blue shirt\", \"striped socks\", \"knit dress\", \"red headband\", \"dinosaur onesie\"]\n",
    "for item in items_on_sale:\n",
    "    if item == \"knit dress\":\n",
    "        print(\"Found it\")\n",
    "# this loop will continue even after it prints the statement, if we have many elements this is waste of time and memory    "
   ]
  },
  {
   "cell_type": "code",
   "execution_count": 23,
   "id": "e5d685f5",
   "metadata": {},
   "outputs": [
    {
     "name": "stdout",
     "output_type": "stream",
     "text": [
      "Checking the sale list!\n",
      "blue shirt\n",
      "striped socks\n",
      "knit dress\n",
      "End of search!\n"
     ]
    }
   ],
   "source": [
    "# better way to write above loop\n",
    "items_on_sale = [\"blue shirt\", \"striped socks\", \"knit dress\", \"red headband\", \"dinosaur onesie\"]\n",
    "\n",
    "print(\"Checking the sale list!\")\n",
    "\n",
    "for item in items_on_sale:\n",
    "  print(item)\n",
    "  if item == \"knit dress\":\n",
    "    break\n",
    "\n",
    "print(\"End of search!\")"
   ]
  },
  {
   "cell_type": "markdown",
   "id": "aefdece4",
   "metadata": {},
   "source": [
    "### loop control: Continue"
   ]
  },
  {
   "cell_type": "code",
   "execution_count": 24,
   "id": "05b5edbb",
   "metadata": {},
   "outputs": [
    {
     "name": "stdout",
     "output_type": "stream",
     "text": [
      "1\n",
      "2\n",
      "4\n",
      "5\n",
      "2\n"
     ]
    }
   ],
   "source": [
    "# continue will be used to skip current iteration of the loop\n",
    "big_number_list = [1, 2, -1, 4, -5, 5, 2, -9]\n",
    "\n",
    "for i in big_number_list:\n",
    "  if i <= 0:\n",
    "    continue\n",
    "  print(i)"
   ]
  },
  {
   "cell_type": "markdown",
   "id": "30bbcf65",
   "metadata": {},
   "source": [
    "### nested loops"
   ]
  },
  {
   "cell_type": "code",
   "execution_count": 25,
   "id": "4b1729d3",
   "metadata": {},
   "outputs": [
    {
     "name": "stdout",
     "output_type": "stream",
     "text": [
      "['Ava', 'Samantha', 'James']\n",
      "['Lucille', 'Zed']\n",
      "['Edgar', 'Gabriel']\n"
     ]
    }
   ],
   "source": [
    "project_teams = [[\"Ava\", \"Samantha\", \"James\"], [\"Lucille\", \"Zed\"], [\"Edgar\", \"Gabriel\"]]\n",
    "for team in project_teams:\n",
    "  print(team)"
   ]
  },
  {
   "cell_type": "code",
   "execution_count": 26,
   "id": "890f5cfc",
   "metadata": {},
   "outputs": [
    {
     "name": "stdout",
     "output_type": "stream",
     "text": [
      "Ava\n",
      "Samantha\n",
      "James\n",
      "Lucille\n",
      "Zed\n",
      "Edgar\n",
      "Gabriel\n"
     ]
    }
   ],
   "source": [
    "# Loop through each sublist\n",
    "for team in project_teams:\n",
    "  # Loop elements in each sublist\n",
    "  for student in team:\n",
    "    print(student)"
   ]
  },
  {
   "cell_type": "markdown",
   "id": "30faa761",
   "metadata": {},
   "source": [
    "## Strings"
   ]
  },
  {
   "cell_type": "code",
   "execution_count": 27,
   "id": "fab70fd9",
   "metadata": {},
   "outputs": [],
   "source": [
    "favorite_fruit = \"blueberry\""
   ]
  },
  {
   "cell_type": "code",
   "execution_count": 28,
   "id": "148227ca",
   "metadata": {},
   "outputs": [
    {
     "name": "stdout",
     "output_type": "stream",
     "text": [
      "blueberry\n",
      "b\n"
     ]
    }
   ],
   "source": [
    "print(favorite_fruit)\n",
    "\n",
    "# select first index\n",
    "print(favorite_fruit[0])"
   ]
  },
  {
   "cell_type": "markdown",
   "id": "d3b79511",
   "metadata": {},
   "source": [
    "### sliceing strings"
   ]
  },
  {
   "cell_type": "code",
   "execution_count": 29,
   "id": "2d122583",
   "metadata": {},
   "outputs": [
    {
     "name": "stdout",
     "output_type": "stream",
     "text": [
      "be\n",
      "blue\n",
      "berry\n"
     ]
    }
   ],
   "source": [
    "# string[first_index:last_index]\n",
    "print(favorite_fruit[4:6])\n",
    "\n",
    "print(favorite_fruit[:4])\n",
    "\n",
    "print(favorite_fruit[4:])\n"
   ]
  },
  {
   "cell_type": "markdown",
   "id": "195c525c",
   "metadata": {},
   "source": [
    "### concatinating strings"
   ]
  },
  {
   "cell_type": "code",
   "execution_count": 30,
   "id": "188ea5fe",
   "metadata": {},
   "outputs": [
    {
     "name": "stdout",
     "output_type": "stream",
     "text": [
      "blueberries\n"
     ]
    }
   ],
   "source": [
    "fruit_prefix = \"blue\"\n",
    "fruit_suffix = \"berries\"\n",
    "favorite_fruit = fruit_prefix + fruit_suffix\n",
    "\n",
    "print(favorite_fruit)"
   ]
  },
  {
   "cell_type": "code",
   "execution_count": 31,
   "id": "0ac9be75",
   "metadata": {},
   "outputs": [
    {
     "name": "stdout",
     "output_type": "stream",
     "text": [
      "My favorite fruit isblueberries\n",
      "My favorite fruit is blueberries\n"
     ]
    }
   ],
   "source": [
    "fruit_sentence = \"My favorite fruit is\" + favorite_fruit\n",
    "\n",
    "print(fruit_sentence)\n",
    "# Output: My favorite fruit isblueberries\n",
    "\n",
    "fruit_sentence = \"My favorite fruit is \" + favorite_fruit\n",
    "\n",
    "print(fruit_sentence)"
   ]
  },
  {
   "cell_type": "markdown",
   "id": "93438112",
   "metadata": {},
   "source": [
    "### length of string"
   ]
  },
  {
   "cell_type": "code",
   "execution_count": 32,
   "id": "79e1ebae",
   "metadata": {},
   "outputs": [
    {
     "name": "stdout",
     "output_type": "stream",
     "text": [
      "9\n"
     ]
    }
   ],
   "source": [
    "# len() used to get the length of the function\n",
    "\n",
    "favorite_fruit = \"blueberry\"\n",
    "\n",
    "length = len(favorite_fruit)\n",
    "\n",
    "print(length)"
   ]
  },
  {
   "cell_type": "code",
   "execution_count": 33,
   "id": "2233963b",
   "metadata": {},
   "outputs": [
    {
     "name": "stdout",
     "output_type": "stream",
     "text": [
      "y\n"
     ]
    }
   ],
   "source": [
    "# if we want to get last character of a long string\n",
    "last_char = favorite_fruit[len(favorite_fruit)-1]\n",
    "\n",
    "print(last_char)"
   ]
  },
  {
   "cell_type": "markdown",
   "id": "aae119d4",
   "metadata": {},
   "source": [
    "### negative indices"
   ]
  },
  {
   "cell_type": "code",
   "execution_count": 34,
   "id": "27c695bd",
   "metadata": {},
   "outputs": [
    {
     "name": "stdout",
     "output_type": "stream",
     "text": [
      "y\n",
      "r\n",
      "rry\n"
     ]
    }
   ],
   "source": [
    "# we can use negative indecies to access elements\n",
    "favorite_fruit = 'blueberry'\n",
    "print(favorite_fruit[-1])\n",
    "\n",
    "print(favorite_fruit[-2])\n",
    "\n",
    "print(favorite_fruit[-3:])"
   ]
  },
  {
   "cell_type": "markdown",
   "id": "7a1d1a40",
   "metadata": {},
   "source": [
    "### immutable"
   ]
  },
  {
   "cell_type": "code",
   "execution_count": 35,
   "id": "07ecfde2",
   "metadata": {},
   "outputs": [
    {
     "name": "stdout",
     "output_type": "stream",
     "text": [
      "Rob\n"
     ]
    }
   ],
   "source": [
    "# strings are immutable, means we can not change a string once it is created.\n",
    "\n",
    "first_name = \"Bob\"\n",
    "last_name = \"Daily\"\n",
    "\n",
    "# correct name must be Rob Daily\n",
    "# first_name[0] = R\n",
    "# this results in error\n",
    "\n",
    "# the correct way to fix this\n",
    "fixed_first_name = \"R\" + first_name[1:]\n",
    "print(fixed_first_name)"
   ]
  },
  {
   "cell_type": "markdown",
   "id": "19e55ba1",
   "metadata": {},
   "source": [
    "### escape character"
   ]
  },
  {
   "cell_type": "code",
   "execution_count": 36,
   "id": "9ac17285",
   "metadata": {},
   "outputs": [
    {
     "name": "stdout",
     "output_type": "stream",
     "text": [
      "He said, \"blueberries are my favorite!\"\n"
     ]
    }
   ],
   "source": [
    "# \\ is escape character\n",
    "\n",
    "favorite_fruit_conversation = \"He said, \\\"blueberries are my favorite!\\\"\"\n",
    "print(favorite_fruit_conversation)"
   ]
  },
  {
   "cell_type": "markdown",
   "id": "a9436e02",
   "metadata": {},
   "source": [
    "### iterating through strings"
   ]
  },
  {
   "cell_type": "code",
   "execution_count": 37,
   "id": "bcab8c7b",
   "metadata": {},
   "outputs": [
    {
     "name": "stdout",
     "output_type": "stream",
     "text": [
      "b\n",
      "l\n",
      "u\n",
      "e\n"
     ]
    }
   ],
   "source": [
    "def print_each_letter(word):\n",
    "  for letter in word:\n",
    "    print(letter)\n",
    "\n",
    "favorite_color = \"blue\"\n",
    "print_each_letter(favorite_color)"
   ]
  },
  {
   "cell_type": "markdown",
   "id": "75bb6a65",
   "metadata": {},
   "source": [
    "### strings and conditionals"
   ]
  },
  {
   "cell_type": "code",
   "execution_count": 38,
   "id": "9b0b8cdd",
   "metadata": {},
   "outputs": [
    {
     "name": "stdout",
     "output_type": "stream",
     "text": [
      "2\n"
     ]
    }
   ],
   "source": [
    "# count how many b are in a string\n",
    "favorite_fruit = \"blueberry\"\n",
    "counter = 0\n",
    "for character in favorite_fruit:\n",
    "  if character == \"b\":\n",
    "    counter += 1\n",
    "print(counter)"
   ]
  },
  {
   "cell_type": "code",
   "execution_count": 39,
   "id": "ede63be9",
   "metadata": {},
   "outputs": [
    {
     "name": "stdout",
     "output_type": "stream",
     "text": [
      "True\n",
      "False\n"
     ]
    }
   ],
   "source": [
    "# instead of above code we can use in keyword which returns True or Flase\n",
    "print(\"e\" in \"blueberry\")\n",
    "\n",
    "print(\"a\" in \"blueberry\")"
   ]
  },
  {
   "cell_type": "code",
   "execution_count": 40,
   "id": "a452de21",
   "metadata": {},
   "outputs": [
    {
     "name": "stdout",
     "output_type": "stream",
     "text": [
      "True\n",
      "False\n"
     ]
    }
   ],
   "source": [
    "# in keyword works with letters and also with words\n",
    "print(\"blue\" in \"blueberry\")\n",
    "\n",
    "print(\"blue\" in \"strawberry\")"
   ]
  },
  {
   "cell_type": "code",
   "execution_count": 41,
   "id": "eea80075",
   "metadata": {},
   "outputs": [
    {
     "name": "stdout",
     "output_type": "stream",
     "text": [
      "False\n",
      "True\n"
     ]
    }
   ],
   "source": [
    "print(\"e\" in \"blueberry\" and \"e\" in \"carrot\")\n",
    "\n",
    "print(\"e\" in \"blueberry\" and not \"e\" in \"carrot\")"
   ]
  },
  {
   "cell_type": "markdown",
   "id": "3852346e",
   "metadata": {},
   "source": [
    "### string methods"
   ]
  },
  {
   "cell_type": "code",
   "execution_count": 42,
   "id": "5d466663",
   "metadata": {},
   "outputs": [
    {
     "name": "stdout",
     "output_type": "stream",
     "text": [
      "smooth\n",
      "SMOOTH\n",
      "Smooth\n"
     ]
    }
   ],
   "source": [
    "# string methods only create new strings and won't change the original string\n",
    "# .lower() returns the string with all lowercase characters.\n",
    "# .upper() returns the string with all uppercase characters.\n",
    "# .title() returns the string in title case, which means the first letter of each word is capitalized.\n",
    "\n",
    "favorite_song = 'SmOoTH'\n",
    "favorite_song_lowercase = favorite_song.lower()\n",
    "fovarite_song_uppercase = favorite_song.upper()\n",
    "favorite_song_title = favorite_song.title()\n",
    "print(favorite_song_lowercase)\n",
    "print(fovarite_song_uppercase)\n",
    "print(favorite_song_title)"
   ]
  },
  {
   "cell_type": "code",
   "execution_count": 43,
   "id": "d9dae316",
   "metadata": {},
   "outputs": [
    {
     "name": "stdout",
     "output_type": "stream",
     "text": [
      "['Like', 'seven', 'inches', 'from', 'the', 'midday', 'sun']\n",
      "['sa', 'ta', 'a']\n",
      "['s', 'nt', 'n', '']\n"
     ]
    }
   ],
   "source": [
    "# .split()\n",
    "# .split() is performed on a string, takes one argument, and returns a list of substrings found between the given argument (which in the case of .split() is known as the delimiter). The following syntax should be used:\n",
    "\n",
    "man_its_a_hot_one = \"Like seven inches from the midday sun\"\n",
    "print(man_its_a_hot_one.split())\n",
    "\n",
    "greatest_guitarist = \"santana\"\n",
    "print(greatest_guitarist.split('n'))\n",
    "print(greatest_guitarist.split('a'))"
   ]
  },
  {
   "cell_type": "code",
   "execution_count": 44,
   "id": "df22ee39",
   "metadata": {},
   "outputs": [
    {
     "name": "stdout",
     "output_type": "stream",
     "text": [
      "['Audre Lorde', 'Gabriela Mistral', 'Jean Toomer', 'An Qi', 'Walt Whitman', 'Shel Silverstein', 'Carmen Boullosa', 'Kamala Suraiyya', 'Langston Hughes', 'Adrienne Rich', 'Nikki Giovanni']\n",
      "['Lorde', 'Mistral', 'Toomer', 'Qi', 'Whitman', 'Silverstein', 'Boullosa', 'Suraiyya', 'Hughes', 'Rich', 'Giovanni']\n"
     ]
    }
   ],
   "source": [
    "authors = \"Audre Lorde,Gabriela Mistral,Jean Toomer,An Qi,Walt Whitman,Shel Silverstein,Carmen Boullosa,Kamala Suraiyya,Langston Hughes,Adrienne Rich,Nikki Giovanni\"\n",
    "\n",
    "author_names = authors.split(\",\")\n",
    "print(author_names)\n",
    "\n",
    "# just keep last names\n",
    "author_last_names = []\n",
    "for name in author_names:\n",
    "  author_last_names.append(name.split()[-1])\n",
    "  \n",
    "print(author_last_names)"
   ]
  },
  {
   "cell_type": "code",
   "execution_count": 45,
   "id": "b09ce027",
   "metadata": {},
   "outputs": [
    {
     "name": "stdout",
     "output_type": "stream",
     "text": [
      "['And if you said, \"This life ain\\'t good enough.\"', 'I would give my world to lift you up', 'I could change my life to better suit your mood', \"Because you're so smooth\"]\n"
     ]
    }
   ],
   "source": [
    "smooth_chorus = \\\n",
    "\"\"\"And if you said, \"This life ain't good enough.\"\n",
    "I would give my world to lift you up\n",
    "I could change my life to better suit your mood\n",
    "Because you're so smooth\"\"\"\n",
    "\n",
    "chorus_lines = smooth_chorus.split('\\n')\n",
    "\n",
    "print(chorus_lines)"
   ]
  },
  {
   "cell_type": "code",
   "execution_count": 46,
   "id": "0319fa2c",
   "metadata": {},
   "outputs": [
    {
     "name": "stdout",
     "output_type": "stream",
     "text": [
      "My Spanish Harlem Mona Lisa\n",
      "MySpanishHarlemMonaLisa\n"
     ]
    }
   ],
   "source": [
    "# .join()\n",
    "# .join() is essentially the opposite of .split(), it joins a list of strings together with a given delimiter.\n",
    "\n",
    "my_munequita = ['My', 'Spanish', 'Harlem', 'Mona', 'Lisa']\n",
    "print(' '.join(my_munequita))\n",
    "print(''.join(my_munequita))"
   ]
  },
  {
   "cell_type": "code",
   "execution_count": 47,
   "id": "93d349bd",
   "metadata": {},
   "outputs": [
    {
     "name": "stdout",
     "output_type": "stream",
     "text": [
      "Black reapers with the sound of steel on stones\n"
     ]
    }
   ],
   "source": [
    "reapers_line_one_words = [\"Black\", \"reapers\", \"with\", \"the\", \"sound\", \"of\", \"steel\", \"on\", \"stones\"]\n",
    "\n",
    "reapers_line_one = \" \".join(reapers_line_one_words)\n",
    "print(reapers_line_one)"
   ]
  },
  {
   "cell_type": "code",
   "execution_count": 48,
   "id": "e5b75dfd",
   "metadata": {},
   "outputs": [
    {
     "name": "stdout",
     "output_type": "stream",
     "text": [
      "Oye Como Va,Smooth,Black Magic Woman,Samba Pa Ti,Maria Maria\n"
     ]
    }
   ],
   "source": [
    "santana_songs = ['Oye Como Va', 'Smooth', 'Black Magic Woman', 'Samba Pa Ti', 'Maria Maria']\n",
    "santana_songs_csv = ','.join(santana_songs)\n",
    "print(santana_songs_csv)"
   ]
  },
  {
   "cell_type": "code",
   "execution_count": 49,
   "id": "89c10215",
   "metadata": {},
   "outputs": [
    {
     "name": "stdout",
     "output_type": "stream",
     "text": [
      "Well I'm from the barrio\n",
      "You hear my rhythm on your radio\n",
      "You feel the turning of the world so soft and slow\n",
      "Turning you 'round and 'round\n"
     ]
    }
   ],
   "source": [
    "smooth_fifth_verse_lines = ['Well I\\'m from the barrio', 'You hear my rhythm on your radio', 'You feel the turning of the world so soft and slow', 'Turning you \\'round and \\'round']\n",
    "\n",
    "smooth_fifth_verse = '\\n'.join(smooth_fifth_verse_lines)\n",
    "\n",
    "print(smooth_fifth_verse)"
   ]
  },
  {
   "cell_type": "code",
   "execution_count": 50,
   "id": "a1ed749d",
   "metadata": {},
   "outputs": [
    {
     "name": "stdout",
     "output_type": "stream",
     "text": [
      "rob thomas\n",
      "rob thomas      \n"
     ]
    }
   ],
   "source": [
    "# .strip()\n",
    "# to remove extra whitespaces, unnecessary linebreaks and rouge tabs.\n",
    "\n",
    "featuring = \"           rob thomas                 \"\n",
    "print(featuring.strip())\n",
    "\n",
    "featuring_1 = \"!!!rob thomas      !!!!!\"\n",
    "print(featuring_1.strip('!')) # this one still has the spaces"
   ]
  },
  {
   "cell_type": "code",
   "execution_count": 51,
   "id": "afd9a385",
   "metadata": {},
   "outputs": [
    {
     "name": "stdout",
     "output_type": "stream",
     "text": [
      "Eloise\n"
     ]
    }
   ],
   "source": [
    "user_name = \":::::::: Eloise :::::::::::\"\n",
    "\n",
    "user_name_fixed = user_name.strip(\":\").strip()\n",
    "print(user_name_fixed)"
   ]
  },
  {
   "cell_type": "code",
   "execution_count": 52,
   "id": "38141c27",
   "metadata": {},
   "outputs": [
    {
     "name": "stdout",
     "output_type": "stream",
     "text": [
      "You_got_the_kind_of_loving_that_can_be_so_smooth\n"
     ]
    }
   ],
   "source": [
    "# .replace()\n",
    "# Replace takes two arguments and replaces all instances of the first argument in a string with the second argument. \n",
    "# string_name.replace(substring_being_replaced, new_substring)\n",
    "\n",
    "with_spaces = \"You got the kind of loving that can be so smooth\"\n",
    "with_underscores = with_spaces.replace(' ', '_')\n",
    "print(with_underscores)"
   ]
  },
  {
   "cell_type": "code",
   "execution_count": 53,
   "id": "f065436e",
   "metadata": {},
   "outputs": [
    {
     "name": "stdout",
     "output_type": "stream",
     "text": [
      "4\n",
      "2\n"
     ]
    }
   ],
   "source": [
    "# .find()\n",
    "# find() takes a string as an argument and searching the string it was run on for that string. It then returns the first index value where that string is located.\n",
    "\n",
    "print('smooth'.find('t'))\n",
    "print(\"smooth\".find('oo'))"
   ]
  },
  {
   "cell_type": "code",
   "execution_count": 54,
   "id": "4a16b4d0",
   "metadata": {},
   "outputs": [
    {
     "name": "stdout",
     "output_type": "stream",
     "text": [
      "My favorite song is Smooth by Santana.\n"
     ]
    }
   ],
   "source": [
    "# .format()\n",
    "# .format() takes variables as an argument and includes them in the string that it is run on. You include {} marks as placeholders for where those variables will be imported.\n",
    "\n",
    "def favorite_song_statement(song, artist):\n",
    "  return \"My favorite song is {} by {}.\".format(song, artist)\n",
    "\n",
    "print(favorite_song_statement(\"Smooth\", \"Santana\"))"
   ]
  },
  {
   "cell_type": "code",
   "execution_count": 55,
   "id": "b56f394f",
   "metadata": {},
   "outputs": [],
   "source": [
    "# .format() can be made even more legible for other people reading your code by including keywords. \n",
    "\n",
    "def favorite_song_statement(song, artist):\n",
    "  return \"My favorite song is {song} by {artist}.\".format(song=song, artist=artist)\n",
    "\n",
    "# even now if keywords are not in order, the code still works\n",
    "def favorite_song_statement(song, artist):\n",
    "  # this will have the same output as the above example\n",
    "  return \"My favorite song is {song} by {artist}.\".format(artist=artist, song=song)"
   ]
  },
  {
   "cell_type": "code",
   "execution_count": 56,
   "id": "5015be10",
   "metadata": {},
   "outputs": [
    {
     "name": "stdout",
     "output_type": "stream",
     "text": [
      "My favorite song is Smooth by Santana.\n"
     ]
    }
   ],
   "source": [
    "# new version of .format() is f string\n",
    "def favorite_song_statement(song, artist):\n",
    "  return f\"My favorite song is {song} by {artist}.\"\n",
    "\n",
    "print(favorite_song_statement(\"Smooth\", \"Santana\"))"
   ]
  },
  {
   "cell_type": "markdown",
   "id": "43c490f0",
   "metadata": {},
   "source": [
    "## tuples"
   ]
  },
  {
   "cell_type": "code",
   "execution_count": 57,
   "id": "af4d9e5c",
   "metadata": {},
   "outputs": [
    {
     "name": "stdout",
     "output_type": "stream",
     "text": [
      "Salar\n",
      "30\n"
     ]
    }
   ],
   "source": [
    "# you can store different data types and they are ordered but immutable (can not be changed)\n",
    "my_info = (\"Salar\", 30, \"programmer\")\n",
    "print(my_info[0])\n",
    "print(my_info[1])"
   ]
  },
  {
   "cell_type": "markdown",
   "id": "fab5d32f",
   "metadata": {},
   "source": [
    "### tuple unpacking"
   ]
  },
  {
   "cell_type": "code",
   "execution_count": 58,
   "id": "e8d7aab4",
   "metadata": {},
   "outputs": [
    {
     "name": "stdout",
     "output_type": "stream",
     "text": [
      "Salar\n",
      "programmer\n"
     ]
    }
   ],
   "source": [
    "name, age, occupation = my_info\n",
    "print(name)\n",
    "print(occupation)"
   ]
  },
  {
   "cell_type": "code",
   "execution_count": 59,
   "id": "c5e2c938",
   "metadata": {},
   "outputs": [
    {
     "data": {
      "text/plain": [
       "(4,)"
      ]
     },
     "execution_count": 59,
     "metadata": {},
     "output_type": "execute_result"
    }
   ],
   "source": [
    "# if we want to create one element tuple\n",
    "one_element_tuple = (4,)\n",
    "one_element_tuple"
   ]
  },
  {
   "cell_type": "markdown",
   "id": "d9002103",
   "metadata": {},
   "source": [
    "## lists"
   ]
  },
  {
   "cell_type": "code",
   "execution_count": 60,
   "id": "f1b875b4",
   "metadata": {},
   "outputs": [],
   "source": [
    "# lists can contain any data type\n",
    "mixed_list_common = [\"Mia\", 27, False, 0.5]\n",
    "\n",
    "# empty list\n",
    "empty_list = []"
   ]
  },
  {
   "cell_type": "code",
   "execution_count": 61,
   "id": "aa23f014",
   "metadata": {},
   "outputs": [
    {
     "name": "stdout",
     "output_type": "stream",
     "text": [
      "['hallway', 11.25, 'kitchen', 18.0, 'living room', 20.0, 'bedroom', 10.75, 'bathroom', 9.5]\n",
      "[['hallway', 11.25], ['kitchen', 18.0], ['living room', 20.0], ['bedroom', 10.75], ['bathroom', 9.5]]\n"
     ]
    }
   ],
   "source": [
    "# House Areas\n",
    "hall = 11.25\n",
    "kit = 18.0\n",
    "liv = 20.0\n",
    "bed = 10.75\n",
    "bath = 9.50\n",
    "\n",
    "# creating list of areas\n",
    "areas = [\"hallway\", hall,\n",
    "         \"kitchen\", kit,\n",
    "         \"living room\", liv,\n",
    "         \"bedroom\", bed,\n",
    "         \"bathroom\", bath]\n",
    "\n",
    "print(areas)\n",
    "\n",
    "# creating list of list\n",
    "house = [[\"hallway\", hall],\n",
    "         [\"kitchen\", kit],\n",
    "         [\"living room\", liv],\n",
    "         [\"bedroom\", bed],\n",
    "         [\"bathroom\", bath]]\n",
    "\n",
    "print(house)"
   ]
  },
  {
   "cell_type": "markdown",
   "id": "6821bb91",
   "metadata": {},
   "source": [
    "### list methods"
   ]
  },
  {
   "cell_type": "code",
   "execution_count": 62,
   "id": "dbf45073",
   "metadata": {},
   "outputs": [
    {
     "name": "stdout",
     "output_type": "stream",
     "text": [
      "[1, 2, 3, 4, 5]\n"
     ]
    }
   ],
   "source": [
    "# .append()\n",
    "\n",
    "example_list = [1, 2, 3, 4]\n",
    "\n",
    "example_list.append(5)\n",
    "print(example_list)"
   ]
  },
  {
   "cell_type": "code",
   "execution_count": 63,
   "id": "94dd5514",
   "metadata": {},
   "outputs": [
    {
     "name": "stdout",
     "output_type": "stream",
     "text": [
      "[1, 2, 3, 4]\n"
     ]
    }
   ],
   "source": [
    "# .remove()\n",
    "\n",
    "# if the element we want to remove has duplicates, remove method only removes the first instance.\n",
    "# if we try to remove element that does not exist we get index error or Value error\n",
    "example_list.remove(5)\n",
    "print(example_list)"
   ]
  },
  {
   "cell_type": "code",
   "execution_count": 64,
   "id": "b63c1d94",
   "metadata": {},
   "outputs": [
    {
     "name": "stdout",
     "output_type": "stream",
     "text": [
      "['cake', 'cookie', 'bread', 'buscuit', 'tart']\n"
     ]
    }
   ],
   "source": [
    "# append only adds one items at a time, if want to add multiple items we can use + (concatenation)\n",
    "items_sold = [\"cake\", \"cookie\", \"bread\"]\n",
    "\n",
    "# we want to add \"buscuit\" and \"tart\" to the list\n",
    "items_sold_new = items_sold + [\"buscuit\", \"tart\"]\n",
    "print(items_sold_new)"
   ]
  },
  {
   "cell_type": "code",
   "execution_count": 65,
   "id": "f2b3a589",
   "metadata": {},
   "outputs": [
    {
     "name": "stdout",
     "output_type": "stream",
     "text": [
      "['Karla', 'Maxium', 'Vikor', 'Martim', 'Isabella']\n"
     ]
    }
   ],
   "source": [
    "# .insert() method\n",
    "\n",
    "store_line = [\"Karla\", \"Maxium\", \"Martim\", \"Isabella\"]\n",
    "\n",
    "store_line.insert(2, \"Vikor\")\n",
    "print(store_line) "
   ]
  },
  {
   "cell_type": "code",
   "execution_count": 66,
   "id": "ca846c3f",
   "metadata": {},
   "outputs": [
    {
     "name": "stdout",
     "output_type": "stream",
     "text": [
      "['Python', 'Data Structures', 'Balloon Making', 'Algorithms']\n",
      "Clowns 101\n",
      "['Python', 'Data Structures', 'Algorithms']\n"
     ]
    }
   ],
   "source": [
    "# .pop() removing by index\n",
    "# Passing in an index that does not exist or calling .pop() on an empty list will both result in an IndexError.\n",
    "\n",
    "cs_topics = [\"Python\", \"Data Structures\", \"Balloon Making\", \"Algorithms\", \"Clowns 101\"]\n",
    "\n",
    "removed_element = cs_topics.pop()\n",
    "print(cs_topics)\n",
    "print(removed_element)\n",
    "\n",
    "cs_topics.pop(2)\n",
    "print(cs_topics)"
   ]
  },
  {
   "cell_type": "code",
   "execution_count": 67,
   "id": "69cc77bf",
   "metadata": {},
   "outputs": [
    {
     "name": "stdout",
     "output_type": "stream",
     "text": [
      "<class 'range'>\n",
      "[0, 1, 2, 3, 4, 5, 6, 7, 8, 9]\n",
      "[2, 3, 4, 5, 6, 7, 8]\n",
      "[2, 4, 6, 8]\n",
      "[1, 11, 21, 31, 41, 51, 61, 71, 81, 91]\n"
     ]
    }
   ],
   "source": [
    "# range function / list function\n",
    "\n",
    "# this below creats range object\n",
    "my_range = range(10)\n",
    "print(type(my_range))\n",
    "\n",
    "# to turn this object to list, we use list funtion\n",
    "print(list(my_range))\n",
    "\n",
    "# if we enter one number to range function, the range starts at zero, if we want to start on number other that zero, we need to enter 2 numbers\n",
    "my_list = range(2, 9)\n",
    "print(list(my_list))\n",
    "\n",
    "# if we enter 3 numbers in range function, we can create list that skips numbers\n",
    "my_range2 = range(2, 9, 2)\n",
    "print(list(my_range2))\n",
    "\n",
    "my_range3 = range(1, 100, 10)\n",
    "print(list(my_range3))"
   ]
  },
  {
   "cell_type": "code",
   "execution_count": 68,
   "id": "e4c4b5b1",
   "metadata": {},
   "outputs": [
    {
     "name": "stdout",
     "output_type": "stream",
     "text": [
      "5\n"
     ]
    }
   ],
   "source": [
    "# len() function\n",
    "\n",
    "my_list = [1, 2, 3, 4, 5]\n",
    "\n",
    "print(len(my_list))"
   ]
  },
  {
   "cell_type": "code",
   "execution_count": 69,
   "id": "bcd08f66",
   "metadata": {},
   "outputs": [
    {
     "name": "stdout",
     "output_type": "stream",
     "text": [
      "4\n"
     ]
    }
   ],
   "source": [
    "# .count() method to count occurances of an item on the list\n",
    "letters = [\"m\", \"i\", \"s\", \"s\", \"i\", \"s\", \"s\", \"i\", \"p\", \"p\", \"i\"]\n",
    "num_i = letters.count(\"i\")\n",
    "print(num_i)"
   ]
  },
  {
   "cell_type": "code",
   "execution_count": 70,
   "id": "17272198",
   "metadata": {},
   "outputs": [
    {
     "name": "stdout",
     "output_type": "stream",
     "text": [
      "['Angel', 'Buffy', 'Giles', 'Willow', 'Xander']\n",
      "['Xander', 'Willow', 'Giles', 'Buffy', 'Angel']\n"
     ]
    }
   ],
   "source": [
    "# .sort() method for sorting list\n",
    "names = [\"Xander\", \"Buffy\", \"Angel\", \"Willow\", \"Giles\"]\n",
    "\n",
    "names.sort()\n",
    "print(names)\n",
    "\n",
    "names.sort(reverse=True)\n",
    "print(names)"
   ]
  },
  {
   "cell_type": "code",
   "execution_count": 71,
   "id": "1fa91670",
   "metadata": {},
   "outputs": [
    {
     "name": "stdout",
     "output_type": "stream",
     "text": [
      "['Angel', 'Buffy', 'Giles', 'Willow', 'Xander']\n",
      "['Xander', 'Buffy', 'Angel', 'Willow', 'Giles']\n"
     ]
    }
   ],
   "source": [
    "# sorted() function\n",
    "# difference between .sort() method and sorted function is the method modifies the list but the function generates new list\n",
    "names = [\"Xander\", \"Buffy\", \"Angel\", \"Willow\", \"Giles\"]\n",
    "\n",
    "sorted_names = sorted(names)\n",
    "print(sorted_names)\n",
    "print(names)"
   ]
  },
  {
   "cell_type": "markdown",
   "id": "2abf2ceb",
   "metadata": {},
   "source": [
    "### accessing list elements"
   ]
  },
  {
   "cell_type": "code",
   "execution_count": 72,
   "id": "a8505c37",
   "metadata": {},
   "outputs": [
    {
     "name": "stdout",
     "output_type": "stream",
     "text": [
      "Pam\n"
     ]
    }
   ],
   "source": [
    "# python list start at index zero\n",
    "employees = [\"Michael\", \"Dwight\", \"Jim\", \"Pam\", \"Ryan\", \"Andy\", \"Robert\"]\n",
    "\n",
    "employee_four = employees[3]\n",
    "print(employee_four)\n",
    "\n",
    "# print(employees[8])\n",
    "# we get index error because index 8 does not exist"
   ]
  },
  {
   "cell_type": "code",
   "execution_count": 73,
   "id": "1629d455",
   "metadata": {},
   "outputs": [
    {
     "name": "stdout",
     "output_type": "stream",
     "text": [
      "cereal\n",
      "cereal\n"
     ]
    }
   ],
   "source": [
    "# negative index\n",
    "shopping_list = [\"eggs\", \"butter\", \"milk\", \"cucumbers\", \"juice\", \"cereal\"]\n",
    "\n",
    "last_element = shopping_list[-1]\n",
    "index5_element = shopping_list[5]\n",
    "\n",
    "print(last_element)\n",
    "print(index5_element)"
   ]
  },
  {
   "cell_type": "code",
   "execution_count": 74,
   "id": "5d50fc69",
   "metadata": {},
   "outputs": [
    {
     "name": "stdout",
     "output_type": "stream",
     "text": [
      "['b', 'c', 'd', 'e', 'f']\n"
     ]
    }
   ],
   "source": [
    "# list slicing list[start: end] - end is the index we want + 1\n",
    "\n",
    "letters = [\"a\", \"b\", \"c\", \"d\", \"e\", \"f\", \"g\"]\n",
    "# we want letter b to f\n",
    "sliced_list = letters[1:6]\n",
    "print(sliced_list)"
   ]
  },
  {
   "cell_type": "code",
   "execution_count": 75,
   "id": "81956efe",
   "metadata": {},
   "outputs": [
    {
     "name": "stdout",
     "output_type": "stream",
     "text": [
      "['apple', 'cherry', 'pineapple']\n",
      "['orange', 'mango']\n"
     ]
    }
   ],
   "source": [
    "# slicing for first n elements list[:n]\n",
    "fruits = [\"apple\", \"cherry\", \"pineapple\", \"orange\", \"mango\"]\n",
    "print(fruits[:3])\n",
    "\n",
    "# accessing last n element list[-n:]\n",
    "print(fruits[-2:])"
   ]
  },
  {
   "cell_type": "markdown",
   "id": "14684d30",
   "metadata": {},
   "source": [
    "### modifying elements"
   ]
  },
  {
   "cell_type": "code",
   "execution_count": 76,
   "id": "82755033",
   "metadata": {},
   "outputs": [
    {
     "name": "stdout",
     "output_type": "stream",
     "text": [
      "['Tomatoes', 'Green Beans', 'Strawberries', 'Grapes']\n"
     ]
    }
   ],
   "source": [
    "# replacing cauliflower with straberries\n",
    "garden = [\"Tomatoes\", \"Green Beans\", \"Cauliflower\", \"Grapes\"]\n",
    "\n",
    "garden[2] = \"Strawberries\"\n",
    "print(garden)"
   ]
  },
  {
   "cell_type": "markdown",
   "id": "4f5ff9c0",
   "metadata": {},
   "source": [
    "### 2D lists"
   ]
  },
  {
   "cell_type": "code",
   "execution_count": 77,
   "id": "2cfb7ecc",
   "metadata": {},
   "outputs": [
    {
     "name": "stdout",
     "output_type": "stream",
     "text": [
      "[['Noelle', 61], ['Ava', 70], ['Sam', 67], ['Mia', 64]]\n"
     ]
    }
   ],
   "source": [
    "# lists can contain other list as elements, we call these 2D list\n",
    "heights = [[\"Noelle\", 61], [\"Ava\", 70], [\"Sam\", 67], [\"Mia\", 64]]\n",
    "print(heights)"
   ]
  },
  {
   "cell_type": "code",
   "execution_count": 78,
   "id": "99cd1d17",
   "metadata": {},
   "outputs": [
    {
     "name": "stdout",
     "output_type": "stream",
     "text": [
      "61\n"
     ]
    }
   ],
   "source": [
    "# accessing 2D list\n",
    "noelles_height = heights[0][1]\n",
    "print(noelles_height)"
   ]
  },
  {
   "cell_type": "code",
   "execution_count": 79,
   "id": "eb8a4dde",
   "metadata": {},
   "outputs": [
    {
     "name": "stdout",
     "output_type": "stream",
     "text": [
      "[['Jenny', 'Meditation'], ['Alexus', 'Photography'], ['Grace', 'Soccer']]\n"
     ]
    }
   ],
   "source": [
    "# modifying 2D list\n",
    "class_name_hobbies = [[\"Jenny\", \"Breakdancing\"], [\"Alexus\", \"Photography\"], [\"Grace\", \"Soccer\"]]\n",
    "\n",
    "# change Jenny's hobby to meditation\n",
    "class_name_hobbies[0][1] = \"Meditation\"\n",
    "print(class_name_hobbies)"
   ]
  },
  {
   "cell_type": "code",
   "execution_count": 80,
   "id": "e2745dbd",
   "metadata": {},
   "outputs": [
    {
     "name": "stdout",
     "output_type": "stream",
     "text": [
      "2\n"
     ]
    }
   ],
   "source": [
    "# .count() with 2D list\n",
    "number_collection = [[100, 200], [100, 200], [475, 29], [34, 34]]\n",
    "num_pairs = number_collection.count([100, 200])\n",
    "print(num_pairs)"
   ]
  },
  {
   "cell_type": "markdown",
   "id": "bc7fefa3",
   "metadata": {},
   "source": [
    "### list unpacking"
   ]
  },
  {
   "cell_type": "code",
   "execution_count": 81,
   "id": "6553d20a",
   "metadata": {},
   "outputs": [
    {
     "name": "stdout",
     "output_type": "stream",
     "text": [
      "1\n",
      "2\n",
      "3\n"
     ]
    }
   ],
   "source": [
    "numbers = [1, 2, 3]\n",
    "first, second, third = numbers # first = 1, second = 2, third = 3\n",
    "print(first)\n",
    "print(second)\n",
    "print(third)"
   ]
  },
  {
   "cell_type": "code",
   "execution_count": 82,
   "id": "d9143419",
   "metadata": {},
   "outputs": [
    {
     "name": "stdout",
     "output_type": "stream",
     "text": [
      "1\n",
      "2\n",
      "[3, 4, 5, 6]\n"
     ]
    }
   ],
   "source": [
    "numbers = [1, 2, 3, 4, 5, 6]\n",
    "first_1, second_2, *others = numbers\n",
    "print(first_1)\n",
    "print(second_2)\n",
    "print(others)"
   ]
  },
  {
   "cell_type": "markdown",
   "id": "b6bd7f86",
   "metadata": {},
   "source": [
    "### combining lists: zip function"
   ]
  },
  {
   "cell_type": "code",
   "execution_count": 83,
   "id": "5cc0deea",
   "metadata": {},
   "outputs": [
    {
     "name": "stdout",
     "output_type": "stream",
     "text": [
      "<zip object at 0x104ac7940>\n",
      "[('Jenny', 61), ('Alexus', 70), ('Sam', 67), ('Grace', 64)]\n"
     ]
    }
   ],
   "source": [
    "# allows to combine list\n",
    "names = [\"Jenny\", \"Alexus\", \"Sam\", \"Grace\"]\n",
    "heights = [61, 70, 67, 64]\n",
    "\n",
    "# we want to create a nested list that combines each name with a height\n",
    "names_and_heights = zip(names, heights)\n",
    "print(names_and_heights)\n",
    "converted_list = list(names_and_heights)\n",
    "print(converted_list)\n",
    "\n",
    "# when using zip function, the inner elements does not use [] because they are converted to tuples."
   ]
  },
  {
   "cell_type": "markdown",
   "id": "8d298081",
   "metadata": {},
   "source": [
    "### list comprehension"
   ]
  },
  {
   "cell_type": "code",
   "execution_count": 84,
   "id": "664d159e",
   "metadata": {},
   "outputs": [
    {
     "name": "stdout",
     "output_type": "stream",
     "text": [
      "[4, -2, 158, 66, -90]\n"
     ]
    }
   ],
   "source": [
    "# list comprehension syntax\n",
    "# new_list = [<expression> for <element> in <collection>]\n",
    "numbers = [2, -1, 79, 33, -45]\n",
    "doubled = []\n",
    "\n",
    "for number in numbers:\n",
    "  doubled.append(number * 2)\n",
    "\n",
    "print(doubled)"
   ]
  },
  {
   "cell_type": "code",
   "execution_count": 85,
   "id": "7295c819",
   "metadata": {},
   "outputs": [
    {
     "name": "stdout",
     "output_type": "stream",
     "text": [
      "[4, -2, 158, 66, -90]\n"
     ]
    }
   ],
   "source": [
    "# same output via list comprehension\n",
    "numbers = [2, -1, 79, 33, -45]\n",
    "doubled = [num * 2 for num in numbers]\n",
    "print(doubled)"
   ]
  },
  {
   "cell_type": "code",
   "execution_count": 86,
   "id": "c8b781c8",
   "metadata": {},
   "outputs": [
    {
     "name": "stdout",
     "output_type": "stream",
     "text": [
      "[-2, -90]\n"
     ]
    }
   ],
   "source": [
    "# list comprehension with conditionals\n",
    "# if we want to double only negative numbers in numbers list\n",
    "\n",
    "numbers = [2, -1, 79, 33, -45]\n",
    "only_negative_doubled = []\n",
    "\n",
    "for num in numbers:\n",
    "  if num < 0: \n",
    "    only_negative_doubled.append(num * 2)\n",
    "\n",
    "print(only_negative_doubled) "
   ]
  },
  {
   "cell_type": "code",
   "execution_count": 87,
   "id": "027db463",
   "metadata": {},
   "outputs": [
    {
     "name": "stdout",
     "output_type": "stream",
     "text": [
      "[-2, -90]\n"
     ]
    }
   ],
   "source": [
    "# same output via list comprehension\n",
    "numbers = [2, -1, 79, 33, -45]\n",
    "negative_doubled = [num * 2 for num in numbers if num < 0]\n",
    "print(negative_doubled)"
   ]
  },
  {
   "cell_type": "code",
   "execution_count": 88,
   "id": "83eff213",
   "metadata": {},
   "outputs": [
    {
     "name": "stdout",
     "output_type": "stream",
     "text": [
      "[6, -2, 237, 99, -90]\n"
     ]
    }
   ],
   "source": [
    "# list comprehension with if else statement\n",
    "numbers = [2, -1, 79, 33, -45]\n",
    "doubled = [num * 2 if num < 0 else num * 3 for num in numbers ]\n",
    "print(doubled)"
   ]
  },
  {
   "cell_type": "markdown",
   "id": "3bd2371c",
   "metadata": {},
   "source": [
    "## functions"
   ]
  },
  {
   "cell_type": "code",
   "execution_count": 89,
   "id": "4cd0dec0",
   "metadata": {},
   "outputs": [],
   "source": [
    "# python has built in functions and user defined functions\n",
    "\n",
    "# some builtin functions are:\n",
    "# print\n",
    "# srt()\n",
    "# len()\n",
    "# help()\n",
    "# min() and max()\n",
    "# round()\n",
    "# return"
   ]
  },
  {
   "cell_type": "code",
   "execution_count": 90,
   "id": "f0b0a807",
   "metadata": {},
   "outputs": [
    {
     "name": "stdout",
     "output_type": "stream",
     "text": [
      "9.8\n"
     ]
    }
   ],
   "source": [
    "# round function \n",
    "tshirt_price = 9.75\n",
    "\n",
    "rounded_price = round(tshirt_price, 1)\n",
    "print(rounded_price)"
   ]
  },
  {
   "cell_type": "markdown",
   "id": "013e2182",
   "metadata": {},
   "source": [
    "### defining function"
   ]
  },
  {
   "cell_type": "code",
   "execution_count": 91,
   "id": "8a791ef3",
   "metadata": {},
   "outputs": [
    {
     "name": "stdout",
     "output_type": "stream",
     "text": [
      "Welcome to Tripcademy!\n",
      "Let's get you to your destination.\n"
     ]
    }
   ],
   "source": [
    "# to define a function\n",
    "def trip_welcome():\n",
    "  print(\"Welcome to Tripcademy!\") \n",
    "  print(\"Let's get you to your destination.\")\n",
    "    \n",
    "# to call a function\n",
    "trip_welcome()"
   ]
  },
  {
   "cell_type": "code",
   "execution_count": 92,
   "id": "dc0d5e43",
   "metadata": {},
   "outputs": [
    {
     "name": "stdout",
     "output_type": "stream",
     "text": [
      "Welcome to Tripcademy!\n",
      "Looks like you're going to Denver today.\n"
     ]
    }
   ],
   "source": [
    "# defining function with one parameter\n",
    "def trip_welcome(destination):\n",
    "  print(\"Welcome to Tripcademy!\") \n",
    "  print(\"Looks like you're going to \" + destination + \" today.\")\n",
    "    \n",
    "trip_welcome(\"Denver\")"
   ]
  },
  {
   "cell_type": "code",
   "execution_count": 93,
   "id": "ec233af5",
   "metadata": {},
   "outputs": [
    {
     "name": "stdout",
     "output_type": "stream",
     "text": [
      "Welcome to Tripcademy\n",
      "Looks like you are traveling from Prospect Park\n",
      "And you are heading to Atlantic Terminal\n"
     ]
    }
   ],
   "source": [
    "# defining function with multiple parameters\n",
    "def trip_welcome(origin, destination):\n",
    "  print(\"Welcome to Tripcademy\")\n",
    "  print(\"Looks like you are traveling from \" + origin)\n",
    "  print(\"And you are heading to \" + destination)\n",
    "\n",
    "trip_welcome(\"Prospect Park\", \"Atlantic Terminal\")"
   ]
  },
  {
   "cell_type": "code",
   "execution_count": 94,
   "id": "c12d312e",
   "metadata": {},
   "outputs": [
    {
     "name": "stdout",
     "output_type": "stream",
     "text": [
      "40.0\n"
     ]
    }
   ],
   "source": [
    "# function with keyword arguments\n",
    "def calculate_taxi_price(miles_to_travel, rate, discount):\n",
    "  print(miles_to_travel * rate - discount )\n",
    "\n",
    "calculate_taxi_price(rate=0.5, discount=10, miles_to_travel=100)"
   ]
  },
  {
   "cell_type": "code",
   "execution_count": 95,
   "id": "fbded54c",
   "metadata": {},
   "outputs": [
    {
     "name": "stdout",
     "output_type": "stream",
     "text": [
      "-5.0\n",
      "-15.0\n"
     ]
    }
   ],
   "source": [
    "# funtion with default values\n",
    "def calculate_taxi_price(miles_to_travel, rate, discount = 10):\n",
    "  print(miles_to_travel * rate - discount )\n",
    "\n",
    "\n",
    "# Using the default value of 10 for discount.\n",
    "calculate_taxi_price(10, 0.5)\n",
    "\n",
    "# Overwriting the default value of 10 with 20\n",
    "calculate_taxi_price(10, 0.5, 20)"
   ]
  },
  {
   "cell_type": "markdown",
   "id": "73d2e011",
   "metadata": {},
   "source": [
    "### return"
   ]
  },
  {
   "cell_type": "code",
   "execution_count": 96,
   "id": "126e1fdc",
   "metadata": {},
   "outputs": [
    {
     "name": "stdout",
     "output_type": "stream",
     "text": [
      "100 dollars in US currency would give you 140.0 New Zealand dollars\n"
     ]
    }
   ],
   "source": [
    "# return - Functions can also return a value to the program so that this value can be modified or used later.\n",
    "def calculate_exchange_usd(us_dollars, exchange_rate):\n",
    "  return us_dollars * exchange_rate\n",
    "\n",
    "new_zealand_exchange = calculate_exchange_usd(100, 1.4)\n",
    "\n",
    "print(\"100 dollars in US currency would give you \" + str(new_zealand_exchange) + \" New Zealand dollars\")"
   ]
  },
  {
   "cell_type": "code",
   "execution_count": 97,
   "id": "ff26f7b5",
   "metadata": {},
   "outputs": [
    {
     "name": "stdout",
     "output_type": "stream",
     "text": [
      " Tomorrow the weather will be Sunny\n",
      " The following day it will be Sunny\n",
      " Two days from now it will be Cloudy\n"
     ]
    }
   ],
   "source": [
    "# multiple returns - We can return several values by separating them with a comma.\n",
    "weather_data = ['Sunny', 'Sunny', 'Cloudy', 'Raining', 'Snowing']\n",
    "\n",
    "def threeday_weather_report(weather):\n",
    "  first_day = \" Tomorrow the weather will be \" + weather[0]\n",
    "  second_day = \" The following day it will be \" + weather[1]\n",
    "  third_day = \" Two days from now it will be \" + weather[2]\n",
    "  return first_day, second_day, third_day\n",
    "\n",
    "monday, tuesday, wednesday = threeday_weather_report(weather_data)\n",
    "\n",
    "print(monday)\n",
    "print(tuesday)\n",
    "print(wednesday)"
   ]
  },
  {
   "cell_type": "code",
   "execution_count": 98,
   "id": "71ede434",
   "metadata": {},
   "outputs": [
    {
     "name": "stdout",
     "output_type": "stream",
     "text": [
      "Rome\n",
      "Venice\n",
      "Florence\n"
     ]
    }
   ],
   "source": [
    "def top_tourist_locations_italy():\n",
    "  first = \"Rome\"\n",
    "  second = \"Venice\"\n",
    "  third = \"Florence\"\n",
    "  return first, second, third\n",
    "\n",
    "most_popular1, most_popular2, most_popular3 = top_tourist_locations_italy()\n",
    "\n",
    "print(most_popular1)\n",
    "print(most_popular2)\n",
    "print(most_popular3)"
   ]
  },
  {
   "cell_type": "code",
   "execution_count": 99,
   "id": "11eb71ff",
   "metadata": {},
   "outputs": [
    {
     "name": "stdout",
     "output_type": "stream",
     "text": [
      "Beginning of report\n",
      "The current time is 3pm\n",
      "The mood is good\n"
     ]
    }
   ],
   "source": [
    "time = \"3pm\"\n",
    "mood = \"good\"\n",
    "\n",
    "def report():\n",
    "  print(\"The current time is \" + time)\n",
    "  print(\"The mood is \" + mood)\n",
    "\n",
    "print(\"Beginning of report\")\n",
    "\n",
    "report()"
   ]
  },
  {
   "cell_type": "markdown",
   "id": "198befcc",
   "metadata": {},
   "source": [
    "## modules\n",
    "### datetime module"
   ]
  },
  {
   "cell_type": "code",
   "execution_count": 100,
   "id": "87bb577d",
   "metadata": {},
   "outputs": [
    {
     "name": "stdout",
     "output_type": "stream",
     "text": [
      "2024-03-13 22:50:20.134253\n",
      "1993-03-25 12:30:15\n",
      "1993\n",
      "3\n",
      "<built-in method weekday of datetime.datetime object at 0x104b3f2a0>\n"
     ]
    }
   ],
   "source": [
    "# datetime module allows to work with date and time\n",
    "\n",
    "from datetime import datetime\n",
    "\n",
    "current_time = datetime.now()\n",
    "print(current_time)\n",
    "\n",
    "# create a date time, year, month, day, hour, minute, second, milisecond, timezone\n",
    "birthday = datetime(1993, 3, 25, 12, 30, 15)\n",
    "print(birthday)\n",
    "print(birthday.year)\n",
    "print(birthday.month)\n",
    "print(birthday.weekday) # week day is number between 0 and 6 which monday is 0 and 6 represent sunday"
   ]
  },
  {
   "cell_type": "code",
   "execution_count": 101,
   "id": "ed1f5aed",
   "metadata": {},
   "outputs": [
    {
     "name": "stdout",
     "output_type": "stream",
     "text": [
      "365 days, 0:00:00\n",
      "2263 days, 22:50:20.145775\n",
      "11311 days, 10:20:05.145898\n"
     ]
    }
   ],
   "source": [
    "print(datetime(2018, 1, 1) - datetime(2017, 1, 1))\n",
    "print(datetime.now() - datetime(2018, 1, 1))\n",
    "print(datetime.now() - birthday)"
   ]
  },
  {
   "cell_type": "code",
   "execution_count": 102,
   "id": "5c73b256",
   "metadata": {},
   "outputs": [
    {
     "name": "stdout",
     "output_type": "stream",
     "text": [
      "1\n",
      "2018\n",
      "7\n"
     ]
    }
   ],
   "source": [
    "# strptime\n",
    "# if we don't have clean datetime object, we can parse it and change it to correct format\n",
    "user_date = \"jan 15, 2018\"\n",
    "user_date_2 = \"Jul 07, 2016\"\n",
    "parsed_date = datetime.strptime(user_date, '%b %d, %Y')\n",
    "parsed_date_2 = datetime.strptime(user_date_2, '%b %d, %Y')\n",
    "print(parsed_date.month)\n",
    "print(parsed_date.year)\n",
    "print(parsed_date_2.month)"
   ]
  },
  {
   "cell_type": "code",
   "execution_count": 103,
   "id": "fa55c90f",
   "metadata": {},
   "outputs": [
    {
     "name": "stdout",
     "output_type": "stream",
     "text": [
      "Mar 13, 2024\n"
     ]
    }
   ],
   "source": [
    "# srtftime\n",
    "# we are going to datetime object and format it as string\n",
    "\n",
    "date_string = datetime.strftime(datetime.now(), '%b %d, %Y')\n",
    "print(date_string)"
   ]
  },
  {
   "cell_type": "markdown",
   "id": "1090777e",
   "metadata": {},
   "source": [
    "### random module"
   ]
  },
  {
   "cell_type": "code",
   "execution_count": 104,
   "id": "11c7aed5",
   "metadata": {},
   "outputs": [
    {
     "name": "stdout",
     "output_type": "stream",
     "text": [
      "29\n"
     ]
    }
   ],
   "source": [
    "# random module allows to generate random numbers or select items at random\n",
    "# we’ll be using more than one piece of the module’s functionality, so we need to import the whole module\n",
    "\n",
    "# random.choice() which takes a list as an argument and returns a number from the list\n",
    "\n",
    "# radnom.randint() which takes two numbers as arguments and generates a random number between the two numbers you passed in\n",
    "\n",
    "# Import random below:\n",
    "import random\n",
    "\n",
    "# Create random_list below:\n",
    "random_list = []\n",
    "random_list = [random.randint(1,100) for i in range(101)]\n",
    "# Create randomer_number below:\n",
    "randomer_number = random.choice(random_list)\n",
    "\n",
    "# Print randomer_number below:\n",
    "print(randomer_number)"
   ]
  },
  {
   "cell_type": "markdown",
   "id": "ec8571b8",
   "metadata": {},
   "source": [
    "### decimal module"
   ]
  },
  {
   "cell_type": "code",
   "execution_count": 105,
   "id": "f90cdefb",
   "metadata": {},
   "outputs": [
    {
     "name": "stdout",
     "output_type": "stream",
     "text": [
      "0.44999999999999996\n"
     ]
    }
   ],
   "source": [
    "# decimal arithmatic using python builtin floating points\n",
    "cost_of_gum = 0.10\n",
    "cost_of_gumdrop = 0.35\n",
    "\n",
    "cost_of_transaction = cost_of_gum + cost_of_gumdrop\n",
    "print(cost_of_transaction)"
   ]
  },
  {
   "cell_type": "code",
   "execution_count": 106,
   "id": "b49b8c0d",
   "metadata": {},
   "outputs": [
    {
     "name": "stdout",
     "output_type": "stream",
     "text": [
      "0.45\n"
     ]
    }
   ],
   "source": [
    "# same operation using decimal module\n",
    "\n",
    "from decimal import Decimal\n",
    "cost_of_gum = Decimal('0.10')\n",
    "cost_of_gumdrop = Decimal('0.35')\n",
    "\n",
    "cost_of_transaction = cost_of_gum + cost_of_gumdrop\n",
    "print(cost_of_transaction)"
   ]
  },
  {
   "cell_type": "markdown",
   "id": "2d1d9585",
   "metadata": {},
   "source": [
    "### files"
   ]
  },
  {
   "cell_type": "code",
   "execution_count": 107,
   "id": "b64db366",
   "metadata": {},
   "outputs": [],
   "source": [
    "# files in python act as module\n",
    "# imagine we have a file called library.py that has function. if we want to access that function in other file, we can import the file\n",
    "# import library\n",
    "# and call the function we need"
   ]
  },
  {
   "cell_type": "markdown",
   "id": "1be4ed39",
   "metadata": {},
   "source": [
    "## Dictionaries\n",
    "### creating and updating dicts"
   ]
  },
  {
   "cell_type": "code",
   "execution_count": 108,
   "id": "2570b515",
   "metadata": {},
   "outputs": [
    {
     "ename": "NameError",
     "evalue": "name 'animals_in_zoo' is not defined",
     "output_type": "error",
     "traceback": [
      "\u001b[0;31m---------------------------------------------------------------------------\u001b[0m",
      "\u001b[0;31mNameError\u001b[0m                                 Traceback (most recent call last)",
      "Cell \u001b[0;32mIn[108], line 1\u001b[0m\n\u001b[0;32m----> 1\u001b[0m animals_in_zoo\u001b[38;5;241m.\u001b[39mupdate({\u001b[38;5;124m\"\u001b[39m\u001b[38;5;124mmonkeys\u001b[39m\u001b[38;5;124m\"\u001b[39m: \u001b[38;5;241m12\u001b[39m})\n\u001b[1;32m      2\u001b[0m animals_in_zoo[\u001b[38;5;124m\"\u001b[39m\u001b[38;5;124mdinosaurs\u001b[39m\u001b[38;5;124m\"\u001b[39m] \u001b[38;5;241m=\u001b[39m \u001b[38;5;241m0\u001b[39m\n",
      "\u001b[0;31mNameError\u001b[0m: name 'animals_in_zoo' is not defined"
     ]
    }
   ],
   "source": [
    "animals_in_zoo.update({\"monkeys\": 12})\n",
    "animals_in_zoo[\"dinosaurs\"] = 0"
   ]
  },
  {
   "cell_type": "code",
   "execution_count": null,
   "id": "d828d032",
   "metadata": {},
   "outputs": [],
   "source": [
    "# keys and values can be any data type\n",
    "students_in_classes = {\"software design\": [\"Aaron\", \"Delila\", \"Samson\"], \"cartography\": [\"Christopher\", \"Juan\", \"Marco\"], \"philosophy\": [\"Frederica\", \"Manuel\"]}\n",
    "print(students_in_classes)"
   ]
  },
  {
   "cell_type": "code",
   "execution_count": null,
   "id": "58187db4",
   "metadata": {},
   "outputs": [],
   "source": [
    "# adding new key value pair to dictionaries\n",
    "locations = {}\n",
    "locations[\"Paris\"] = 100\n",
    "locations.update({\"London\": 75})\n",
    "locations.update({\"New York\": 83, \"Vancouver\": 110})\n",
    "\n",
    "print(locations)"
   ]
  },
  {
   "cell_type": "code",
   "execution_count": null,
   "id": "4bea30ca",
   "metadata": {},
   "outputs": [],
   "source": [
    "# overwrite existing value\n",
    "menu = {\"oatmeal\": 3, \"avocado toast\": 6, \"carrot juice\": 5, \"blueberry muffin\": 2}\n",
    "menu[\"oatmeal\"] = 5\n",
    "print(menu)"
   ]
  },
  {
   "cell_type": "markdown",
   "id": "3ec4a6f0",
   "metadata": {},
   "source": [
    "### Dict Comprehensions"
   ]
  },
  {
   "cell_type": "code",
   "execution_count": null,
   "id": "94bdb217",
   "metadata": {},
   "outputs": [],
   "source": [
    "# if we have 2 lists that we want to combine into a dictionary\n",
    "\n",
    "names = ['Jenny', 'Alexus', 'Sam', 'Grace']\n",
    "heights = [61, 70, 67, 64]\n",
    "\n",
    "students = {key:value for key, value in zip(names, heights)}\n",
    "print(students)"
   ]
  },
  {
   "cell_type": "code",
   "execution_count": null,
   "id": "eaaa7eef",
   "metadata": {},
   "outputs": [],
   "source": [
    "# dictionaries can't have duplicate keys. if during list comprehension, first list has duplicate element, it will be overwritten in the process\n",
    "\n",
    "# if we have 2 lists that we want to combine into a dictionary\n",
    "cities = [\"New York\", \"London\", \"Sydney\", \"New York\"]\n",
    "temps = [ 85, 81, 65, 99]\n",
    "\n",
    "weather = {key:value for key,value in zip(cities, temps)}\n",
    "\n",
    "print(weather)"
   ]
  },
  {
   "cell_type": "markdown",
   "id": "d71fc288",
   "metadata": {},
   "source": [
    "### using dictionaries"
   ]
  },
  {
   "cell_type": "code",
   "execution_count": null,
   "id": "232e585e",
   "metadata": {},
   "outputs": [],
   "source": [
    "building_heights = {\"Burj Khalifa\": 828, \"Shanghai Tower\": 632, \"Abraj Al Bait\": 601, \"Ping An\": 599, \"Lotte World Tower\": 554.5, \"One World Trade\": 541.3}\n",
    "\n",
    "print(building_heights[\"Burj Khalifa\"])\n",
    "print(building_heights[\"Ping An\"])"
   ]
  },
  {
   "cell_type": "code",
   "execution_count": null,
   "id": "760bc998",
   "metadata": {},
   "outputs": [],
   "source": [
    "# if we want to access a  key that does not exist in a dictionary we get an error to avoid we can use if statement\n",
    "key_to_check = \"Landmark 81\"\n",
    "\n",
    "if key_to_check in building_heights:\n",
    "  print(building_heights[\"Landmark 81\"])"
   ]
  },
  {
   "cell_type": "markdown",
   "id": "c7614925",
   "metadata": {},
   "source": [
    "### .get( ) method"
   ]
  },
  {
   "cell_type": "code",
   "execution_count": null,
   "id": "a3022ab3",
   "metadata": {},
   "outputs": [],
   "source": [
    "# Dictionaries have a .get() method to search for a value instead of the my_dict[key] notation we have been using. If the key you are trying to .get() does not exist, it will return None by default.\n",
    "\n",
    "building_heights = {\"Burj Khalifa\": 828, \"Shanghai Tower\": 632, \"Abraj Al Bait\": 601, \"Ping An\": 599, \"Lotte World Tower\": 554.5, \"One World Trade\": 541.3}\n",
    "\n",
    "#this line will return 632:\n",
    "print(building_heights.get(\"Shanghai Tower\"))\n",
    "\n",
    "#this line will return None:\n",
    "print(building_heights.get(\"My House\"))\n",
    "\n",
    "# You can also specify a value to return if the key doesn’t exist. For example, we might want to return a building height of 0 if our desired building is not in the dictionary\n",
    "print(building_heights.get('Shanghai Tower', 0))\n",
    "print(building_heights.get('Mt Olympus', 0))\n",
    "print(building_heights.get('Kilimanjaro', 'No Value'))"
   ]
  },
  {
   "cell_type": "markdown",
   "id": "98582fae",
   "metadata": {},
   "source": [
    "### .pop( ) method: deleting a key "
   ]
  },
  {
   "cell_type": "code",
   "execution_count": null,
   "id": "7fbb41ea",
   "metadata": {},
   "outputs": [],
   "source": [
    "# to delete a key, we can use .pop() method\n",
    "raffle = {223842: \"Teddy Bear\", 872921: \"Concert Tickets\", 320291: \"Gift Basket\", 412123: \"Necklace\", 298787: \"Pasta Maker\"}\n",
    "\n",
    "print(raffle.pop(320291, \"No Prize\"))\n",
    "print(raffle)"
   ]
  },
  {
   "cell_type": "code",
   "execution_count": null,
   "id": "ee7b4205",
   "metadata": {},
   "outputs": [],
   "source": [
    "print(raffle.pop(320291, \"No Prize\"))\n",
    "print(raffle.pop(100000, \"No Prize\"))\n",
    "print(raffle.pop(872921, \"No Prize\"))\n",
    "\n",
    "print(raffle)"
   ]
  },
  {
   "cell_type": "markdown",
   "id": "8208d8ff",
   "metadata": {},
   "source": [
    "### get all keys"
   ]
  },
  {
   "cell_type": "code",
   "execution_count": null,
   "id": "01f69250",
   "metadata": {},
   "outputs": [],
   "source": [
    "# we can access list of all keys using .list() method\n",
    "test_scores = {\"Grace\":[80, 72, 90], \"Jeffrey\":[88, 68, 81], \"Sylvia\":[80, 82, 84], \"Pedro\":[98, 96, 95], \"Martin\":[78, 80, 78], \"Dina\":[64, 60, 75]}\n",
    "\n",
    "print(list(test_scores))"
   ]
  },
  {
   "cell_type": "code",
   "execution_count": null,
   "id": "8fb16165",
   "metadata": {},
   "outputs": [],
   "source": [
    "# also there is .keys() method which returns a dict_keys object that we can itterate. you can not add or remove elements from dict_keys object\n",
    "\n",
    "for student in test_scores.keys():\n",
    "    print(student)"
   ]
  },
  {
   "cell_type": "markdown",
   "id": "a206b64d",
   "metadata": {},
   "source": [
    "### get all values"
   ]
  },
  {
   "cell_type": "code",
   "execution_count": null,
   "id": "023d9800",
   "metadata": {},
   "outputs": [],
   "source": [
    "# we can use .valus() method to create dict_values object that we can itterate.\n",
    "\n",
    "for score in test_scores.values():\n",
    "    print(score)"
   ]
  },
  {
   "cell_type": "markdown",
   "id": "b0d4ebf3",
   "metadata": {},
   "source": [
    "### get all values"
   ]
  },
  {
   "cell_type": "code",
   "execution_count": null,
   "id": "e9a4ea2f",
   "metadata": {},
   "outputs": [],
   "source": [
    "# we can get both keys and values using .item() method which returns dict_list object. each element of the dict_list is a tuple (key, value)\n",
    "\n",
    "biggest_brands = {\"Apple\": 184, \"Google\": 141.7, \"Microsoft\": 80, \"Coca-Cola\": 69.7, \"Amazon\": 64.8}\n",
    "\n",
    "for company, value in biggest_brands.items():\n",
    " print(company + \" has a value of \" + str(value) + \" billion dollars. \")"
   ]
  },
  {
   "cell_type": "markdown",
   "id": "4160785b",
   "metadata": {},
   "source": [
    "### in keyword with dictionaries"
   ]
  },
  {
   "cell_type": "code",
   "execution_count": null,
   "id": "cf049a95",
   "metadata": {},
   "outputs": [],
   "source": [
    "# we can use in keyword to check if something exist as key in a dictionary\n",
    "\n",
    "inventory = {\"iron spear\": 12, \"invisible knife\": 30, \"needle of ambition\": 10, \"stone glove\": 20, \"the peacemaker\": 65, \"demonslayer\": 50}\n",
    "\n",
    "print(12 in inventory)\n",
    "# this checks if 12 is a key in inventory dictionary and returns False"
   ]
  },
  {
   "cell_type": "markdown",
   "id": "99dbdaa1",
   "metadata": {},
   "source": [
    "## file handling in python\n",
    "### reading files"
   ]
  },
  {
   "cell_type": "code",
   "execution_count": null,
   "id": "60c32003",
   "metadata": {},
   "outputs": [],
   "source": [
    "with open('real_cool_document.txt') as cool_doc:\n",
    "    cool_contents = cool_doc.read()\n",
    "print(cool_contents)"
   ]
  },
  {
   "cell_type": "code",
   "execution_count": null,
   "id": "1f3722f5",
   "metadata": {},
   "outputs": [],
   "source": [
    "# we can save the whole file to one string using read() or if we want to read file line by line we can use readline() "
   ]
  },
  {
   "cell_type": "markdown",
   "id": "aff5c2cb",
   "metadata": {},
   "source": [
    "### writing files"
   ]
  },
  {
   "cell_type": "code",
   "execution_count": null,
   "id": "8840d75c",
   "metadata": {},
   "outputs": [],
   "source": [
    "# we pass the argument 'w' to open() in order to indicate to open the file in write-mode. The default argument is 'r' and passing 'r' to open() opens the file in read-mode\n",
    "\n",
    "with open(\"bad_bands.txt\", \"w\") as bad_bands_doc:\n",
    "    bad_bands_doc.write(\"Z bazi!\")"
   ]
  },
  {
   "cell_type": "markdown",
   "id": "c5da3b79",
   "metadata": {},
   "source": [
    "### appending to a file"
   ]
  },
  {
   "cell_type": "code",
   "execution_count": 110,
   "id": "1243674c",
   "metadata": {},
   "outputs": [],
   "source": [
    "# Instead of opening the file using the argument 'w' for write-mode, we open it with 'a' for append-mode.\n",
    "with open('generated_file.txt', 'a') as gen_file:\n",
    "    gen_file.write(\"\\n... and it still is\")"
   ]
  },
  {
   "cell_type": "markdown",
   "id": "10ba37df",
   "metadata": {},
   "source": [
    "### handling csv file"
   ]
  },
  {
   "cell_type": "code",
   "execution_count": 113,
   "id": "25060bdb",
   "metadata": {},
   "outputs": [
    {
     "name": "stdout",
     "output_type": "stream",
     "text": [
      "Name,Username,Email\n",
      "Roger Smith,rsmith,wigginsryan@yahoo.com\n",
      "Michelle Beck,mlbeck,hcosta@hotmail.com\n",
      "Ashley Barker,a_bark_x,a_bark_x@turner.com\n",
      "Lynn Gonzales,goodmanjames,lynniegonz@hotmail.com\n",
      "Jennifer Chase,chasej,jchase@ramirez.com\n",
      "Charles Hoover,choover,choover89@yahoo.com\n",
      "Adrian Evans,adevans,adevans98@yahoo.com\n",
      "Susan Walter,susan82,swilliams@yahoo.com\n",
      "Stephanie King,stephanieking,sking@morris-tyler.com\n",
      "Erika Miller,jessica32,ejmiller79@yahoo.com\n"
     ]
    }
   ],
   "source": [
    "# since csv fiels are plain text we can open similarly to txt files\n",
    "with open(\"Users.csv\") as Users:\n",
    "    users = Users.read()\n",
    "    \n",
    "print(users)\n",
    "\n",
    "# in this example the whole thing parsed as single string"
   ]
  },
  {
   "cell_type": "markdown",
   "id": "ee9f676f",
   "metadata": {},
   "source": [
    "### turn csv file to dictionary"
   ]
  },
  {
   "cell_type": "code",
   "execution_count": 116,
   "id": "4aa64b51",
   "metadata": {},
   "outputs": [
    {
     "name": "stdout",
     "output_type": "stream",
     "text": [
      "['wigginsryan@yahoo.com', 'hcosta@hotmail.com', 'a_bark_x@turner.com', 'lynniegonz@hotmail.com', 'jchase@ramirez.com', 'choover89@yahoo.com', 'adevans98@yahoo.com', 'swilliams@yahoo.com', 'sking@morris-tyler.com', 'ejmiller79@yahoo.com']\n"
     ]
    }
   ],
   "source": [
    "import csv\n",
    "\n",
    "list_of_email_addresses = []\n",
    "with open('users.csv', newline='') as users_csv:\n",
    "    user_reader = csv.DictReader(users_csv)\n",
    "    for row in user_reader:\n",
    "        list_of_email_addresses.append(row['Email'])\n",
    "        \n",
    "print(list_of_email_addresses)"
   ]
  },
  {
   "cell_type": "code",
   "execution_count": null,
   "id": "883b669b",
   "metadata": {},
   "outputs": [],
   "source": []
  }
 ],
 "metadata": {
  "kernelspec": {
   "display_name": "Python 3 (ipykernel)",
   "language": "python",
   "name": "python3"
  },
  "language_info": {
   "codemirror_mode": {
    "name": "ipython",
    "version": 3
   },
   "file_extension": ".py",
   "mimetype": "text/x-python",
   "name": "python",
   "nbconvert_exporter": "python",
   "pygments_lexer": "ipython3",
   "version": "3.11.5"
  }
 },
 "nbformat": 4,
 "nbformat_minor": 5
}
