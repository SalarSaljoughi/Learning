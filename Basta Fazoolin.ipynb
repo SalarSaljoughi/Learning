{
 "cells": [
  {
   "cell_type": "markdown",
   "id": "8954a69f",
   "metadata": {},
   "source": [
    "# Basta Fazoolin'\n",
    "You’ve started a position as the lead programmer for the family-style Italian restaurant Basta Fazoolin’ with My Heart. The restaurant has been doing fantastically and seen a lot of growth lately. You’ve been hired to keep things organized."
   ]
  },
  {
   "cell_type": "markdown",
   "id": "cac783ac",
   "metadata": {},
   "source": [
    "#### create and define class"
   ]
  },
  {
   "cell_type": "code",
   "execution_count": 19,
   "id": "8c1624dd",
   "metadata": {},
   "outputs": [],
   "source": [
    "# We have four different menus: brunch, early-bird, dinner, and kids. create class Menu\n",
    "\n",
    "class Menu():\n",
    "    # constructor\n",
    "    # Give Menu a constructor with the five parameters self, name, items, start_time, and end_time.\n",
    "    \n",
    "    def __init__(self, name, items, start_time, end_time):\n",
    "    # Now, you need to assign the parameters of the constructor to the corresponding class attributes.\n",
    "        self.name = name\n",
    "        self.items = items\n",
    "        self.start_time = start_time\n",
    "        self.end_time = end_time\n",
    "    \n",
    "    # give string representation to show the name and when is the menu available\n",
    "    def __repr__(self):\n",
    "        return f\"{self.name} menu available from {self.start_time} to {self.end_time}\""
   ]
  },
  {
   "cell_type": "markdown",
   "id": "daa69c40",
   "metadata": {},
   "source": [
    "#### create brunch menu"
   ]
  },
  {
   "cell_type": "code",
   "execution_count": 20,
   "id": "77980251",
   "metadata": {},
   "outputs": [
    {
     "name": "stdout",
     "output_type": "stream",
     "text": [
      "Brunch\n"
     ]
    }
   ],
   "source": [
    "# lest create brunch menu which served from 11 AM to 4 PM with following items\n",
    "# {'pancakes': 7.50, 'waffles': 9.00, 'burger': 11.00, 'home fries': 4.50, 'coffee': 1.50, 'espresso': 3.00, 'tea': 1.00, 'mimosa': 10.50, 'orange juice': 3.50}\n",
    "# for time we are going to use 24 hour military time\n",
    "\n",
    "brunch_items = {'pancakes': 7.50, 'waffles': 9.00, 'burger': 11.00, 'home fries': 4.50, 'coffee': 1.50, 'espresso': 3.00, 'tea': 1.00, 'mimosa': 10.50, 'orange juice': 3.50}\n",
    "\n",
    "brunch_menu = Menu(\"Brunch\", brunch_items, 1100, 1600)\n",
    "\n",
    "# test\n",
    "print(brunch_menu.name)"
   ]
  },
  {
   "cell_type": "markdown",
   "id": "b637a938",
   "metadata": {},
   "source": [
    "#### create early bird menu"
   ]
  },
  {
   "cell_type": "code",
   "execution_count": 21,
   "id": "6296b8ee",
   "metadata": {},
   "outputs": [
    {
     "name": "stdout",
     "output_type": "stream",
     "text": [
      "{'salumeria plate': 8.0, 'salad and breadsticks (serves 2, no refills)': 14.0, 'pizza with quattro formaggi': 9.0, 'duck ragu': 17.5, 'mushroom ravioli (vegan)': 13.5, 'coffee': 1.5, 'espresso': 3.0}\n"
     ]
    }
   ],
   "source": [
    "# early bird menu served from 3 PM to 6 PM with following items\n",
    "# {'salumeria plate': 8.00, 'salad and breadsticks (serves 2, no refills)': 14.00, 'pizza with quattro formaggi': 9.00, 'duck ragu': 17.50, 'mushroom ravioli (vegan)': 13.50, 'coffee': 1.50, 'espresso': 3.00,}\n",
    "\n",
    "early_bird_items = {'salumeria plate': 8.00, 'salad and breadsticks (serves 2, no refills)': 14.00, 'pizza with quattro formaggi': 9.00, 'duck ragu': 17.50, 'mushroom ravioli (vegan)': 13.50, 'coffee': 1.50, 'espresso': 3.00,}\n",
    "\n",
    "early_bird_menu = Menu(\"Early_Bird\", early_bird_items, 1500, 1800)\n",
    "\n",
    "# test\n",
    "print(early_bird_menu.items)"
   ]
  },
  {
   "cell_type": "markdown",
   "id": "db1c83fd",
   "metadata": {},
   "source": [
    "#### create dinner menu"
   ]
  },
  {
   "cell_type": "code",
   "execution_count": 22,
   "id": "3b9f3c08",
   "metadata": {},
   "outputs": [
    {
     "name": "stdout",
     "output_type": "stream",
     "text": [
      "1700\n"
     ]
    }
   ],
   "source": [
    "# dinner menu served from 5 PM to 11 PM with following items\n",
    "# {'crostini with eggplant caponata': 13.00, 'caesar salad': 16.00, 'pizza with quattro formaggi': 11.00, 'duck ragu': 19.50, 'mushroom ravioli (vegan)': 13.50, 'coffee': 2.00, 'espresso': 3.00,}\n",
    "\n",
    "dinner_items = {'crostini with eggplant caponata': 13.00, 'caesar salad': 16.00, 'pizza with quattro formaggi': 11.00, 'duck ragu': 19.50, 'mushroom ravioli (vegan)': 13.50, 'coffee': 2.00, 'espresso': 3.00,}\n",
    "\n",
    "dinner_menu = Menu(\"Dinner\", dinner_items, 1700, 2300)\n",
    "\n",
    "# test\n",
    "print(dinner_menu.start_time)"
   ]
  },
  {
   "cell_type": "markdown",
   "id": "1e2bb0ca",
   "metadata": {},
   "source": [
    "#### create kids menu"
   ]
  },
  {
   "cell_type": "code",
   "execution_count": 23,
   "id": "34a610f8",
   "metadata": {},
   "outputs": [
    {
     "name": "stdout",
     "output_type": "stream",
     "text": [
      "2100\n"
     ]
    }
   ],
   "source": [
    "# kids menu available from 11 AM to 9 PM with following items\n",
    "# {'chicken nuggets': 6.50, 'fusilli with wild mushrooms': 12.00, 'apple juice': 3.00}\n",
    "\n",
    "kids_items = {'chicken nuggets': 6.50, 'fusilli with wild mushrooms': 12.00, 'apple juice': 3.00}\n",
    "\n",
    "kids_menu = Menu(\"Kids\", kids_items, 1100, 2100)\n",
    "\n",
    "# test \n",
    "print(kids_menu.end_time)"
   ]
  },
  {
   "cell_type": "markdown",
   "id": "df36acb5",
   "metadata": {},
   "source": [
    "#### add string representation "
   ]
  },
  {
   "cell_type": "code",
   "execution_count": 26,
   "id": "4baf0295",
   "metadata": {},
   "outputs": [
    {
     "name": "stdout",
     "output_type": "stream",
     "text": [
      "Brunch will be served from 1100 to 1600\n",
      "Early_Bird will be served from 1500 to 1800\n",
      "Dinner will be served from 1700 to 2300\n",
      "Kids will be served from 1100 to 2100\n"
     ]
    }
   ],
   "source": [
    "# in this step we want to add string representation to our class that shows the menu and when is the menu available.\n",
    "# see main class\n",
    "\n",
    "print(brunch_menu)\n",
    "print(early_bird_menu)\n",
    "print(dinner_menu)\n",
    "print(kids_menu)"
   ]
  },
  {
   "cell_type": "code",
   "execution_count": null,
   "id": "aae93a66",
   "metadata": {},
   "outputs": [],
   "source": []
  }
 ],
 "metadata": {
  "kernelspec": {
   "display_name": "Python 3 (ipykernel)",
   "language": "python",
   "name": "python3"
  },
  "language_info": {
   "codemirror_mode": {
    "name": "ipython",
    "version": 3
   },
   "file_extension": ".py",
   "mimetype": "text/x-python",
   "name": "python",
   "nbconvert_exporter": "python",
   "pygments_lexer": "ipython3",
   "version": "3.11.5"
  }
 },
 "nbformat": 4,
 "nbformat_minor": 5
}
