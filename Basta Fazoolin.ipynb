{
 "cells": [
  {
   "cell_type": "markdown",
   "id": "8954a69f",
   "metadata": {},
   "source": [
    "# Basta Fazoolin'\n",
    "You’ve started a position as the lead programmer for the family-style Italian restaurant Basta Fazoolin’ with My Heart. The restaurant has been doing fantastically and seen a lot of growth lately. You’ve been hired to keep things organized."
   ]
  },
  {
   "cell_type": "code",
   "execution_count": 2,
   "id": "8c1624dd",
   "metadata": {},
   "outputs": [],
   "source": [
    "# We have four different menus: brunch, early-bird, dinner, and kids. create class Menu\n",
    "\n",
    "class Menu():\n",
    "    # constructor\n",
    "    # Give Menu a constructor with the five parameters self, name, items, start_time, and end_time.\n",
    "    \n",
    "    def __init__(self, name, items, start_time, end_time):\n",
    "    # Now, you need to assign the parameters of the constructor to the corresponding class attributes.\n",
    "        self.name = name\n",
    "        self.items = items\n",
    "        self.start_time = start_time\n",
    "        self.end_time = end_time\n"
   ]
  },
  {
   "cell_type": "code",
   "execution_count": null,
   "id": "77980251",
   "metadata": {},
   "outputs": [],
   "source": []
  }
 ],
 "metadata": {
  "kernelspec": {
   "display_name": "Python 3 (ipykernel)",
   "language": "python",
   "name": "python3"
  },
  "language_info": {
   "codemirror_mode": {
    "name": "ipython",
    "version": 3
   },
   "file_extension": ".py",
   "mimetype": "text/x-python",
   "name": "python",
   "nbconvert_exporter": "python",
   "pygments_lexer": "ipython3",
   "version": "3.11.5"
  }
 },
 "nbformat": 4,
 "nbformat_minor": 5
}
