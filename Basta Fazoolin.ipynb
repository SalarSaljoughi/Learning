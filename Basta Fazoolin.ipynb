{
 "cells": [
  {
   "cell_type": "markdown",
   "id": "8954a69f",
   "metadata": {},
   "source": [
    "# Basta Fazoolin'\n",
    "You’ve started a position as the lead programmer for the family-style Italian restaurant Basta Fazoolin’ with My Heart. The restaurant has been doing fantastically and seen a lot of growth lately. You’ve been hired to keep things organized."
   ]
  },
  {
   "cell_type": "markdown",
   "id": "37476204",
   "metadata": {},
   "source": [
    "#### create and define class"
   ]
  },
  {
   "cell_type": "code",
   "execution_count": 1,
   "id": "5afb7c74",
   "metadata": {},
   "outputs": [],
   "source": [
    "# # the restaurant decided to expand, create a new class called Franchise\n",
    "# # the flagship store has address \"1232 West End Road\" and new installment store address is \"12 East Mulberry Street\"\n",
    "\n",
    "# class franchise():\n",
    "#     def __init__(self, address, menus):\n",
    "#         self.address = address\n",
    "#         self.menus = menus\n",
    "    \n",
    "#     # give franchise a string representation of the address\n",
    "#     def __repr__(self):\n",
    "#         return self.address\n",
    "    \n",
    "#     # add new mothod to show customers what they can order\n",
    "#     def available_menus(self, time):\n",
    "#         available_menus = []\n",
    "#         for menu in self.menus:\n",
    "#             if time >= menu.start_time and time <= menu.end_time:\n",
    "#                 available_menus.append(menu)\n",
    "        \n",
    "#         return available_menus"
   ]
  },
  {
   "cell_type": "markdown",
   "id": "6c60297e",
   "metadata": {},
   "source": [
    "#### create and define class"
   ]
  },
  {
   "cell_type": "code",
   "execution_count": 2,
   "id": "8c1624dd",
   "metadata": {},
   "outputs": [],
   "source": [
    "# We have four different menus: brunch, early-bird, dinner, and kids. create class Menu\n",
    "\n",
    "class Menu():\n",
    "    # constructor\n",
    "    # Give Menu a constructor with the five parameters self, name, items, start_time, and end_time.\n",
    "    \n",
    "    def __init__(self, name, items, start_time, end_time):\n",
    "    # Now, you need to assign the parameters of the constructor to the corresponding class attributes.\n",
    "        self.name = name\n",
    "        self.items = items\n",
    "        self.start_time = start_time\n",
    "        self.end_time = end_time\n",
    "    \n",
    "    # give string representation to show the name and when is the menu available\n",
    "    def __repr__(self):\n",
    "        return f\"{self.name} menu available from {self.start_time} to {self.end_time}\"\n",
    "    \n",
    "    # create new method that takes purchased items and calculates the bill\n",
    "    def calculate_bill(self, purchased_items):\n",
    "        bill = 0\n",
    "        for items in purchased_items:\n",
    "            if items in self.items:\n",
    "                bill += self.items[items]\n",
    "        return bill"
   ]
  },
  {
   "cell_type": "markdown",
   "id": "ef6c4f44",
   "metadata": {},
   "source": [
    "#### create brunch menu"
   ]
  },
  {
   "cell_type": "code",
   "execution_count": 3,
   "id": "77980251",
   "metadata": {},
   "outputs": [
    {
     "name": "stdout",
     "output_type": "stream",
     "text": [
      "Brunch\n"
     ]
    }
   ],
   "source": [
    "# lest create brunch menu which served from 11 AM to 4 PM with following items\n",
    "# {'pancakes': 7.50, 'waffles': 9.00, 'burger': 11.00, 'home fries': 4.50, 'coffee': 1.50, 'espresso': 3.00, 'tea': 1.00, 'mimosa': 10.50, 'orange juice': 3.50}\n",
    "# for time we are going to use 24 hour military time\n",
    "\n",
    "brunch_items = {'pancakes': 7.50, 'waffles': 9.00, 'burger': 11.00, 'home fries': 4.50, 'coffee': 1.50, 'espresso': 3.00, 'tea': 1.00, 'mimosa': 10.50, 'orange juice': 3.50}\n",
    "\n",
    "brunch_menu = Menu(\"Brunch\", brunch_items, 1100, 1600)\n",
    "\n",
    "# test\n",
    "print(brunch_menu.name)"
   ]
  },
  {
   "cell_type": "markdown",
   "id": "55010440",
   "metadata": {},
   "source": [
    "#### create early bird menu"
   ]
  },
  {
   "cell_type": "code",
   "execution_count": 4,
   "id": "ecd7865a",
   "metadata": {},
   "outputs": [
    {
     "name": "stdout",
     "output_type": "stream",
     "text": [
      "{'salumeria plate': 8.0, 'salad and breadsticks (serves 2, no refills)': 14.0, 'pizza with quattro formaggi': 9.0, 'duck ragu': 17.5, 'mushroom ravioli (vegan)': 13.5, 'coffee': 1.5, 'espresso': 3.0}\n"
     ]
    }
   ],
   "source": [
    "# early bird menu served from 3 PM to 6 PM with following items\n",
    "# {'salumeria plate': 8.00, 'salad and breadsticks (serves 2, no refills)': 14.00, 'pizza with quattro formaggi': 9.00, 'duck ragu': 17.50, 'mushroom ravioli (vegan)': 13.50, 'coffee': 1.50, 'espresso': 3.00,}\n",
    "\n",
    "early_bird_items = {'salumeria plate': 8.00, 'salad and breadsticks (serves 2, no refills)': 14.00, 'pizza with quattro formaggi': 9.00, 'duck ragu': 17.50, 'mushroom ravioli (vegan)': 13.50, 'coffee': 1.50, 'espresso': 3.00,}\n",
    "\n",
    "early_bird_menu = Menu(\"Early_Bird\", early_bird_items, 1500, 1800)\n",
    "\n",
    "# test\n",
    "print(early_bird_menu.items)"
   ]
  },
  {
   "cell_type": "markdown",
   "id": "dc9ca2db",
   "metadata": {},
   "source": [
    "#### create dinner menu"
   ]
  },
  {
   "cell_type": "code",
   "execution_count": 5,
   "id": "89a34fba",
   "metadata": {},
   "outputs": [
    {
     "name": "stdout",
     "output_type": "stream",
     "text": [
      "1700\n"
     ]
    }
   ],
   "source": [
    "# dinner menu served from 5 PM to 11 PM with following items\n",
    "# {'crostini with eggplant caponata': 13.00, 'caesar salad': 16.00, 'pizza with quattro formaggi': 11.00, 'duck ragu': 19.50, 'mushroom ravioli (vegan)': 13.50, 'coffee': 2.00, 'espresso': 3.00,}\n",
    "\n",
    "dinner_items = {'crostini with eggplant caponata': 13.00, 'caesar salad': 16.00, 'pizza with quattro formaggi': 11.00, 'duck ragu': 19.50, 'mushroom ravioli (vegan)': 13.50, 'coffee': 2.00, 'espresso': 3.00,}\n",
    "\n",
    "dinner_menu = Menu(\"Dinner\", dinner_items, 1700, 2300)\n",
    "\n",
    "# test\n",
    "print(dinner_menu.start_time)"
   ]
  },
  {
   "cell_type": "markdown",
   "id": "20206220",
   "metadata": {},
   "source": [
    "#### create kids menu"
   ]
  },
  {
   "cell_type": "code",
   "execution_count": 6,
   "id": "1a21a0cd",
   "metadata": {},
   "outputs": [
    {
     "name": "stdout",
     "output_type": "stream",
     "text": [
      "2100\n"
     ]
    }
   ],
   "source": [
    "# kids menu available from 11 AM to 9 PM with following items\n",
    "# {'chicken nuggets': 6.50, 'fusilli with wild mushrooms': 12.00, 'apple juice': 3.00}\n",
    "\n",
    "kids_items = {'chicken nuggets': 6.50, 'fusilli with wild mushrooms': 12.00, 'apple juice': 3.00}\n",
    "\n",
    "kids_menu = Menu(\"Kids\", kids_items, 1100, 2100)\n",
    "\n",
    "# test \n",
    "print(kids_menu.end_time)"
   ]
  },
  {
   "cell_type": "markdown",
   "id": "98ea860e",
   "metadata": {},
   "source": [
    "#### add string representation "
   ]
  },
  {
   "cell_type": "code",
   "execution_count": 7,
   "id": "5ccc727d",
   "metadata": {},
   "outputs": [
    {
     "name": "stdout",
     "output_type": "stream",
     "text": [
      "Brunch menu available from 1100 to 1600\n",
      "Early_Bird menu available from 1500 to 1800\n",
      "Dinner menu available from 1700 to 2300\n",
      "Kids menu available from 1100 to 2100\n"
     ]
    }
   ],
   "source": [
    "# in this step we want to add string representation to our class that shows the menu and when is the menu available.\n",
    "# see main class\n",
    "\n",
    "print(brunch_menu)\n",
    "print(early_bird_menu)\n",
    "print(dinner_menu)\n",
    "print(kids_menu)"
   ]
  },
  {
   "cell_type": "markdown",
   "id": "9cbb3913",
   "metadata": {},
   "source": [
    "#### add new method"
   ]
  },
  {
   "cell_type": "code",
   "execution_count": 8,
   "id": "9facfd10",
   "metadata": {},
   "outputs": [
    {
     "name": "stdout",
     "output_type": "stream",
     "text": [
      "13.5\n",
      "21.5\n"
     ]
    }
   ],
   "source": [
    "# add new method that calculate the bill with list of purchased items\n",
    "# see the main class \n",
    "\n",
    "# we have brunch order of pancakes, home fries and coffee. \n",
    "print(brunch_menu.calculate_bill([\"pancakes\", \"home fries\", \"coffee\"]))\n",
    "\n",
    "# we have early bird order of salumeria plate and mushroom ravioli\n",
    "print(early_bird_menu.calculate_bill([\"salumeria plate\", \"mushroom ravioli (vegan)\"]))"
   ]
  },
  {
   "cell_type": "markdown",
   "id": "9fc2f8e5",
   "metadata": {},
   "source": [
    "#### expanding"
   ]
  },
  {
   "cell_type": "code",
   "execution_count": 17,
   "id": "3730e76e",
   "metadata": {},
   "outputs": [
    {
     "name": "stdout",
     "output_type": "stream",
     "text": [
      "1232 West End Road\n",
      "12 East Mulberry Street\n"
     ]
    }
   ],
   "source": [
    "# the restaurant decided to expand, create a new class called Franchise\n",
    "# the flagship store has address \"1232 West End Road\" and new installment store address is \"12 East Mulberry Street\"\n",
    "\n",
    "class Franchise():\n",
    "    def __init__(self, address, menus):\n",
    "        self.address = address\n",
    "        self.menus = menus\n",
    "    \n",
    "    # give franchise a string representation of the address\n",
    "    def __repr__(self):\n",
    "        return self.address\n",
    "    \n",
    "    # add new mothod to show customers what they can order\n",
    "    def available_menus(self, time):\n",
    "        available_menus = []\n",
    "        for menu in self.menus:\n",
    "            if time >= menu.start_time and time <= menu.end_time:\n",
    "                available_menus.append(menu)\n",
    "        \n",
    "        return available_menus\n",
    "        \n",
    "    \n",
    "menus = [brunch_menu, early_bird_menu, dinner_menu, kids_menu]\n",
    "flagship_store = Franchise(\"1232 West End Road\", menus)\n",
    "new_installment = Franchise(\"12 East Mulberry Street\", menus)\n",
    "\n",
    "print(flagship_store)\n",
    "print(new_installment)"
   ]
  },
  {
   "cell_type": "markdown",
   "id": "4da3cb53",
   "metadata": {},
   "source": [
    "#### get address and available menu"
   ]
  },
  {
   "cell_type": "code",
   "execution_count": 18,
   "id": "ccb9edff",
   "metadata": {},
   "outputs": [
    {
     "name": "stdout",
     "output_type": "stream",
     "text": [
      "[Brunch menu available from 1100 to 1600, Kids menu available from 1100 to 2100]\n",
      "[Early_Bird menu available from 1500 to 1800, Dinner menu available from 1700 to 2300, Kids menu available from 1100 to 2100]\n"
     ]
    }
   ],
   "source": [
    "# in franchise class add string representation to show the address\n",
    "# see the main class for details\n",
    "\n",
    "# give franchise class a new method called available_menus to show customers what they can order based on when they want to order\n",
    "# see main class for details\n",
    "\n",
    "# test\n",
    "print(flagship_store.available_menus(1200))\n",
    "print(new_installment.available_menus(1700))"
   ]
  },
  {
   "cell_type": "markdown",
   "id": "af235f51",
   "metadata": {},
   "source": [
    "#### create businesses"
   ]
  },
  {
   "cell_type": "code",
   "execution_count": 19,
   "id": "54a4e5c2",
   "metadata": {},
   "outputs": [],
   "source": [
    "# since we are sucessfull building out branded chain of restaurants, we want to expand and create a restaurant taht sells arepas!\n",
    "# create new class called business and add constructors name and franchises\n",
    "\n",
    "class Business():\n",
    "    def __init__(self, name, franchises):\n",
    "        self.name = name\n",
    "        self.franchises = franchises"
   ]
  },
  {
   "cell_type": "code",
   "execution_count": 20,
   "id": "0040d555",
   "metadata": {},
   "outputs": [],
   "source": [
    "# lets create our first business calles \"Basta Fazoolin' with my Heart\" and 2 franchises are flagship store and new isntallment store\n",
    "\n",
    "basta = Business(\"Basta Fazoolin' with my Heart\", [\"flagship_store\", \"new_installment\"])"
   ]
  },
  {
   "cell_type": "markdown",
   "id": "fed0eb09",
   "metadata": {},
   "source": [
    "#### create new business"
   ]
  },
  {
   "cell_type": "code",
   "execution_count": 23,
   "id": "14248ca6",
   "metadata": {},
   "outputs": [
    {
     "name": "stdout",
     "output_type": "stream",
     "text": [
      "189 Fitzgerald Avenue\n",
      "Take a' Arepa menu available from 1000 to 20000\n"
     ]
    }
   ],
   "source": [
    "# to create a new business we need a franchise and before franchise we need a menu\n",
    "# create new business called \" Take a' Arepa\" which is available from 10am to 8pm with following menu\n",
    "# {'arepa pabellon': 7.00, 'pernil arepa': 8.50, 'guayanes arepa': 8.00, 'jamon arepa': 7.50}\n",
    "# the branch is located at \"189 Fitzgerald Avenue\" called arepas_place\n",
    "\n",
    "arepas_items = {'arepa pabellon': 7.00, 'pernil arepa': 8.50, 'guayanes arepa': 8.00, 'jamon arepa': 7.50}\n",
    "\n",
    "arepas_menu = Menu(\"Take a' Arepa\", arepa_items, 1000, 20000)\n",
    "\n",
    "arepas_place = Franchise(\"189 Fitzgerald Avenue\", [arepas_menu])\n",
    "\n",
    "arepa = Business(\"Take a' Arepa\", [arepas_place])\n",
    "\n",
    "# test\n",
    "print(arepa.franchises[0])\n",
    "print(arepa.franchises[0].menus[0])"
   ]
  },
  {
   "cell_type": "code",
   "execution_count": null,
   "id": "c7c255eb",
   "metadata": {},
   "outputs": [],
   "source": []
  }
 ],
 "metadata": {
  "kernelspec": {
   "display_name": "Python 3 (ipykernel)",
   "language": "python",
   "name": "python3"
  },
  "language_info": {
   "codemirror_mode": {
    "name": "ipython",
    "version": 3
   },
   "file_extension": ".py",
   "mimetype": "text/x-python",
   "name": "python",
   "nbconvert_exporter": "python",
   "pygments_lexer": "ipython3",
   "version": "3.11.5"
  }
 },
 "nbformat": 4,
 "nbformat_minor": 5
}
