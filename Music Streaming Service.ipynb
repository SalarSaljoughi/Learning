{
 "cells": [
  {
   "cell_type": "markdown",
   "id": "a0103f10",
   "metadata": {},
   "source": [
    "# Music Streaming Service"
   ]
  },
  {
   "cell_type": "code",
   "execution_count": 2,
   "id": "656efc73",
   "metadata": {},
   "outputs": [],
   "source": [
    "# we have 2 lists, representing songs in user's library and the amount of time each song has been played\n",
    "songs = [\"Like a Rolling Stone\", \"Satisfaction\", \"Imagine\", \"What's Going On\", \"Respect\", \"Good Vibrations\"]\n",
    "playcounts = [78, 29, 44, 21, 89, 5]"
   ]
  },
  {
   "cell_type": "code",
   "execution_count": 3,
   "id": "1ab88289",
   "metadata": {},
   "outputs": [
    {
     "name": "stdout",
     "output_type": "stream",
     "text": [
      "{'Like a Rolling Stone': 78, 'Satisfaction': 29, 'Imagine': 44, \"What's Going On\": 21, 'Respect': 89, 'Good Vibrations': 5}\n"
     ]
    }
   ],
   "source": [
    "# Using a dict comprehension, create a dictionary called plays that goes through zip(songs, playcounts) and creates a song:playcount pair for each song in songs and each playcount in playcounts.\n",
    "plays = {key: value for key, value in zip(songs, playcounts)}\n",
    "\n",
    "print(plays)"
   ]
  },
  {
   "cell_type": "code",
   "execution_count": 6,
   "id": "398c5b73",
   "metadata": {},
   "outputs": [
    {
     "name": "stdout",
     "output_type": "stream",
     "text": [
      "{'Like a Rolling Stone': 78, 'Satisfaction': 29, 'Imagine': 44, \"What's Going On\": 21, 'Respect': 89, 'Good Vibrations': 5, 'Purple Haze': 1}\n"
     ]
    }
   ],
   "source": [
    "# After printing plays, add a new entry to it. The entry should be for the song \"Purple Haze\" and the playcount is 1.\n",
    "plays[\"Purple Haze\"] = 1\n",
    "\n",
    "print(plays)"
   ]
  },
  {
   "cell_type": "code",
   "execution_count": 8,
   "id": "7d4e9dc1",
   "metadata": {},
   "outputs": [
    {
     "name": "stdout",
     "output_type": "stream",
     "text": [
      "{'Like a Rolling Stone': 78, 'Satisfaction': 29, 'Imagine': 44, \"What's Going On\": 21, 'Respect': 94, 'Good Vibrations': 5, 'Purple Haze': 1}\n"
     ]
    }
   ],
   "source": [
    "# This user has caught Aretha Franklin fever and listened to “Respect” 5 more times. Update the value for \"Respect\" to be 94 in the plays dictionary.\n",
    "plays[\"Respect\"] = 94\n",
    "\n",
    "print(plays)"
   ]
  },
  {
   "cell_type": "code",
   "execution_count": 10,
   "id": "baf0737c",
   "metadata": {},
   "outputs": [
    {
     "name": "stdout",
     "output_type": "stream",
     "text": [
      "{'The Best Songs': {'Like a Rolling Stone': 78, 'Satisfaction': 29, 'Imagine': 44, \"What's Going On\": 21, 'Respect': 94, 'Good Vibrations': 5, 'Purple Haze': 1}, 'Sunday Feelings': {}}\n"
     ]
    }
   ],
   "source": [
    "# Create a dictionary called library that has two key: value pairs:\n",
    "    # key \"The Best Songs\" with a value of plays, the dictionary you created\n",
    "    # key \"Sunday Feelings\" with a value of an empty dictionary\n",
    "    \n",
    "library = {\"The Best Songs\": plays, \"Sunday Feelings\": {}}\n",
    "print(library)"
   ]
  },
  {
   "cell_type": "code",
   "execution_count": null,
   "id": "3175883b",
   "metadata": {},
   "outputs": [],
   "source": []
  }
 ],
 "metadata": {
  "kernelspec": {
   "display_name": "Python 3 (ipykernel)",
   "language": "python",
   "name": "python3"
  },
  "language_info": {
   "codemirror_mode": {
    "name": "ipython",
    "version": 3
   },
   "file_extension": ".py",
   "mimetype": "text/x-python",
   "name": "python",
   "nbconvert_exporter": "python",
   "pygments_lexer": "ipython3",
   "version": "3.11.5"
  }
 },
 "nbformat": 4,
 "nbformat_minor": 5
}
