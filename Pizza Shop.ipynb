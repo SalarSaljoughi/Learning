{
 "cells": [
  {
   "cell_type": "markdown",
   "id": "db8eac48",
   "metadata": {},
   "source": [
    "# Len's Slice\n",
    "### new pizza place in the neighborhood"
   ]
  },
  {
   "cell_type": "code",
   "execution_count": 1,
   "id": "87ecd66e",
   "metadata": {},
   "outputs": [],
   "source": [
    "# to keep track of the kind of pizza you sell, create a list of toppings:\n",
    "toppings = [\"pepperoni\", \"pineapple\", \"cheese\", \"sausage\", \"olives\", \"anchovies\", \"mushrooms\"]"
   ]
  },
  {
   "cell_type": "code",
   "execution_count": 2,
   "id": "31980d5f",
   "metadata": {},
   "outputs": [],
   "source": [
    "# To keep track of how much each kind of pizza slice costs, create a list called prices\n",
    "prices = [2, 6, 1, 3, 2, 7, 2]"
   ]
  },
  {
   "cell_type": "code",
   "execution_count": 3,
   "id": "7cb87768",
   "metadata": {},
   "outputs": [
    {
     "name": "stdout",
     "output_type": "stream",
     "text": [
      "3\n"
     ]
    }
   ],
   "source": [
    "# Your boss wants you to do some research on $2 slices.\n",
    "\n",
    "num_two_dollar_slices = prices.count(2)\n",
    "print(num_two_dollar_slices)"
   ]
  },
  {
   "cell_type": "code",
   "execution_count": 4,
   "id": "e7b38ffc",
   "metadata": {},
   "outputs": [
    {
     "name": "stdout",
     "output_type": "stream",
     "text": [
      "7\n"
     ]
    }
   ],
   "source": [
    "# Find the length of the toppings list\n",
    "num_pizzas = len(toppings)\n",
    "print(num_pizzas)"
   ]
  },
  {
   "cell_type": "code",
   "execution_count": 5,
   "id": "43aa1c26",
   "metadata": {},
   "outputs": [
    {
     "name": "stdout",
     "output_type": "stream",
     "text": [
      "we sell 7 different kinds of pizza!\n"
     ]
    }
   ],
   "source": [
    "# print a message\n",
    "print(\"we sell \" + str(num_pizzas) + \" different kinds of pizza!\")"
   ]
  },
  {
   "cell_type": "code",
   "execution_count": 6,
   "id": "068bb13d",
   "metadata": {},
   "outputs": [
    {
     "name": "stdout",
     "output_type": "stream",
     "text": [
      "[[2, 'pepperoni'], [6, 'pineapples'], [1, 'cheese'], [3, 'sausage'], [2, 'ollives'], [7, 'anchovies'], [2, 'mushrooms']]\n"
     ]
    }
   ],
   "source": [
    "# create 2D list of prices and toppings\n",
    "pizza_and_prices = [[2, \"pepperoni\"], [6, \"pineapples\"], [1, \"cheese\"], [3, \"sausage\"], [2, \"ollives\"], [7, \"anchovies\"], [2, \"mushrooms\"]]\n",
    "print(pizza_and_prices)"
   ]
  },
  {
   "cell_type": "code",
   "execution_count": 7,
   "id": "b00ecc86",
   "metadata": {},
   "outputs": [
    {
     "name": "stdout",
     "output_type": "stream",
     "text": [
      "[[1, 'cheese'], [2, 'mushrooms'], [2, 'ollives'], [2, 'pepperoni'], [3, 'sausage'], [6, 'pineapples'], [7, 'anchovies']]\n"
     ]
    }
   ],
   "source": [
    "# sort the list in ascending order\n",
    "pizza_and_prices.sort()\n",
    "print(pizza_and_prices)"
   ]
  },
  {
   "cell_type": "code",
   "execution_count": 8,
   "id": "894202d1",
   "metadata": {},
   "outputs": [
    {
     "name": "stdout",
     "output_type": "stream",
     "text": [
      "[1, 'cheese']\n"
     ]
    }
   ],
   "source": [
    "# cheapest pizza\n",
    "cheapest_pizza = pizza_and_prices[0]\n",
    "print(cheapest_pizza)"
   ]
  },
  {
   "cell_type": "code",
   "execution_count": 9,
   "id": "fdba8c19",
   "metadata": {},
   "outputs": [
    {
     "name": "stdout",
     "output_type": "stream",
     "text": [
      "[7, 'anchovies']\n"
     ]
    }
   ],
   "source": [
    "# most expensive pizza\n",
    "priciest_pizza = pizza_and_prices[-1]\n",
    "print(priciest_pizza)"
   ]
  },
  {
   "cell_type": "code",
   "execution_count": 10,
   "id": "ab828524",
   "metadata": {},
   "outputs": [
    {
     "name": "stdout",
     "output_type": "stream",
     "text": [
      "[[1, 'cheese'], [2, 'mushrooms'], [2, 'ollives'], [2, 'pepperoni'], [3, 'sausage'], [6, 'pineapples']]\n"
     ]
    }
   ],
   "source": [
    "# remove last index\n",
    "pizza_and_prices.pop()\n",
    "print(pizza_and_prices)"
   ]
  },
  {
   "cell_type": "code",
   "execution_count": 11,
   "id": "7f3c614f",
   "metadata": {},
   "outputs": [
    {
     "name": "stdout",
     "output_type": "stream",
     "text": [
      "[[1, 'cheese'], [2, 'mushrooms'], [2, 'ollives'], [2, 'pepperoni'], [2.5, 'peppers'], [3, 'sausage'], [6, 'pineapples']]\n"
     ]
    }
   ],
   "source": [
    "# add new topping \n",
    "pizza_and_prices.insert(4, [2.5, \"peppers\"])\n",
    "print(pizza_and_prices)"
   ]
  },
  {
   "cell_type": "code",
   "execution_count": 12,
   "id": "0989c99b",
   "metadata": {},
   "outputs": [
    {
     "name": "stdout",
     "output_type": "stream",
     "text": [
      "[[1, 'cheese'], [2, 'mushrooms'], [2, 'ollives']]\n"
     ]
    }
   ],
   "source": [
    "# three cheapest pizzas\n",
    "three_cheapest = pizza_and_prices[:3]\n",
    "print(three_cheapest)"
   ]
  },
  {
   "cell_type": "code",
   "execution_count": null,
   "id": "94566501",
   "metadata": {},
   "outputs": [],
   "source": []
  }
 ],
 "metadata": {
  "kernelspec": {
   "display_name": "Python 3 (ipykernel)",
   "language": "python",
   "name": "python3"
  },
  "language_info": {
   "codemirror_mode": {
    "name": "ipython",
    "version": 3
   },
   "file_extension": ".py",
   "mimetype": "text/x-python",
   "name": "python",
   "nbconvert_exporter": "python",
   "pygments_lexer": "ipython3",
   "version": "3.11.5"
  }
 },
 "nbformat": 4,
 "nbformat_minor": 5
}
