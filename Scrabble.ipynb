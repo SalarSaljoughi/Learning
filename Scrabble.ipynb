{
 "cells": [
  {
   "cell_type": "markdown",
   "id": "71bcc31a",
   "metadata": {},
   "source": [
    "# Scrabble\n",
    "\n",
    "we will process some data from a group of friends playing scrabble. You will use dictionaries to organize players, words, and points."
   ]
  },
  {
   "cell_type": "code",
   "execution_count": 1,
   "id": "01366514",
   "metadata": {},
   "outputs": [],
   "source": [
    "letters = [\"A\", \"B\", \"C\", \"D\", \"E\", \"F\", \"G\", \"H\", \"I\", \"J\", \"K\", \"L\", \"M\", \"N\", \"O\", \"P\", \"Q\", \"R\", \"S\", \"T\", \"U\", \"V\", \"W\", \"X\", \"Y\", \"Z\"]\n",
    "points = [1, 3, 3, 2, 1, 4, 2, 4, 1, 8, 5, 1, 3, 4, 1, 3, 10, 1, 1, 1, 1, 4, 4, 8, 4, 10]"
   ]
  },
  {
   "cell_type": "code",
   "execution_count": 6,
   "id": "2ee77f07",
   "metadata": {},
   "outputs": [
    {
     "name": "stdout",
     "output_type": "stream",
     "text": [
      "{'A': 1, 'B': 3, 'C': 3, 'D': 2, 'E': 1, 'F': 4, 'G': 2, 'H': 4, 'I': 1, 'J': 8, 'K': 5, 'L': 1, 'M': 3, 'N': 4, 'O': 1, 'P': 3, 'Q': 10, 'R': 1, 'S': 1, 'T': 1, 'U': 1, 'V': 4, 'W': 4, 'X': 8, 'Y': 4, 'Z': 10}\n"
     ]
    }
   ],
   "source": [
    "# we want to combine 2 list into a dictionary and map leeter to its point value\n",
    "\n",
    "letter_to_point = {key:value for key,value in zip(letters, points)}\n",
    "\n",
    "print(letter_to_point)"
   ]
  },
  {
   "cell_type": "code",
   "execution_count": 9,
   "id": "264ac81b",
   "metadata": {},
   "outputs": [
    {
     "name": "stdout",
     "output_type": "stream",
     "text": [
      "{'A': 1, 'B': 3, 'C': 3, 'D': 2, 'E': 1, 'F': 4, 'G': 2, 'H': 4, 'I': 1, 'J': 8, 'K': 5, 'L': 1, 'M': 3, 'N': 4, 'O': 1, 'P': 3, 'Q': 10, 'R': 1, 'S': 1, 'T': 1, 'U': 1, 'V': 4, 'W': 4, 'X': 8, 'Y': 4, 'Z': 10, ' ': 0}\n"
     ]
    }
   ],
   "source": [
    "# our letters list did not take into account blank tiles, add \" \" with value zero to dictionary\n",
    "letter_to_point.update({\" \": 0})\n",
    "\n",
    "print(letter_to_point)"
   ]
  },
  {
   "cell_type": "code",
   "execution_count": 21,
   "id": "2c01253b",
   "metadata": {},
   "outputs": [],
   "source": [
    "# we want to define a function to take in the word and return how many points that word is worth\n",
    "\n",
    "def score_word(word):\n",
    "    point_total = 0\n",
    "    for letter in word:\n",
    "        if letter in letter_to_point:\n",
    "            point_total += letter_to_point[letter]\n",
    "        else:\n",
    "            point_total += 0\n",
    "            \n",
    "    return point_total"
   ]
  },
  {
   "cell_type": "code",
   "execution_count": 23,
   "id": "cba4d259",
   "metadata": {},
   "outputs": [
    {
     "name": "stdout",
     "output_type": "stream",
     "text": [
      "15\n"
     ]
    }
   ],
   "source": [
    "# test function\n",
    "brownie_points = score_word(\"BROWNIE\")\n",
    "print(brownie_points)"
   ]
  },
  {
   "cell_type": "code",
   "execution_count": 25,
   "id": "a986effc",
   "metadata": {},
   "outputs": [],
   "source": [
    "# create dictionary player_to_words \n",
    "player_to_words = {\n",
    "    \"player1\": [\"BLUE\", \"TENNIS\", \"EXIT\"],\n",
    "    \"wordNerd\": [\"EARTH\", \"EYES\", \"MACHINE\"],\n",
    "    \"Lexi Con\": [\"ERASER\", \"BELLY\", \"HUSKY\"],\n",
    "    \"Prof Reader\": [\"ZAP\", \"COMA\", \"PERIOD\"]\n",
    "}\n",
    "\n",
    "# create empty dictionary player_to_points\n",
    "player_to_points = {}"
   ]
  },
  {
   "cell_type": "code",
   "execution_count": 28,
   "id": "dda179a6",
   "metadata": {},
   "outputs": [],
   "source": [
    "# calculate each players points\n",
    "for player, words in player_to_words.items():\n",
    "    player_points = 0\n",
    "    for word in words:\n",
    "        player_points += score_word(word)\n",
    "    player_to_points[player] = player_points"
   ]
  },
  {
   "cell_type": "code",
   "execution_count": 29,
   "id": "4eaab888",
   "metadata": {},
   "outputs": [
    {
     "name": "stdout",
     "output_type": "stream",
     "text": [
      "{'player1': 29, 'wordNerd': 32, 'Lexi Con': 31, 'Prof Reader': 31}\n"
     ]
    }
   ],
   "source": [
    "# test to see if everything is correct\n",
    "print(player_to_points)"
   ]
  },
  {
   "cell_type": "markdown",
   "id": "cef8c623",
   "metadata": {},
   "source": [
    "#### additional tasks \n",
    "If you want extended practice, try to implement some of these ideas with the Python you’ve learned:\n",
    "\n",
    "play_word() — a function that would take in a player and a word, and add that word to the list of words they’ve played\n",
    "\n",
    "update_point_totals() — turn your nested loops into a function that you can call any time a word is played\n",
    "\n",
    "make your letter_to_points dictionary able to handle lowercase inputs as well"
   ]
  }
 ],
 "metadata": {
  "kernelspec": {
   "display_name": "Python 3 (ipykernel)",
   "language": "python",
   "name": "python3"
  },
  "language_info": {
   "codemirror_mode": {
    "name": "ipython",
    "version": 3
   },
   "file_extension": ".py",
   "mimetype": "text/x-python",
   "name": "python",
   "nbconvert_exporter": "python",
   "pygments_lexer": "ipython3",
   "version": "3.11.5"
  }
 },
 "nbformat": 4,
 "nbformat_minor": 5
}
