{
  "metadata": {
    "kernelspec": {
      "name": "python",
      "display_name": "Python (Pyodide)",
      "language": "python"
    },
    "language_info": {
      "codemirror_mode": {
        "name": "python",
        "version": 3
      },
      "file_extension": ".py",
      "mimetype": "text/x-python",
      "name": "python",
      "nbconvert_exporter": "python",
      "pygments_lexer": "ipython3",
      "version": "3.8"
    }
  },
  "nbformat_minor": 4,
  "nbformat": 4,
  "cells": [
    {
      "cell_type": "markdown",
      "source": "# ASCII ART",
      "metadata": {}
    },
    {
      "cell_type": "markdown",
      "source": "writing my initialls in ASCII ",
      "metadata": {}
    },
    {
      "cell_type": "code",
      "source": "# my name is Salar Saljoughi\n# I'm photographer and trying to learn coding\nprint(\" SSS     SSS \")\nprint(\"S   S   S   S\")\nprint(\"S       S    \")\nprint(\" SSS     SSS \")\nprint(\"     S        S\")\nprint(\"S   S   S   S\")\nprint(\" SSS     SSS \")",
      "metadata": {
        "trusted": true
      },
      "outputs": [
        {
          "name": "stdout",
          "text": " SSS     SSS \nS   S   S   S\nS       S    \n SSS     SSS \n     S        S\nS   S   S   S\n SSS     SSS \n",
          "output_type": "stream"
        }
      ],
      "execution_count": 1
    },
    {
      "cell_type": "markdown",
      "source": "Creating snowman in ASCII",
      "metadata": {}
    },
    {
      "cell_type": "code",
      "source": "",
      "metadata": {
        "trusted": true
      },
      "outputs": [],
      "execution_count": null
    }
  ]
}