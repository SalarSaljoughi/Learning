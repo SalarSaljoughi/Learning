{
 "cells": [
  {
   "cell_type": "markdown",
   "id": "37dbea08",
   "metadata": {},
   "source": [
    "# Hacking the Fender\n",
    "The Fender, a notorious computer hacker and general villain of the people, has compromised several top-secret passwords including your own. Your mission, should you choose to accept it, is threefold. You must acquire access to The Fender‘s systems, you must update his \"passwords.txt\" file to scramble the secret data. The last thing you need to do is add the signature of Slash Null, a different hacker whose nefarious deeds could be very conveniently halted by The Fender if they viewed Slash Null as a threat."
   ]
  },
  {
   "cell_type": "code",
   "execution_count": 1,
   "id": "c70b7aa1",
   "metadata": {},
   "outputs": [],
   "source": [
    "import csv\n",
    "import json"
   ]
  },
  {
   "cell_type": "code",
   "execution_count": 2,
   "id": "b01b218b",
   "metadata": {},
   "outputs": [],
   "source": [
    "# create empty list for compormised passwords\n",
    "compromised_users = []"
   ]
  },
  {
   "cell_type": "code",
   "execution_count": 3,
   "id": "3c8416c1",
   "metadata": {},
   "outputs": [
    {
     "name": "stdout",
     "output_type": "stream",
     "text": [
      "['jean49', 'haydenashley', 'michaelastephens', 'denisephillips', 'andrew24', 'kaylaabbott', 'tmartinez', 'mholden', 'randygilbert', 'watsonlouis', 'mdavis', 'patrickprice', 'kgriffith', 'hannasarah', 'xaviermartin', 'hrodriguez', 'erodriguez', 'danielleclark', 'timothy26', 'elizabeth19']\n"
     ]
    }
   ],
   "source": [
    "# open the csv file and get list of usernames whom passwords are compermised\n",
    "with open(\"passwords.csv\") as password_file:\n",
    "    password_csv = csv.DictReader(password_file)\n",
    "    for row in password_csv:\n",
    "        password_row = row\n",
    "#       print(password_row[\"Username\"])\n",
    "        compromised_users.append(password_row[\"Username\"])\n",
    "    \n",
    "print(compromised_users)"
   ]
  },
  {
   "cell_type": "code",
   "execution_count": 4,
   "id": "f2715acb",
   "metadata": {},
   "outputs": [],
   "source": [
    "# we need to open a text file and write these usernames into text file\n",
    "with open(\"compromised_users.txt\", \"w\") as compromised_user_file:\n",
    "    for name in compromised_users:\n",
    "        compromised_user_file.write(name + \"\\n\")"
   ]
  },
  {
   "cell_type": "code",
   "execution_count": 5,
   "id": "8c4e50fe",
   "metadata": {},
   "outputs": [],
   "source": [
    "# Your boss needs to know that you were successful in retrieving that compromised data. We’ll need to send him an encoded message over the internet. Let’s use JSON to do that.\n",
    "# we already imported JSON module \n",
    "with open(\"boss_message.json\", \"w\") as boss_message:\n",
    "    boss_message_dict = {\"recipient\": \"The Boss\", \"message\": \"Mission Success\"}\n",
    "    json.dump(boss_message_dict, boss_message)"
   ]
  },
  {
   "cell_type": "code",
   "execution_count": 19,
   "id": "c0213e38",
   "metadata": {},
   "outputs": [
    {
     "name": "stdout",
     "output_type": "stream",
     "text": [
      "\n",
      " _  _     ___   __  ____             \n",
      "/ )( \\   / __) /  \\(_  _)            \n",
      ") \\/ (  ( (_ \\(  O ) )(              \n",
      "\\____/   \\___/ \\__/ (__)             \n",
      " _  _   __    ___  __ _  ____  ____  \n",
      "/ )( \\ / _\\  / __)(  / )(  __)(    \\ \n",
      ") __ (/    \\( (__  )  (  ) _)  ) D ( \n",
      "\\_)(_/\\_/\\_/ \\___)(__\\_)(____)(____/ \n",
      "        ____  __     __   ____  _  _ \n",
      " ___   / ___)(  )   / _\\ / ___)/ )(  \n",
      "(___)  \\___ \\/ (_/\\/    \\___ \\) __ (\n",
      "       (____/\\____/\\_/\\_/(____/\\_)(_/\n",
      " __ _  _  _  __    __                \n",
      "(  ( \\/ )( \\(  )  (  )               \n",
      "/    /) \\/ (/ (_/\\/ (_/\\             \n",
      "\\_)__)\\____/\\____/\\____/\n",
      "\n"
     ]
    }
   ],
   "source": [
    "# Enemy of the people, Slash Null, is who we want The Fender to think was behind this attack. He has a signature, whenever he hacks someone he adds this signature to one of the files he touches. Here is the signature:\n",
    "slash_null_sig = \"\"\"\n",
    " _  _     ___   __  ____             \n",
    "/ )( \\   / __) /  \\(_  _)            \n",
    ") \\/ (  ( (_ \\(  O ) )(              \n",
    "\\____/   \\___/ \\__/ (__)             \n",
    " _  _   __    ___  __ _  ____  ____  \n",
    "/ )( \\ / _\\  / __)(  / )(  __)(    \\ \n",
    ") __ (/    \\( (__  )  (  ) _)  ) D ( \n",
    "\\_)(_/\\_/\\_/ \\___)(__\\_)(____)(____/ \n",
    "        ____  __     __   ____  _  _ \n",
    " ___   / ___)(  )   / _\\ / ___)/ )( \\\n",
    " \n",
    "(___)  \\___ \\/ (_/\\/    \\\\___ \\) __ (\n",
    "       (____/\\____/\\_/\\_/(____/\\_)(_/\n",
    " __ _  _  _  __    __                \n",
    "(  ( \\/ )( \\(  )  (  )               \n",
    "/    /) \\/ (/ (_/\\/ (_/\\             \n",
    "\\_)__)\\____/\\____/\\____/\n",
    "\"\"\"\n",
    "\n",
    "print(slash_null_sig)"
   ]
  },
  {
   "cell_type": "code",
   "execution_count": 21,
   "id": "3e6ef761",
   "metadata": {},
   "outputs": [],
   "source": [
    "# Now that we’ve safely recovered the compromised users we’ll want to remove the \"passwords.csv\" file completely.\n",
    "with open(\"new_password.csv\", \"w\") as new_password_obj:\n",
    "    new_password_obj.write(slash_null_sig)"
   ]
  },
  {
   "cell_type": "code",
   "execution_count": null,
   "id": "63d535d5",
   "metadata": {},
   "outputs": [],
   "source": []
  }
 ],
 "metadata": {
  "kernelspec": {
   "display_name": "Python 3 (ipykernel)",
   "language": "python",
   "name": "python3"
  },
  "language_info": {
   "codemirror_mode": {
    "name": "ipython",
    "version": 3
   },
   "file_extension": ".py",
   "mimetype": "text/x-python",
   "name": "python",
   "nbconvert_exporter": "python",
   "pygments_lexer": "ipython3",
   "version": "3.11.5"
  }
 },
 "nbformat": 4,
 "nbformat_minor": 5
}
