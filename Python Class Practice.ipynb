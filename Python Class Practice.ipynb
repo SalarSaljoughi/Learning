{
 "cells": [
  {
   "cell_type": "markdown",
   "id": "617d76bf",
   "metadata": {},
   "source": [
    "# Python Class Practice"
   ]
  },
  {
   "cell_type": "markdown",
   "id": "91872673",
   "metadata": {},
   "source": [
    "### creating class"
   ]
  },
  {
   "cell_type": "code",
   "execution_count": 1,
   "id": "53f99197",
   "metadata": {},
   "outputs": [],
   "source": [
    "class Facade:\n",
    "    pass"
   ]
  },
  {
   "cell_type": "markdown",
   "id": "ec3bee6c",
   "metadata": {},
   "source": [
    "### instantiation"
   ]
  },
  {
   "cell_type": "code",
   "execution_count": 2,
   "id": "afb29278",
   "metadata": {},
   "outputs": [],
   "source": [
    "class Facade:\n",
    "    pass\n",
    "\n",
    "facade_1 = Facade()"
   ]
  },
  {
   "cell_type": "markdown",
   "id": "7e4fad16",
   "metadata": {},
   "source": [
    "### OOP"
   ]
  },
  {
   "cell_type": "code",
   "execution_count": 3,
   "id": "88abc0fc",
   "metadata": {},
   "outputs": [
    {
     "name": "stdout",
     "output_type": "stream",
     "text": [
      "<class '__main__.Facade'>\n"
     ]
    }
   ],
   "source": [
    "class Facade:\n",
    "    pass\n",
    "\n",
    "facade_1 = Facade()\n",
    "facade_1_type = type(facade_1)\n",
    "print(facade_1_type)"
   ]
  },
  {
   "cell_type": "markdown",
   "id": "69a31f41",
   "metadata": {},
   "source": [
    "### class variables"
   ]
  },
  {
   "cell_type": "code",
   "execution_count": 4,
   "id": "453280c6",
   "metadata": {},
   "outputs": [],
   "source": [
    "class Grade:\n",
    "    minimum_passing = 65"
   ]
  },
  {
   "cell_type": "markdown",
   "id": "ae079680",
   "metadata": {},
   "source": [
    "### class methods"
   ]
  },
  {
   "cell_type": "code",
   "execution_count": 5,
   "id": "08b9399a",
   "metadata": {},
   "outputs": [],
   "source": [
    "class Rules:\n",
    "    def washing_brushes(self):\n",
    "        return \"Point bristles towards the basin while washing your brushes.\""
   ]
  },
  {
   "cell_type": "markdown",
   "id": "9d4171ad",
   "metadata": {},
   "source": [
    "### class methods with arguments\n",
    "It’s March 14th (known in some places as Pi day) at Jan van High, and you’re feeling awfully festive. You decide to create a program that calculates the area of a circle."
   ]
  },
  {
   "cell_type": "code",
   "execution_count": 9,
   "id": "a5e206fc",
   "metadata": {},
   "outputs": [],
   "source": [
    "class Circle:\n",
    "    pi = 3.14\n",
    "  \n",
    "    def area(self, radius):\n",
    "        return Circle.pi * radius ** 2"
   ]
  },
  {
   "cell_type": "code",
   "execution_count": 14,
   "id": "d3f6dfb7",
   "metadata": {},
   "outputs": [
    {
     "name": "stdout",
     "output_type": "stream",
     "text": [
      "113.04\n",
      "1017.36\n",
      "103095306.0\n"
     ]
    }
   ],
   "source": [
    "# create instance of circle\n",
    "circle = Circle()\n",
    "\n",
    "pizza_area = circle.area(12/2)\n",
    "print(pizza_area)\n",
    "\n",
    "teaching_table_area = circle.area(36/2)\n",
    "print(teaching_table_area)\n",
    "\n",
    "round_room_area = circle.area(11460/2)\n",
    "print(round_room_area)"
   ]
  },
  {
   "cell_type": "markdown",
   "id": "4f8ba2ad",
   "metadata": {},
   "source": [
    "## Coonstructors"
   ]
  },
  {
   "cell_type": "code",
   "execution_count": 17,
   "id": "2d3c253e",
   "metadata": {},
   "outputs": [],
   "source": [
    "# There are several methods that we can define in a Python class that have special behavior. These methods are sometimes called “magic,” because they behave differently from regular methods. \n",
    "# Another popular term is dunder methods, so-named because they have two underscores (double-underscore abbreviated to “dunder”) on either side of them.\n",
    "# Methods that are used to prepare an object being instantiated are called constructors."
   ]
  },
  {
   "cell_type": "markdown",
   "id": "2809891d",
   "metadata": {},
   "source": [
    "### __init__"
   ]
  },
  {
   "cell_type": "code",
   "execution_count": 2,
   "id": "e7666647",
   "metadata": {},
   "outputs": [
    {
     "name": "stdout",
     "output_type": "stream",
     "text": [
      "HELLO?!\n",
      "HELLO?!\n"
     ]
    }
   ],
   "source": [
    "# __init__  This method is used to initialize a newly created object. It is called every time the class is instantiated.\n",
    "class Shouter:\n",
    "    def __init__(self):\n",
    "        print(\"HELLO?!\")\n",
    "\n",
    "shout1 = Shouter()\n",
    "\n",
    "shout2 = Shouter()\n",
    "\n",
    "# Above, we created a class called Shouter and every time we create an instance of Shouter the program prints out a shout."
   ]
  },
  {
   "cell_type": "markdown",
   "id": "417c9f5b",
   "metadata": {},
   "source": [
    "### adding the parameters"
   ]
  },
  {
   "cell_type": "code",
   "execution_count": 1,
   "id": "c28652ba",
   "metadata": {},
   "outputs": [
    {
     "name": "stdout",
     "output_type": "stream",
     "text": [
      "New circle with diameter: 36\n"
     ]
    }
   ],
   "source": [
    "class Circle:\n",
    "    pi = 3.14\n",
    "  \n",
    "    # Add constructor here:\n",
    "    def __init__(self, diameter):\n",
    "        print(f\"New circle with diameter: {diameter}\")\n",
    "\n",
    "\n",
    "teaching_table = Circle(36)"
   ]
  },
  {
   "cell_type": "markdown",
   "id": "3ed1cb2f",
   "metadata": {},
   "source": [
    "### instance variable"
   ]
  },
  {
   "cell_type": "code",
   "execution_count": 3,
   "id": "3d1393bb",
   "metadata": {},
   "outputs": [],
   "source": [
    "# The data held by an object is referred to as an instance variable. Instance variables aren’t shared by all instances of a class — they are variables that are specific to the object they are attached to.\n",
    "\n",
    "class Store:\n",
    "    pass\n",
    "\n",
    "alternative_rocks = Store()\n",
    "isabelles_ices = Store()\n",
    "\n",
    "alternative_rocks.store_name = \"Alternative Rocks\"\n",
    "isabelles_ices.store_name = \"Isabelle's Ices\""
   ]
  },
  {
   "cell_type": "markdown",
   "id": "28f9200b",
   "metadata": {},
   "source": [
    "### attribute functions"
   ]
  },
  {
   "cell_type": "code",
   "execution_count": 8,
   "id": "f5740609",
   "metadata": {},
   "outputs": [
    {
     "name": "stdout",
     "output_type": "stream",
     "text": [
      "<class 'str'> has the count attribute!\n",
      "<class 'list'> has the count attribute!\n"
     ]
    }
   ],
   "source": [
    "# instance variables and class variables are both accessed similarly in Python.\n",
    "# they are both considered attributes of an object. \n",
    "# If we attempt to access an attribute that is neither a class variable nor an instance variable of the object Python will throw an AttributeError.\n",
    "\n",
    "# if we are not sure if an object has an attribute or not we can use hasattr() and if it returns True object has a given attribute and False otherwise.\n",
    "# If we want to get the actual value of the attribute, getattr() is a Python function that will return the value of a given object and attribute.\n",
    "# we can also supply a third argument that will be the default if the object does not have the given attribute.\n",
    "    # hasattr(object, “attribute”)\n",
    "    # getattr(obkect, \"attribute\", default)\n",
    "    \n",
    "can_we_count_it = [{'s': False}, \"sassafrass\", 18, [\"a\", \"c\", \"s\", \"d\", \"s\"]]\n",
    "\n",
    "for element in can_we_count_it:\n",
    "    if hasattr(element, \"count\") == True:\n",
    "        print(str(type(element)) + \" has the count attribute!\")\n",
    "    else:\n",
    "        print(str(type(element)) + \" does not have the count attribute :(\")"
   ]
  },
  {
   "cell_type": "markdown",
   "id": "e00d21b8",
   "metadata": {},
   "source": [
    "### self"
   ]
  },
  {
   "cell_type": "code",
   "execution_count": 9,
   "id": "19a5f65c",
   "metadata": {},
   "outputs": [],
   "source": [
    "# we can use class instead of dictionary\n",
    "class Circle:\n",
    "    pi = 3.14\n",
    "    def __init__(self, diameter):\n",
    "        print(f\"Creating circle with diameter {diameter}\")\n",
    "        # we usually have the diameter so we need to calculate the radius for calculations\n",
    "        self.radius = diameter / 2\n",
    "    \n",
    "    # define a method to calculate the circumference\n",
    "    def circumference(self):\n",
    "        return 2 * self.pi * self.radius"
   ]
  },
  {
   "cell_type": "code",
   "execution_count": 13,
   "id": "76f32ced",
   "metadata": {},
   "outputs": [
    {
     "name": "stdout",
     "output_type": "stream",
     "text": [
      "Creating circle with diameter 12\n",
      "37.68\n",
      "Creating circle with diameter 36\n",
      "113.04\n",
      "Creating circle with diameter 11460\n",
      "35984.4\n"
     ]
    }
   ],
   "source": [
    "# medium pizza\n",
    "medium_pizza = Circle(12)\n",
    "print(Circle.circumference(medium_pizza))\n",
    "# teaching_table\n",
    "teaching_table = Circle(36)\n",
    "print(Circle.circumference(teaching_table))\n",
    "# Round room auditorum\n",
    "round_room = Circle(11460)\n",
    "print(Circle.circumference(round_room))"
   ]
  },
  {
   "cell_type": "code",
   "execution_count": null,
   "id": "3fd5c43c",
   "metadata": {},
   "outputs": [],
   "source": []
  },
  {
   "cell_type": "code",
   "execution_count": null,
   "id": "e2e09bea",
   "metadata": {},
   "outputs": [],
   "source": []
  }
 ],
 "metadata": {
  "kernelspec": {
   "display_name": "Python 3 (ipykernel)",
   "language": "python",
   "name": "python3"
  },
  "language_info": {
   "codemirror_mode": {
    "name": "ipython",
    "version": 3
   },
   "file_extension": ".py",
   "mimetype": "text/x-python",
   "name": "python",
   "nbconvert_exporter": "python",
   "pygments_lexer": "ipython3",
   "version": "3.11.5"
  }
 },
 "nbformat": 4,
 "nbformat_minor": 5
}
