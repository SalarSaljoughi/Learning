{
 "cells": [
  {
   "cell_type": "markdown",
   "id": "617d76bf",
   "metadata": {},
   "source": [
    "# Python Class Practice"
   ]
  },
  {
   "cell_type": "markdown",
   "id": "91872673",
   "metadata": {},
   "source": [
    "### creating class"
   ]
  },
  {
   "cell_type": "code",
   "execution_count": 1,
   "id": "53f99197",
   "metadata": {},
   "outputs": [],
   "source": [
    "class Facade:\n",
    "    pass"
   ]
  },
  {
   "cell_type": "markdown",
   "id": "ec3bee6c",
   "metadata": {},
   "source": [
    "### instantiation"
   ]
  },
  {
   "cell_type": "code",
   "execution_count": 2,
   "id": "afb29278",
   "metadata": {},
   "outputs": [],
   "source": [
    "class Facade:\n",
    "    pass\n",
    "\n",
    "facade_1 = Facade()"
   ]
  },
  {
   "cell_type": "markdown",
   "id": "7e4fad16",
   "metadata": {},
   "source": [
    "### OOP"
   ]
  },
  {
   "cell_type": "code",
   "execution_count": 3,
   "id": "88abc0fc",
   "metadata": {},
   "outputs": [
    {
     "name": "stdout",
     "output_type": "stream",
     "text": [
      "<class '__main__.Facade'>\n"
     ]
    }
   ],
   "source": [
    "class Facade:\n",
    "    pass\n",
    "\n",
    "facade_1 = Facade()\n",
    "facade_1_type = type(facade_1)\n",
    "print(facade_1_type)"
   ]
  },
  {
   "cell_type": "markdown",
   "id": "69a31f41",
   "metadata": {},
   "source": [
    "### class variables"
   ]
  },
  {
   "cell_type": "code",
   "execution_count": 4,
   "id": "453280c6",
   "metadata": {},
   "outputs": [],
   "source": [
    "class Grade:\n",
    "    minimum_passing = 65"
   ]
  },
  {
   "cell_type": "markdown",
   "id": "ae079680",
   "metadata": {},
   "source": [
    "### class methods"
   ]
  },
  {
   "cell_type": "code",
   "execution_count": 5,
   "id": "08b9399a",
   "metadata": {},
   "outputs": [],
   "source": [
    "class Rules:\n",
    "    def washing_brushes(self):\n",
    "        return \"Point bristles towards the basin while washing your brushes.\""
   ]
  },
  {
   "cell_type": "markdown",
   "id": "9d4171ad",
   "metadata": {},
   "source": [
    "### class methods with arguments\n",
    "It’s March 14th (known in some places as Pi day) at Jan van High, and you’re feeling awfully festive. You decide to create a program that calculates the area of a circle."
   ]
  },
  {
   "cell_type": "code",
   "execution_count": 9,
   "id": "a5e206fc",
   "metadata": {},
   "outputs": [],
   "source": [
    "class Circle:\n",
    "    pi = 3.14\n",
    "  \n",
    "    def area(self, radius):\n",
    "        return Circle.pi * radius ** 2"
   ]
  },
  {
   "cell_type": "code",
   "execution_count": 14,
   "id": "d3f6dfb7",
   "metadata": {},
   "outputs": [
    {
     "name": "stdout",
     "output_type": "stream",
     "text": [
      "113.04\n",
      "1017.36\n",
      "103095306.0\n"
     ]
    }
   ],
   "source": [
    "# create instance of circle\n",
    "circle = Circle()\n",
    "\n",
    "pizza_area = circle.area(12/2)\n",
    "print(pizza_area)\n",
    "\n",
    "teaching_table_area = circle.area(36/2)\n",
    "print(teaching_table_area)\n",
    "\n",
    "round_room_area = circle.area(11460/2)\n",
    "print(round_room_area)"
   ]
  },
  {
   "cell_type": "markdown",
   "id": "4f8ba2ad",
   "metadata": {},
   "source": [
    "## Coonstructors"
   ]
  },
  {
   "cell_type": "code",
   "execution_count": 17,
   "id": "2d3c253e",
   "metadata": {},
   "outputs": [],
   "source": [
    "# There are several methods that we can define in a Python class that have special behavior. These methods are sometimes called “magic,” because they behave differently from regular methods. \n",
    "# Another popular term is dunder methods, so-named because they have two underscores (double-underscore abbreviated to “dunder”) on either side of them.\n",
    "# Methods that are used to prepare an object being instantiated are called constructors."
   ]
  },
  {
   "cell_type": "markdown",
   "id": "2809891d",
   "metadata": {},
   "source": [
    "### __init__"
   ]
  },
  {
   "cell_type": "code",
   "execution_count": 16,
   "id": "e7666647",
   "metadata": {},
   "outputs": [],
   "source": [
    "# __init__  This method is used to initialize a newly created object. It is called every time the class is instantiated.\n"
   ]
  },
  {
   "cell_type": "code",
   "execution_count": null,
   "id": "88abce74",
   "metadata": {},
   "outputs": [],
   "source": []
  }
 ],
 "metadata": {
  "kernelspec": {
   "display_name": "Python 3 (ipykernel)",
   "language": "python",
   "name": "python3"
  },
  "language_info": {
   "codemirror_mode": {
    "name": "ipython",
    "version": 3
   },
   "file_extension": ".py",
   "mimetype": "text/x-python",
   "name": "python",
   "nbconvert_exporter": "python",
   "pygments_lexer": "ipython3",
   "version": "3.11.5"
  }
 },
 "nbformat": 4,
 "nbformat_minor": 5
}
