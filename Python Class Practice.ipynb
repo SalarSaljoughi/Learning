{
 "cells": [
  {
   "cell_type": "markdown",
   "id": "617d76bf",
   "metadata": {},
   "source": [
    "# Python Class Practice"
   ]
  },
  {
   "cell_type": "markdown",
   "id": "91872673",
   "metadata": {},
   "source": [
    "### creating class"
   ]
  },
  {
   "cell_type": "code",
   "execution_count": 1,
   "id": "53f99197",
   "metadata": {},
   "outputs": [],
   "source": [
    "class Facade:\n",
    "    pass"
   ]
  },
  {
   "cell_type": "markdown",
   "id": "ec3bee6c",
   "metadata": {},
   "source": [
    "### instantiation"
   ]
  },
  {
   "cell_type": "code",
   "execution_count": 2,
   "id": "afb29278",
   "metadata": {},
   "outputs": [],
   "source": [
    "class Facade:\n",
    "    pass\n",
    "\n",
    "facade_1 = Facade()"
   ]
  },
  {
   "cell_type": "markdown",
   "id": "7e4fad16",
   "metadata": {},
   "source": [
    "### OOP"
   ]
  },
  {
   "cell_type": "code",
   "execution_count": 3,
   "id": "88abc0fc",
   "metadata": {},
   "outputs": [
    {
     "name": "stdout",
     "output_type": "stream",
     "text": [
      "<class '__main__.Facade'>\n"
     ]
    }
   ],
   "source": [
    "class Facade:\n",
    "    pass\n",
    "\n",
    "facade_1 = Facade()\n",
    "facade_1_type = type(facade_1)\n",
    "print(facade_1_type)"
   ]
  },
  {
   "cell_type": "markdown",
   "id": "69a31f41",
   "metadata": {},
   "source": [
    "### class variables"
   ]
  },
  {
   "cell_type": "code",
   "execution_count": 4,
   "id": "453280c6",
   "metadata": {},
   "outputs": [],
   "source": [
    "class Grade:\n",
    "    minimum_passing = 65"
   ]
  },
  {
   "cell_type": "markdown",
   "id": "ae079680",
   "metadata": {},
   "source": [
    "### class methods"
   ]
  },
  {
   "cell_type": "code",
   "execution_count": 5,
   "id": "08b9399a",
   "metadata": {},
   "outputs": [],
   "source": [
    "class Rules:\n",
    "    def washing_brushes(self):\n",
    "        return \"Point bristles towards the basin while washing your brushes.\""
   ]
  },
  {
   "cell_type": "markdown",
   "id": "9d4171ad",
   "metadata": {},
   "source": [
    "### class methods with arguments\n",
    "It’s March 14th (known in some places as Pi day) at Jan van High, and you’re feeling awfully festive. You decide to create a program that calculates the area of a circle."
   ]
  },
  {
   "cell_type": "code",
   "execution_count": 6,
   "id": "a5e206fc",
   "metadata": {},
   "outputs": [],
   "source": [
    "class Circle:\n",
    "    pi = 3.14\n",
    "  \n",
    "    def area(self, radius):\n",
    "        return Circle.pi * radius ** 2"
   ]
  },
  {
   "cell_type": "code",
   "execution_count": 7,
   "id": "d3f6dfb7",
   "metadata": {},
   "outputs": [
    {
     "name": "stdout",
     "output_type": "stream",
     "text": [
      "113.04\n",
      "1017.36\n",
      "103095306.0\n"
     ]
    }
   ],
   "source": [
    "# create instance of circle\n",
    "circle = Circle()\n",
    "\n",
    "pizza_area = circle.area(12/2)\n",
    "print(pizza_area)\n",
    "\n",
    "teaching_table_area = circle.area(36/2)\n",
    "print(teaching_table_area)\n",
    "\n",
    "round_room_area = circle.area(11460/2)\n",
    "print(round_room_area)"
   ]
  },
  {
   "cell_type": "markdown",
   "id": "4f8ba2ad",
   "metadata": {},
   "source": [
    "## Coonstructors"
   ]
  },
  {
   "cell_type": "code",
   "execution_count": 8,
   "id": "2d3c253e",
   "metadata": {},
   "outputs": [],
   "source": [
    "# There are several methods that we can define in a Python class that have special behavior. These methods are sometimes called “magic,” because they behave differently from regular methods. \n",
    "# Another popular term is dunder methods, so-named because they have two underscores (double-underscore abbreviated to “dunder”) on either side of them.\n",
    "# Methods that are used to prepare an object being instantiated are called constructors."
   ]
  },
  {
   "cell_type": "markdown",
   "id": "2809891d",
   "metadata": {},
   "source": [
    "### __init__"
   ]
  },
  {
   "cell_type": "code",
   "execution_count": 9,
   "id": "e7666647",
   "metadata": {},
   "outputs": [
    {
     "name": "stdout",
     "output_type": "stream",
     "text": [
      "HELLO?!\n",
      "HELLO?!\n"
     ]
    }
   ],
   "source": [
    "# __init__  This method is used to initialize a newly created object. It is called every time the class is instantiated.\n",
    "class Shouter:\n",
    "    def __init__(self):\n",
    "        print(\"HELLO?!\")\n",
    "\n",
    "shout1 = Shouter()\n",
    "\n",
    "shout2 = Shouter()\n",
    "\n",
    "# Above, we created a class called Shouter and every time we create an instance of Shouter the program prints out a shout."
   ]
  },
  {
   "cell_type": "markdown",
   "id": "417c9f5b",
   "metadata": {},
   "source": [
    "### adding the parameters"
   ]
  },
  {
   "cell_type": "code",
   "execution_count": 10,
   "id": "c28652ba",
   "metadata": {},
   "outputs": [
    {
     "name": "stdout",
     "output_type": "stream",
     "text": [
      "New circle with diameter: 36\n"
     ]
    }
   ],
   "source": [
    "class Circle:\n",
    "    pi = 3.14\n",
    "  \n",
    "    # Add constructor here:\n",
    "    def __init__(self, diameter):\n",
    "        print(f\"New circle with diameter: {diameter}\")\n",
    "\n",
    "\n",
    "teaching_table = Circle(36)"
   ]
  },
  {
   "cell_type": "markdown",
   "id": "3ed1cb2f",
   "metadata": {},
   "source": [
    "### instance variable"
   ]
  },
  {
   "cell_type": "code",
   "execution_count": 11,
   "id": "3d1393bb",
   "metadata": {},
   "outputs": [],
   "source": [
    "# The data held by an object is referred to as an instance variable. Instance variables aren’t shared by all instances of a class — they are variables that are specific to the object they are attached to.\n",
    "\n",
    "class Store:\n",
    "    pass\n",
    "\n",
    "alternative_rocks = Store()\n",
    "isabelles_ices = Store()\n",
    "\n",
    "alternative_rocks.store_name = \"Alternative Rocks\"\n",
    "isabelles_ices.store_name = \"Isabelle's Ices\""
   ]
  },
  {
   "cell_type": "markdown",
   "id": "28f9200b",
   "metadata": {},
   "source": [
    "### attribute functions"
   ]
  },
  {
   "cell_type": "code",
   "execution_count": 12,
   "id": "f5740609",
   "metadata": {},
   "outputs": [
    {
     "name": "stdout",
     "output_type": "stream",
     "text": [
      "<class 'dict'> does not have the count attribute :(\n",
      "<class 'str'> has the count attribute!\n",
      "<class 'int'> does not have the count attribute :(\n",
      "<class 'list'> has the count attribute!\n"
     ]
    }
   ],
   "source": [
    "# instance variables and class variables are both accessed similarly in Python.\n",
    "# they are both considered attributes of an object. \n",
    "# If we attempt to access an attribute that is neither a class variable nor an instance variable of the object Python will throw an AttributeError.\n",
    "\n",
    "# if we are not sure if an object has an attribute or not we can use hasattr() and if it returns True object has a given attribute and False otherwise.\n",
    "# If we want to get the actual value of the attribute, getattr() is a Python function that will return the value of a given object and attribute.\n",
    "# we can also supply a third argument that will be the default if the object does not have the given attribute.\n",
    "    # hasattr(object, “attribute”)\n",
    "    # getattr(obkect, \"attribute\", default)\n",
    "    \n",
    "can_we_count_it = [{'s': False}, \"sassafrass\", 18, [\"a\", \"c\", \"s\", \"d\", \"s\"]]\n",
    "\n",
    "for element in can_we_count_it:\n",
    "    if hasattr(element, \"count\") == True:\n",
    "        print(str(type(element)) + \" has the count attribute!\")\n",
    "    else:\n",
    "        print(str(type(element)) + \" does not have the count attribute :(\")"
   ]
  },
  {
   "cell_type": "markdown",
   "id": "e00d21b8",
   "metadata": {},
   "source": [
    "### self"
   ]
  },
  {
   "cell_type": "code",
   "execution_count": 13,
   "id": "19a5f65c",
   "metadata": {},
   "outputs": [],
   "source": [
    "# we can use class instead of dictionary\n",
    "class Circle:\n",
    "    pi = 3.14\n",
    "    def __init__(self, diameter):\n",
    "        print(f\"Creating circle with diameter {diameter}\")\n",
    "        # we usually have the diameter so we need to calculate the radius for calculations\n",
    "        self.radius = diameter / 2\n",
    "    \n",
    "    # define a method to calculate the circumference\n",
    "    def circumference(self):\n",
    "        return 2 * self.pi * self.radius"
   ]
  },
  {
   "cell_type": "code",
   "execution_count": 14,
   "id": "76f32ced",
   "metadata": {},
   "outputs": [
    {
     "name": "stdout",
     "output_type": "stream",
     "text": [
      "Creating circle with diameter 12\n",
      "37.68\n",
      "Creating circle with diameter 36\n",
      "113.04\n",
      "Creating circle with diameter 11460\n",
      "35984.4\n"
     ]
    }
   ],
   "source": [
    "# medium pizza\n",
    "medium_pizza = Circle(12)\n",
    "print(Circle.circumference(medium_pizza))\n",
    "# teaching_table\n",
    "teaching_table = Circle(36)\n",
    "print(Circle.circumference(teaching_table))\n",
    "# Round room auditorum\n",
    "round_room = Circle(11460)\n",
    "print(Circle.circumference(round_room))"
   ]
  },
  {
   "cell_type": "markdown",
   "id": "49ddc3b8",
   "metadata": {},
   "source": [
    "### objects"
   ]
  },
  {
   "cell_type": "code",
   "execution_count": 15,
   "id": "e2e09bea",
   "metadata": {},
   "outputs": [
    {
     "name": "stdout",
     "output_type": "stream",
     "text": [
      "['__abs__', '__add__', '__and__', '__bool__', '__ceil__', '__class__', '__delattr__', '__dir__', '__divmod__', '__doc__', '__eq__', '__float__', '__floor__', '__floordiv__', '__format__', '__ge__', '__getattribute__', '__getnewargs__', '__getstate__', '__gt__', '__hash__', '__index__', '__init__', '__init_subclass__', '__int__', '__invert__', '__le__', '__lshift__', '__lt__', '__mod__', '__mul__', '__ne__', '__neg__', '__new__', '__or__', '__pos__', '__pow__', '__radd__', '__rand__', '__rdivmod__', '__reduce__', '__reduce_ex__', '__repr__', '__rfloordiv__', '__rlshift__', '__rmod__', '__rmul__', '__ror__', '__round__', '__rpow__', '__rrshift__', '__rshift__', '__rsub__', '__rtruediv__', '__rxor__', '__setattr__', '__sizeof__', '__str__', '__sub__', '__subclasshook__', '__truediv__', '__trunc__', '__xor__', 'as_integer_ratio', 'bit_count', 'bit_length', 'conjugate', 'denominator', 'from_bytes', 'imag', 'numerator', 'real', 'to_bytes']\n",
      "['__annotations__', '__builtins__', '__call__', '__class__', '__closure__', '__code__', '__defaults__', '__delattr__', '__dict__', '__dir__', '__doc__', '__eq__', '__format__', '__ge__', '__get__', '__getattribute__', '__getstate__', '__globals__', '__gt__', '__hash__', '__init__', '__init_subclass__', '__kwdefaults__', '__le__', '__lt__', '__module__', '__name__', '__ne__', '__new__', '__qualname__', '__reduce__', '__reduce_ex__', '__repr__', '__setattr__', '__sizeof__', '__str__', '__subclasshook__']\n"
     ]
    }
   ],
   "source": [
    "print(dir(5))\n",
    "\n",
    "def this_function_is_an_object(name):\n",
    "    print(f\"Helle my name is {name}\")\n",
    "\n",
    "print(dir(this_function_is_an_object))"
   ]
  },
  {
   "cell_type": "markdown",
   "id": "e7fb0c69",
   "metadata": {},
   "source": [
    "### string representation\n",
    "ini is default string representation gives us some information, like where the class is defined and our computer’s memory address where this object is stored, but is usually not useful information to have when we are trying to debug our code. to represent the string we use __repr__()"
   ]
  },
  {
   "cell_type": "code",
   "execution_count": 16,
   "id": "7cbf42be",
   "metadata": {},
   "outputs": [
    {
     "name": "stdout",
     "output_type": "stream",
     "text": [
      "Circle with radius 6.0\n",
      "Circle with radius 18.0\n",
      "Circle with radius 5730.0\n"
     ]
    }
   ],
   "source": [
    "class Circle:\n",
    "    pi = 3.14\n",
    "  \n",
    "    def __init__(self, diameter):\n",
    "        self.radius = diameter / 2\n",
    "  \n",
    "    def area(self):\n",
    "        return self.pi * self.radius ** 2\n",
    "  \n",
    "    def circumference(self):\n",
    "        return self.pi * 2 * self.radius\n",
    "\n",
    "    def __repr__(self):\n",
    "        return f\"Circle with radius {self.radius}\"\n",
    "\n",
    "  \n",
    "medium_pizza = Circle(12)\n",
    "print(medium_pizza)\n",
    "\n",
    "teaching_table = Circle(36)\n",
    "print(teaching_table)\n",
    "\n",
    "round_room = Circle(11460)\n",
    "print(round_room)"
   ]
  },
  {
   "cell_type": "markdown",
   "id": "2a3467b5",
   "metadata": {},
   "source": [
    "## Review and Practice"
   ]
  },
  {
   "cell_type": "code",
   "execution_count": 17,
   "id": "6eeec131",
   "metadata": {},
   "outputs": [],
   "source": [
    "# create a class called student and create cunstructor with 2 parameters and add as attribute\n",
    "\n",
    "# first version\n",
    "# class Student():\n",
    "#     def __init__(self, name, year):\n",
    "#         self.name = name\n",
    "#         self.year = year\n",
    "        \n",
    "# adjusted version\n",
    "class Student():\n",
    "    def __init__(self, name, year):\n",
    "        self.name = name\n",
    "        self.year = year\n",
    "        self.score = []\n",
    "        \n",
    "    def add_grade(self, grade):\n",
    "        if type(grade) is Grade:\n",
    "            self.grade.append(grade)\n",
    "    "
   ]
  },
  {
   "cell_type": "code",
   "execution_count": 18,
   "id": "666d4fec",
   "metadata": {},
   "outputs": [],
   "source": [
    "# Create three instances of the Student class:\n",
    "\n",
    "    # Roger van der Weyden, year 10\n",
    "    # Sandro Botticelli, year 12\n",
    "    # Pieter Bruegel the Elder, year 8\n",
    "\n",
    "roger = Student(\"Roger van der Weyden\", 10)\n",
    "\n",
    "sandro = Student(\"Sandro Botticelli\", 12)\n",
    "\n",
    "pieter = Student(\"Pieter Bruegel the Elder\", 8)"
   ]
  },
  {
   "cell_type": "code",
   "execution_count": 19,
   "id": "b8ad69c6",
   "metadata": {},
   "outputs": [],
   "source": [
    "# define a new class for scores and set the min score to 65\n",
    "\n",
    "class Grade():\n",
    "    minimum_passing = 65\n",
    "    def __init__(self, score):\n",
    "        self.score = score"
   ]
  },
  {
   "cell_type": "code",
   "execution_count": 20,
   "id": "15a8c6b8",
   "metadata": {},
   "outputs": [],
   "source": [
    "# update the class Student to have new attribute score and set it to empty list\n",
    "# Add an .add_grade() method to Student that takes a parameter, grade.\n",
    "    # .add_grade() should verify that grade is of type Grade and if so, add it to the Student‘s .grades.\n",
    "    # If grade isn’t an instance of Grade then .add_grade() should do nothing.\n",
    "\n",
    "# class Student():\n",
    "#     def __init__(self, name, year):\n",
    "#         self.name = name\n",
    "#         self.year = year\n",
    "#         self.score = []\n",
    "        \n",
    "#     def add_grade(self, grade):\n",
    "#         if type(grade) is Grade:\n",
    "#             self.grades.append(grade)"
   ]
  },
  {
   "cell_type": "code",
   "execution_count": 21,
   "id": "8c9a5291",
   "metadata": {},
   "outputs": [
    {
     "ename": "AttributeError",
     "evalue": "'Student' object has no attribute 'grade'",
     "output_type": "error",
     "traceback": [
      "\u001b[0;31m---------------------------------------------------------------------------\u001b[0m",
      "\u001b[0;31mAttributeError\u001b[0m                            Traceback (most recent call last)",
      "Cell \u001b[0;32mIn[21], line 3\u001b[0m\n\u001b[1;32m      1\u001b[0m \u001b[38;5;66;03m# Create a new Grade with a score of 100 and add it to pieter‘s .grades attribute using .add_grade().\u001b[39;00m\n\u001b[1;32m      2\u001b[0m new_score \u001b[38;5;241m=\u001b[39m Grade(\u001b[38;5;241m100\u001b[39m)\n\u001b[0;32m----> 3\u001b[0m pieter\u001b[38;5;241m.\u001b[39madd_grade(new_score)\n",
      "Cell \u001b[0;32mIn[17], line 18\u001b[0m, in \u001b[0;36mStudent.add_grade\u001b[0;34m(self, grade)\u001b[0m\n\u001b[1;32m     16\u001b[0m \u001b[38;5;28;01mdef\u001b[39;00m \u001b[38;5;21madd_grade\u001b[39m(\u001b[38;5;28mself\u001b[39m, grade):\n\u001b[1;32m     17\u001b[0m     \u001b[38;5;28;01mif\u001b[39;00m \u001b[38;5;28mtype\u001b[39m(grade) \u001b[38;5;129;01mis\u001b[39;00m Grade:\n\u001b[0;32m---> 18\u001b[0m         \u001b[38;5;28mself\u001b[39m\u001b[38;5;241m.\u001b[39mgrade\u001b[38;5;241m.\u001b[39mappend(grade)\n",
      "\u001b[0;31mAttributeError\u001b[0m: 'Student' object has no attribute 'grade'"
     ]
    }
   ],
   "source": [
    "# Create a new Grade with a score of 100 and add it to pieter‘s .grades attribute using .add_grade().\n",
    "new_score = Grade(100)\n",
    "pieter.add_grade(new_score)"
   ]
  },
  {
   "cell_type": "code",
   "execution_count": null,
   "id": "e922dfc5",
   "metadata": {},
   "outputs": [],
   "source": []
  },
  {
   "cell_type": "code",
   "execution_count": null,
   "id": "af54497e",
   "metadata": {},
   "outputs": [],
   "source": []
  },
  {
   "cell_type": "code",
   "execution_count": null,
   "id": "5de50ba4",
   "metadata": {},
   "outputs": [],
   "source": []
  }
 ],
 "metadata": {
  "kernelspec": {
   "display_name": "Python 3 (ipykernel)",
   "language": "python",
   "name": "python3"
  },
  "language_info": {
   "codemirror_mode": {
    "name": "ipython",
    "version": 3
   },
   "file_extension": ".py",
   "mimetype": "text/x-python",
   "name": "python",
   "nbconvert_exporter": "python",
   "pygments_lexer": "ipython3",
   "version": "3.11.5"
  }
 },
 "nbformat": 4,
 "nbformat_minor": 5
}
