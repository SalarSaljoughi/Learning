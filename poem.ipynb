{
 "cells": [
  {
   "cell_type": "markdown",
   "id": "236480b2",
   "metadata": {},
   "source": [
    "### Poem\n",
    "imagine we have a list with bunch of extra white spaces and extra lines. we need to clean our list and print the poem"
   ]
  },
  {
   "cell_type": "code",
   "execution_count": 2,
   "id": "02b5f39c",
   "metadata": {},
   "outputs": [
    {
     "name": "stdout",
     "output_type": "stream",
     "text": [
      "['Always    ', '     in the middle of our bloodiest battles  ', 'you lay down your arms', '           like flowering mines    ', '\\n', '   to conquer me home.    ']\n"
     ]
    }
   ],
   "source": [
    "love_maybe_lines = ['Always    ', '     in the middle of our bloodiest battles  ', 'you lay down your arms', '           like flowering mines    ','\\n' ,'   to conquer me home.    ']\n",
    "print(love_maybe_lines)"
   ]
  },
  {
   "cell_type": "code",
   "execution_count": 3,
   "id": "5fc9aa2d",
   "metadata": {},
   "outputs": [
    {
     "name": "stdout",
     "output_type": "stream",
     "text": [
      "['Always', 'in the middle of our bloodiest battles', 'you lay down your arms', 'like flowering mines', '', 'to conquer me home.']\n"
     ]
    }
   ],
   "source": [
    "# clean the extra whitespaces\n",
    "\n",
    "love_maybe_lines_stripped = []\n",
    "\n",
    "for line in love_maybe_lines:\n",
    "  love_maybe_lines_stripped.append(line.strip())\n",
    "print(love_maybe_lines_stripped)"
   ]
  },
  {
   "cell_type": "code",
   "execution_count": 4,
   "id": "dd5bbe36",
   "metadata": {},
   "outputs": [
    {
     "name": "stdout",
     "output_type": "stream",
     "text": [
      "Always\n",
      "in the middle of our bloodiest battles\n",
      "you lay down your arms\n",
      "like flowering mines\n",
      "\n",
      "to conquer me home.\n"
     ]
    }
   ],
   "source": [
    "# joing the strings to shows each item as a new line\n",
    "\n",
    "love_maybe_full = \"\\n\".join(love_maybe_lines_stripped)\n",
    "print(love_maybe_full)"
   ]
  },
  {
   "cell_type": "code",
   "execution_count": null,
   "id": "23123cf1",
   "metadata": {},
   "outputs": [],
   "source": []
  }
 ],
 "metadata": {
  "kernelspec": {
   "display_name": "Python 3 (ipykernel)",
   "language": "python",
   "name": "python3"
  },
  "language_info": {
   "codemirror_mode": {
    "name": "ipython",
    "version": 3
   },
   "file_extension": ".py",
   "mimetype": "text/x-python",
   "name": "python",
   "nbconvert_exporter": "python",
   "pygments_lexer": "ipython3",
   "version": "3.11.5"
  }
 },
 "nbformat": 4,
 "nbformat_minor": 5
}
