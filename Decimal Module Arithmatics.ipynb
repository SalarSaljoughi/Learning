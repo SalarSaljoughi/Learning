{
 "cells": [
  {
   "cell_type": "markdown",
   "id": "9d85f0a7",
   "metadata": {},
   "source": [
    "# Decimal number calculations\n",
    "arithmatic calculations using decimal module"
   ]
  },
  {
   "cell_type": "code",
   "execution_count": 2,
   "id": "817839ab",
   "metadata": {},
   "outputs": [],
   "source": [
    "# Import Decimal below:\n",
    "from decimal import Decimal"
   ]
  },
  {
   "cell_type": "code",
   "execution_count": 4,
   "id": "e504487e",
   "metadata": {},
   "outputs": [
    {
     "name": "stdout",
     "output_type": "stream",
     "text": [
      "0.8899999999999999\n"
     ]
    }
   ],
   "source": [
    "# arithmatic calculations using python's builtin function\n",
    "two_decimal_points = 0.2 + 0.69\n",
    "print(two_decimal_points)"
   ]
  },
  {
   "cell_type": "code",
   "execution_count": 5,
   "id": "a30a9250",
   "metadata": {},
   "outputs": [
    {
     "name": "stdout",
     "output_type": "stream",
     "text": [
      "0.34450000000000003\n"
     ]
    }
   ],
   "source": [
    "four_decimal_points = 0.53 * 0.65\n",
    "print(four_decimal_points)"
   ]
  },
  {
   "cell_type": "code",
   "execution_count": 6,
   "id": "22e0d576",
   "metadata": {},
   "outputs": [
    {
     "name": "stdout",
     "output_type": "stream",
     "text": [
      "0.79\n"
     ]
    }
   ],
   "source": [
    "# arithmatic operation using decimal module\n",
    "two_decimal_points_a = Decimal('0.10') + Decimal('0.69')\n",
    "print(two_decimal_points_a)"
   ]
  },
  {
   "cell_type": "code",
   "execution_count": 7,
   "id": "8c6ccd3d",
   "metadata": {},
   "outputs": [
    {
     "name": "stdout",
     "output_type": "stream",
     "text": [
      "0.3445\n"
     ]
    }
   ],
   "source": [
    "four_decimal_points_a = Decimal('0.53') * Decimal('0.65')\n",
    "print(four_decimal_points_a)"
   ]
  },
  {
   "cell_type": "code",
   "execution_count": null,
   "id": "336b3a62",
   "metadata": {},
   "outputs": [],
   "source": []
  }
 ],
 "metadata": {
  "kernelspec": {
   "display_name": "Python 3 (ipykernel)",
   "language": "python",
   "name": "python3"
  },
  "language_info": {
   "codemirror_mode": {
    "name": "ipython",
    "version": 3
   },
   "file_extension": ".py",
   "mimetype": "text/x-python",
   "name": "python",
   "nbconvert_exporter": "python",
   "pygments_lexer": "ipython3",
   "version": "3.11.5"
  }
 },
 "nbformat": 4,
 "nbformat_minor": 5
}
