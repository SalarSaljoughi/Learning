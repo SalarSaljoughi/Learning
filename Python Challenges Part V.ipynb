{
 "cells": [
  {
   "cell_type": "markdown",
   "id": "67ed5723",
   "metadata": {},
   "source": [
    "# Python Challenges - Strings"
   ]
  },
  {
   "cell_type": "markdown",
   "id": "6b2ea1ec",
   "metadata": {},
   "source": [
    "### Count Letters\n",
    "we are going to count the number of unique letters in a string. This means that when we are looking at the word, any new letters should be counted and any duplicates should not be counted"
   ]
  },
  {
   "cell_type": "code",
   "execution_count": 1,
   "id": "a1a9878e",
   "metadata": {},
   "outputs": [],
   "source": [
    "letters = \"ABCDEFGHIJKLMNOPQRSTUVWXYZabcdefghijklmnopqrstuvwxyz\"\n",
    "\n",
    "def unique_english_letters(word):\n",
    "    counter = 0\n",
    "    \n",
    "    for letter in letters:\n",
    "        if letter in word:\n",
    "            counter += 1\n",
    "    return counter"
   ]
  },
  {
   "cell_type": "code",
   "execution_count": 2,
   "id": "58ccd481",
   "metadata": {},
   "outputs": [
    {
     "name": "stdout",
     "output_type": "stream",
     "text": [
      "4\n"
     ]
    }
   ],
   "source": [
    "print(unique_english_letters(\"mississippi\"))"
   ]
  },
  {
   "cell_type": "code",
   "execution_count": 3,
   "id": "cf657eb2",
   "metadata": {},
   "outputs": [
    {
     "name": "stdout",
     "output_type": "stream",
     "text": [
      "4\n"
     ]
    }
   ],
   "source": [
    "print(unique_english_letters(\"Apple\"))"
   ]
  },
  {
   "cell_type": "markdown",
   "id": "44b8dad1",
   "metadata": {},
   "source": [
    "### Count X\n",
    "This time we are going to count the number of occurrences of a certain letter within a string. "
   ]
  },
  {
   "cell_type": "code",
   "execution_count": 4,
   "id": "1beb8e85",
   "metadata": {},
   "outputs": [],
   "source": [
    "def count_char_x(word, x):\n",
    "    counter = 0\n",
    "    for letter in word:\n",
    "        if letter == x:\n",
    "            counter += 1\n",
    "    return counter"
   ]
  },
  {
   "cell_type": "code",
   "execution_count": 5,
   "id": "47079144",
   "metadata": {},
   "outputs": [
    {
     "name": "stdout",
     "output_type": "stream",
     "text": [
      "4\n"
     ]
    }
   ],
   "source": [
    "print(count_char_x(\"mississippi\", \"s\"))"
   ]
  },
  {
   "cell_type": "code",
   "execution_count": 6,
   "id": "3536f076",
   "metadata": {},
   "outputs": [
    {
     "name": "stdout",
     "output_type": "stream",
     "text": [
      "1\n"
     ]
    }
   ],
   "source": [
    "print(count_char_x(\"mississippi\", \"m\"))"
   ]
  },
  {
   "cell_type": "markdown",
   "id": "a2c57a48",
   "metadata": {},
   "source": [
    "### Count Multi x\n",
    "let’s change our function to compare against an entire string instead of a single character. This function should accept a string and a substring to compare against. The number of occurrences of the second parameter within the first parameter string are returned. "
   ]
  },
  {
   "cell_type": "code",
   "execution_count": 7,
   "id": "f6ff4e84",
   "metadata": {},
   "outputs": [],
   "source": [
    "def count_multi_char_x(word, x):\n",
    "    counter = 0\n",
    "    splits = word.split(x)\n",
    "    return(len(splits)-1)"
   ]
  },
  {
   "cell_type": "code",
   "execution_count": 8,
   "id": "64beeeed",
   "metadata": {},
   "outputs": [
    {
     "name": "stdout",
     "output_type": "stream",
     "text": [
      "2\n"
     ]
    }
   ],
   "source": [
    "print(count_multi_char_x(\"mississippi\", \"iss\"))"
   ]
  },
  {
   "cell_type": "code",
   "execution_count": 9,
   "id": "1cec2e95",
   "metadata": {},
   "outputs": [
    {
     "name": "stdout",
     "output_type": "stream",
     "text": [
      "1\n"
     ]
    }
   ],
   "source": [
    "print(count_multi_char_x(\"apple\", \"pp\"))"
   ]
  },
  {
   "cell_type": "markdown",
   "id": "d3d9e96f",
   "metadata": {},
   "source": [
    "### substring between\n",
    "We need a function that is able to extract a portion of a string between two characters. The function will take three parameters where the first parameter is the string we are going to extract the substring from, the second input is the starting character of our substring and the third character is the ending character of our substring."
   ]
  },
  {
   "cell_type": "code",
   "execution_count": 10,
   "id": "518349fd",
   "metadata": {},
   "outputs": [],
   "source": [
    "def substring_between_letters(word, start, end):\n",
    "    starting = word.find(start)\n",
    "    ending = word.find(end)\n",
    "    if starting == -1 or ending == -1:\n",
    "        return word\n",
    "    else:\n",
    "        return word[starting+1 : ending]\n",
    "    "
   ]
  },
  {
   "cell_type": "code",
   "execution_count": 11,
   "id": "e175034f",
   "metadata": {},
   "outputs": [
    {
     "name": "stdout",
     "output_type": "stream",
     "text": [
      "pl\n"
     ]
    }
   ],
   "source": [
    "print(substring_between_letters(\"apple\", \"p\", \"e\"))"
   ]
  },
  {
   "cell_type": "code",
   "execution_count": 12,
   "id": "0c91d996",
   "metadata": {},
   "outputs": [
    {
     "name": "stdout",
     "output_type": "stream",
     "text": [
      "apple\n"
     ]
    }
   ],
   "source": [
    "print(substring_between_letters(\"apple\", \"p\", \"c\"))"
   ]
  },
  {
   "cell_type": "markdown",
   "id": "b61bbd92",
   "metadata": {},
   "source": [
    "### x length\n",
    "We need a new function that is able to accept two inputs: one for a sentence and another for a number. The function returns True if every single word in the sentence has a length greater than or equal to the number provided"
   ]
  },
  {
   "cell_type": "code",
   "execution_count": 28,
   "id": "5c2b938a",
   "metadata": {},
   "outputs": [],
   "source": [
    "def x_length_words(sentence, x):\n",
    "    words = sentence.split(\" \")\n",
    "    for word in words:\n",
    "        if len(word) < x:\n",
    "            return False\n",
    "    return True"
   ]
  },
  {
   "cell_type": "code",
   "execution_count": 29,
   "id": "cc89974d",
   "metadata": {},
   "outputs": [
    {
     "name": "stdout",
     "output_type": "stream",
     "text": [
      "False\n"
     ]
    }
   ],
   "source": [
    "print(x_length_words(\"i like apples\", 2))"
   ]
  },
  {
   "cell_type": "code",
   "execution_count": 30,
   "id": "b0a665fa",
   "metadata": {},
   "outputs": [
    {
     "name": "stdout",
     "output_type": "stream",
     "text": [
      "True\n"
     ]
    }
   ],
   "source": [
    "print(x_length_words(\"he likes apples\", 2))"
   ]
  },
  {
   "cell_type": "code",
   "execution_count": null,
   "id": "4a3e0359",
   "metadata": {},
   "outputs": [],
   "source": []
  }
 ],
 "metadata": {
  "kernelspec": {
   "display_name": "Python 3 (ipykernel)",
   "language": "python",
   "name": "python3"
  },
  "language_info": {
   "codemirror_mode": {
    "name": "ipython",
    "version": 3
   },
   "file_extension": ".py",
   "mimetype": "text/x-python",
   "name": "python",
   "nbconvert_exporter": "python",
   "pygments_lexer": "ipython3",
   "version": "3.11.5"
  }
 },
 "nbformat": 4,
 "nbformat_minor": 5
}
