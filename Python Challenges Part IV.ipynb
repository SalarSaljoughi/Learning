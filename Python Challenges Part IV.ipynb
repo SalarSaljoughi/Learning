{
 "cells": [
  {
   "cell_type": "markdown",
   "id": "70eb4987",
   "metadata": {},
   "source": [
    "# Python Challenges - Functions"
   ]
  },
  {
   "cell_type": "markdown",
   "id": "2df64720",
   "metadata": {},
   "source": [
    "### tenth power\n",
    "calculate the tenth power of input"
   ]
  },
  {
   "cell_type": "code",
   "execution_count": 1,
   "id": "aca153cf",
   "metadata": {},
   "outputs": [],
   "source": [
    "# Write your tenth_power function here:\n",
    "def tenth_power(num):\n",
    "  return num ** 10"
   ]
  },
  {
   "cell_type": "code",
   "execution_count": 2,
   "id": "656c865f",
   "metadata": {},
   "outputs": [
    {
     "name": "stdout",
     "output_type": "stream",
     "text": [
      "1\n",
      "0\n",
      "1024\n"
     ]
    }
   ],
   "source": [
    "# test function\n",
    "print(tenth_power(1))\n",
    "# 1 to the 10th power is 1\n",
    "print(tenth_power(0))\n",
    "# 0 to the 10th power is 0\n",
    "print(tenth_power(2))\n",
    "# 2 to the 10th power is 1024"
   ]
  },
  {
   "cell_type": "markdown",
   "id": "93990b0d",
   "metadata": {},
   "source": [
    "### square root\n",
    "calculate the square root of the input"
   ]
  },
  {
   "cell_type": "code",
   "execution_count": 3,
   "id": "cba24965",
   "metadata": {},
   "outputs": [],
   "source": [
    "# Write your square_root function here:\n",
    "def square_root(num):\n",
    "  return num ** 0.5"
   ]
  },
  {
   "cell_type": "code",
   "execution_count": 4,
   "id": "c3d893b7",
   "metadata": {},
   "outputs": [
    {
     "name": "stdout",
     "output_type": "stream",
     "text": [
      "4.0\n",
      "10.0\n"
     ]
    }
   ],
   "source": [
    "# test function\n",
    "print(square_root(16))\n",
    "# should print 4\n",
    "print(square_root(100))\n",
    "# should print 10"
   ]
  },
  {
   "cell_type": "markdown",
   "id": "0f175d9d",
   "metadata": {},
   "source": [
    "### win percentage\n",
    "calculate the percentage of games won"
   ]
  },
  {
   "cell_type": "code",
   "execution_count": 5,
   "id": "cd881fd9",
   "metadata": {},
   "outputs": [],
   "source": [
    "# Write your win_percentage function here:\n",
    "def win_percentage(wins, losses):\n",
    "  return (wins / (wins + losses)) * 100 "
   ]
  },
  {
   "cell_type": "code",
   "execution_count": 6,
   "id": "c6d68808",
   "metadata": {},
   "outputs": [
    {
     "name": "stdout",
     "output_type": "stream",
     "text": [
      "50.0\n",
      "100.0\n"
     ]
    }
   ],
   "source": [
    "# test function\n",
    "print(win_percentage(5, 5))\n",
    "# should print 50\n",
    "print(win_percentage(10, 0))\n",
    "# should print 100"
   ]
  },
  {
   "cell_type": "markdown",
   "id": "b97144fe",
   "metadata": {},
   "source": [
    "### average\n",
    "calculate the average of 2 functions"
   ]
  },
  {
   "cell_type": "code",
   "execution_count": 7,
   "id": "280c1f82",
   "metadata": {},
   "outputs": [],
   "source": [
    "# Write your average function here:\n",
    "def average(num1, num2):\n",
    "  return (num1 + num2) / 2"
   ]
  },
  {
   "cell_type": "code",
   "execution_count": 8,
   "id": "51ab397d",
   "metadata": {},
   "outputs": [
    {
     "name": "stdout",
     "output_type": "stream",
     "text": [
      "50.5\n",
      "0.0\n"
     ]
    }
   ],
   "source": [
    "# test function\n",
    "print(average(1, 100))\n",
    "# The average of 1 and 100 is 50.5\n",
    "print(average(1, -1))\n",
    "# The average of 1 and -1 is 0"
   ]
  },
  {
   "cell_type": "markdown",
   "id": "f66f5b20",
   "metadata": {},
   "source": [
    "### remainder\n",
    "calculate the remainder of twice the first number divided by half of second number"
   ]
  },
  {
   "cell_type": "code",
   "execution_count": 9,
   "id": "00650d44",
   "metadata": {},
   "outputs": [],
   "source": [
    "# Write your remainder function here:\n",
    "def remainder(num1, num2):\n",
    "  return (2 * num1) % (num2 / 2)"
   ]
  },
  {
   "cell_type": "code",
   "execution_count": 10,
   "id": "cddcfcf9",
   "metadata": {},
   "outputs": [
    {
     "name": "stdout",
     "output_type": "stream",
     "text": [
      "2.0\n",
      "0.0\n"
     ]
    }
   ],
   "source": [
    "# test functions\n",
    "print(remainder(15, 14))\n",
    "# should print 2\n",
    "print(remainder(9, 6))\n",
    "# should print 0"
   ]
  },
  {
   "cell_type": "markdown",
   "id": "b34b844d",
   "metadata": {},
   "source": [
    "### first three multiples"
   ]
  },
  {
   "cell_type": "code",
   "execution_count": 11,
   "id": "fd456ef0",
   "metadata": {},
   "outputs": [],
   "source": [
    "# Write your first_three_multiples function here\n",
    "def first_three_multiples(num):\n",
    "  print(1 * num)\n",
    "  print(2 * num)\n",
    "  print(3 * num)\n",
    "  return 3 * num"
   ]
  },
  {
   "cell_type": "code",
   "execution_count": 12,
   "id": "8fe5a281",
   "metadata": {},
   "outputs": [
    {
     "name": "stdout",
     "output_type": "stream",
     "text": [
      "10\n",
      "20\n",
      "30\n",
      "0\n",
      "0\n",
      "0\n"
     ]
    },
    {
     "data": {
      "text/plain": [
       "0"
      ]
     },
     "execution_count": 12,
     "metadata": {},
     "output_type": "execute_result"
    }
   ],
   "source": [
    "# test fucntion\n",
    "first_three_multiples(10)\n",
    "# should print 10, 20, 30, and return 30\n",
    "first_three_multiples(0)\n",
    "# should print 0, 0, 0, and return 0"
   ]
  },
  {
   "cell_type": "markdown",
   "id": "4d0014a0",
   "metadata": {},
   "source": [
    "### tip"
   ]
  },
  {
   "cell_type": "code",
   "execution_count": 13,
   "id": "f3f0c284",
   "metadata": {},
   "outputs": [],
   "source": [
    "# Write your tip function here:\n",
    "def tip(total, percentage):\n",
    "  return (total * percentage) / 100"
   ]
  },
  {
   "cell_type": "code",
   "execution_count": 14,
   "id": "d4c38395",
   "metadata": {},
   "outputs": [
    {
     "name": "stdout",
     "output_type": "stream",
     "text": [
      "2.5\n",
      "0.0\n"
     ]
    }
   ],
   "source": [
    "# test\n",
    "print(tip(10, 25))\n",
    "# should print 2.5\n",
    "print(tip(0, 100))\n",
    "# should print 0.0"
   ]
  },
  {
   "cell_type": "markdown",
   "id": "65485f84",
   "metadata": {},
   "source": [
    "### Bond, James Bond\n",
    "recreating famous movie with our own text"
   ]
  },
  {
   "cell_type": "code",
   "execution_count": 15,
   "id": "78fd594c",
   "metadata": {},
   "outputs": [],
   "source": [
    "# Write your introduction function here:\n",
    "def introduction(first_name, last_name):\n",
    "  return last_name + \", \" + first_name + \" \" + last_name"
   ]
  },
  {
   "cell_type": "code",
   "execution_count": 16,
   "id": "8e010878",
   "metadata": {},
   "outputs": [
    {
     "name": "stdout",
     "output_type": "stream",
     "text": [
      "Bond, James Bond\n",
      "Angelou, Maya Angelou\n"
     ]
    }
   ],
   "source": [
    "# test function\n",
    "print(introduction(\"James\", \"Bond\"))\n",
    "# should print Bond, James Bond\n",
    "print(introduction(\"Maya\", \"Angelou\"))\n",
    "# should print Angelou, Maya Angelou"
   ]
  },
  {
   "cell_type": "markdown",
   "id": "42036707",
   "metadata": {},
   "source": [
    "### dog years"
   ]
  },
  {
   "cell_type": "code",
   "execution_count": 17,
   "id": "8925ab2d",
   "metadata": {},
   "outputs": [],
   "source": [
    "# Write your dog_years function here:\n",
    "def dog_years(name, age):\n",
    "  dog_years = age * 7\n",
    "  return name + \",\" + \" you are \" + str(dog_years) + \" years old in dog years\""
   ]
  },
  {
   "cell_type": "code",
   "execution_count": 18,
   "id": "aa5829e1",
   "metadata": {},
   "outputs": [
    {
     "name": "stdout",
     "output_type": "stream",
     "text": [
      "Lola, you are 112 years old in dog years\n",
      "Baby, you are 0 years old in dog years\n"
     ]
    }
   ],
   "source": [
    "# test functions\n",
    "print(dog_years(\"Lola\", 16))\n",
    "# should print \"Lola, you are 112 years old in dog years\"\n",
    "print(dog_years(\"Baby\", 0))\n",
    "# should print \"Baby, you are 0 years old in dog years\""
   ]
  },
  {
   "cell_type": "markdown",
   "id": "9232b3ce",
   "metadata": {},
   "source": [
    "### all operations"
   ]
  },
  {
   "cell_type": "code",
   "execution_count": 19,
   "id": "5deb4d3e",
   "metadata": {},
   "outputs": [],
   "source": [
    "# Write your lots_of_math function here:\n",
    "def lots_of_math(a, b, c, d):\n",
    "  first = a + b\n",
    "  second = c - d\n",
    "  third = first * second\n",
    "  fourth = third % a\n",
    "  print(first)\n",
    "  print(second)\n",
    "  print(third)\n",
    "  return fourth"
   ]
  },
  {
   "cell_type": "code",
   "execution_count": 20,
   "id": "f23dace5",
   "metadata": {},
   "outputs": [
    {
     "name": "stdout",
     "output_type": "stream",
     "text": [
      "3\n",
      "-1\n",
      "-3\n",
      "0\n",
      "2\n",
      "0\n",
      "0\n",
      "0\n"
     ]
    }
   ],
   "source": [
    "# test function\n",
    "print(lots_of_math(1, 2, 3, 4))\n",
    "# should print 3, -1, -3, 0\n",
    "print(lots_of_math(1, 1, 1, 1))\n",
    "# should print 2, 0, 0, 0"
   ]
  }
 ],
 "metadata": {
  "kernelspec": {
   "display_name": "Python 3 (ipykernel)",
   "language": "python",
   "name": "python3"
  },
  "language_info": {
   "codemirror_mode": {
    "name": "ipython",
    "version": 3
   },
   "file_extension": ".py",
   "mimetype": "text/x-python",
   "name": "python",
   "nbconvert_exporter": "python",
   "pygments_lexer": "ipython3",
   "version": "3.11.5"
  }
 },
 "nbformat": 4,
 "nbformat_minor": 5
}
