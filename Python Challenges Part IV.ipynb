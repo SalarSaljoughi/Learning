{
 "cells": [
  {
   "cell_type": "markdown",
   "id": "960c0686",
   "metadata": {},
   "source": [
    "# Python Challenges - Functions"
   ]
  },
  {
   "cell_type": "markdown",
   "id": "a8e00b55",
   "metadata": {},
   "source": [
    "### tenth power\n",
    "calculate the tenth power of input"
   ]
  },
  {
   "cell_type": "code",
   "execution_count": 1,
   "id": "6d4054bd",
   "metadata": {},
   "outputs": [],
   "source": [
    "# Write your tenth_power function here:\n",
    "def tenth_power(num):\n",
    "  return num ** 10"
   ]
  },
  {
   "cell_type": "code",
   "execution_count": 2,
   "id": "236de022",
   "metadata": {},
   "outputs": [
    {
     "name": "stdout",
     "output_type": "stream",
     "text": [
      "1\n",
      "0\n",
      "1024\n"
     ]
    }
   ],
   "source": [
    "# test function\n",
    "print(tenth_power(1))\n",
    "# 1 to the 10th power is 1\n",
    "print(tenth_power(0))\n",
    "# 0 to the 10th power is 0\n",
    "print(tenth_power(2))\n",
    "# 2 to the 10th power is 1024"
   ]
  },
  {
   "cell_type": "markdown",
   "id": "4a42e63c",
   "metadata": {},
   "source": [
    "### square root\n",
    "calculate the square root of the input"
   ]
  },
  {
   "cell_type": "code",
   "execution_count": 3,
   "id": "c619be17",
   "metadata": {},
   "outputs": [],
   "source": [
    "# Write your square_root function here:\n",
    "def square_root(num):\n",
    "  return num ** 0.5"
   ]
  },
  {
   "cell_type": "code",
   "execution_count": 4,
   "id": "2ca45f00",
   "metadata": {},
   "outputs": [
    {
     "name": "stdout",
     "output_type": "stream",
     "text": [
      "4.0\n",
      "10.0\n"
     ]
    }
   ],
   "source": [
    "# test function\n",
    "print(square_root(16))\n",
    "# should print 4\n",
    "print(square_root(100))\n",
    "# should print 10"
   ]
  },
  {
   "cell_type": "markdown",
   "id": "e9cb56df",
   "metadata": {},
   "source": [
    "### win percentage\n",
    "calculate the percentage of games won"
   ]
  },
  {
   "cell_type": "code",
   "execution_count": 5,
   "id": "6dbc2a43",
   "metadata": {},
   "outputs": [],
   "source": [
    "# Write your win_percentage function here:\n",
    "def win_percentage(wins, losses):\n",
    "  return (wins / (wins + losses)) * 100 "
   ]
  },
  {
   "cell_type": "code",
   "execution_count": 6,
   "id": "33c68dde",
   "metadata": {},
   "outputs": [
    {
     "name": "stdout",
     "output_type": "stream",
     "text": [
      "50.0\n",
      "100.0\n"
     ]
    }
   ],
   "source": [
    "# test function\n",
    "print(win_percentage(5, 5))\n",
    "# should print 50\n",
    "print(win_percentage(10, 0))\n",
    "# should print 100"
   ]
  },
  {
   "cell_type": "markdown",
   "id": "17de5ec9",
   "metadata": {},
   "source": [
    "### average\n",
    "calculate the average of 2 functions"
   ]
  },
  {
   "cell_type": "code",
   "execution_count": 7,
   "id": "7d8a45c3",
   "metadata": {},
   "outputs": [],
   "source": [
    "# Write your average function here:\n",
    "def average(num1, num2):\n",
    "  return (num1 + num2) / 2"
   ]
  },
  {
   "cell_type": "code",
   "execution_count": 8,
   "id": "cf6611be",
   "metadata": {},
   "outputs": [
    {
     "name": "stdout",
     "output_type": "stream",
     "text": [
      "50.5\n",
      "0.0\n"
     ]
    }
   ],
   "source": [
    "# test function\n",
    "print(average(1, 100))\n",
    "# The average of 1 and 100 is 50.5\n",
    "print(average(1, -1))\n",
    "# The average of 1 and -1 is 0"
   ]
  },
  {
   "cell_type": "markdown",
   "id": "48b62896",
   "metadata": {},
   "source": [
    "### remainder\n",
    "calculate the remainder of twice the first number divided by half of second number"
   ]
  },
  {
   "cell_type": "code",
   "execution_count": 9,
   "id": "3b0457ec",
   "metadata": {},
   "outputs": [],
   "source": [
    "# Write your remainder function here:\n",
    "def remainder(num1, num2):\n",
    "  return (2 * num1) % (num2 / 2)"
   ]
  },
  {
   "cell_type": "code",
   "execution_count": 10,
   "id": "77060115",
   "metadata": {},
   "outputs": [
    {
     "name": "stdout",
     "output_type": "stream",
     "text": [
      "2.0\n",
      "0.0\n"
     ]
    }
   ],
   "source": [
    "# test functions\n",
    "print(remainder(15, 14))\n",
    "# should print 2\n",
    "print(remainder(9, 6))\n",
    "# should print 0"
   ]
  },
  {
   "cell_type": "code",
   "execution_count": null,
   "id": "466058ca",
   "metadata": {},
   "outputs": [],
   "source": []
  }
 ],
 "metadata": {
  "kernelspec": {
   "display_name": "Python 3 (ipykernel)",
   "language": "python",
   "name": "python3"
  },
  "language_info": {
   "codemirror_mode": {
    "name": "ipython",
    "version": 3
   },
   "file_extension": ".py",
   "mimetype": "text/x-python",
   "name": "python",
   "nbconvert_exporter": "python",
   "pygments_lexer": "ipython3",
   "version": "3.11.5"
  }
 },
 "nbformat": 4,
 "nbformat_minor": 5
}
