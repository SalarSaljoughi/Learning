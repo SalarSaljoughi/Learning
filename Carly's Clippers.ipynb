{
 "cells": [
  {
   "cell_type": "markdown",
   "id": "2062c6e8",
   "metadata": {},
   "source": [
    "# Carly's Clippers"
   ]
  },
  {
   "cell_type": "code",
   "execution_count": 1,
   "id": "f8c5c112",
   "metadata": {},
   "outputs": [],
   "source": [
    "# we are data analyst at Carly's hair salon and we need to do some analysis\n",
    "hairstyles = [\"bouffant\", \"pixie\", \"dreadlocks\", \"crew\", \"bowl\", \"bob\", \"mohawk\", \"flattop\"]\n",
    "\n",
    "prices = [30, 25, 40, 20, 20, 35, 50, 35]\n",
    "\n",
    "last_week = [2, 3, 5, 8, 4, 4, 6, 2]"
   ]
  },
  {
   "cell_type": "code",
   "execution_count": 2,
   "id": "1ccc4b21",
   "metadata": {},
   "outputs": [
    {
     "name": "stdout",
     "output_type": "stream",
     "text": [
      "255\n",
      "31.875\n",
      "Average Haircut Price: 31.875\n"
     ]
    }
   ],
   "source": [
    "# calculating average haircut price\n",
    "total_price = 0\n",
    "for price in prices:\n",
    "  total_price += price\n",
    "print(total_price)\n",
    "\n",
    "average_price = total_price / len(prices)\n",
    "print(average_price)\n",
    "\n",
    "print(\"Average Haircut Price: \" + str(average_price))"
   ]
  },
  {
   "cell_type": "code",
   "execution_count": 4,
   "id": "7bcb1852",
   "metadata": {},
   "outputs": [
    {
     "name": "stdout",
     "output_type": "stream",
     "text": [
      "[25, 20, 35, 15, 15, 30, 45, 30]\n"
     ]
    }
   ],
   "source": [
    "# That average price is more expensive than Carly thought it would be! She wants to cut all prices by 5 dollars.\n",
    "# create new_prices list using list comprehension\n",
    "\n",
    "new_prices = [num - 5 for num in prices]\n",
    "print(new_prices)"
   ]
  },
  {
   "cell_type": "code",
   "execution_count": 8,
   "id": "42708fba",
   "metadata": {},
   "outputs": [
    {
     "name": "stdout",
     "output_type": "stream",
     "text": [
      "1085\n",
      "Total Revenue: 1085\n"
     ]
    }
   ],
   "source": [
    "# calculate hair salon revenue for last week\n",
    "total_revenue = 0\n",
    "for i in range(len(hairstyles)):\n",
    "  total_revenue += prices[i] * last_week[i]\n",
    "print(total_revenue)\n",
    "\n",
    "print(\"Total Revenue: \" + str(total_revenue))"
   ]
  },
  {
   "cell_type": "code",
   "execution_count": 9,
   "id": "eee309a2",
   "metadata": {},
   "outputs": [
    {
     "name": "stdout",
     "output_type": "stream",
     "text": [
      "155.0\n"
     ]
    }
   ],
   "source": [
    "# average daily revenue\n",
    "average_daily_revenue = total_revenue / 7\n",
    "print(average_daily_revenue)"
   ]
  },
  {
   "cell_type": "code",
   "execution_count": 14,
   "id": "9d03b692",
   "metadata": {},
   "outputs": [
    {
     "name": "stdout",
     "output_type": "stream",
     "text": [
      "['bouffant', 'pixie', 'crew', 'bowl']\n"
     ]
    }
   ],
   "source": [
    "# Carly thinks she can bring in more customers by advertising all of the haircuts she has that are under 30 dollars.\n",
    "\n",
    "cuts_under_30 = [hairstyles[i] for i in range(len(hairstyles)) if new_prices[i] < 30]\n",
    "print(cuts_under_30)"
   ]
  },
  {
   "cell_type": "code",
   "execution_count": null,
   "id": "9e25f7c3",
   "metadata": {},
   "outputs": [],
   "source": []
  }
 ],
 "metadata": {
  "kernelspec": {
   "display_name": "Python 3 (ipykernel)",
   "language": "python",
   "name": "python3"
  },
  "language_info": {
   "codemirror_mode": {
    "name": "ipython",
    "version": 3
   },
   "file_extension": ".py",
   "mimetype": "text/x-python",
   "name": "python",
   "nbconvert_exporter": "python",
   "pygments_lexer": "ipython3",
   "version": "3.11.5"
  }
 },
 "nbformat": 4,
 "nbformat_minor": 5
}
