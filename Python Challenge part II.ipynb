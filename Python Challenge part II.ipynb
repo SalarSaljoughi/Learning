{
 "cells": [
  {
   "cell_type": "markdown",
   "id": "1f5858e9",
   "metadata": {},
   "source": [
    "# Python Challenge - Functions and Lists"
   ]
  },
  {
   "cell_type": "markdown",
   "id": "77be6f7c",
   "metadata": {},
   "source": [
    "### append size\n",
    "calculate the size of the list and append it to the list. then return the new list"
   ]
  },
  {
   "cell_type": "code",
   "execution_count": 1,
   "id": "3926baf5",
   "metadata": {},
   "outputs": [],
   "source": [
    "#Write your function here\n",
    "def append_size(my_list):\n",
    "  my_list.append(len(my_list))\n",
    "  return my_list"
   ]
  },
  {
   "cell_type": "code",
   "execution_count": 2,
   "id": "5b164458",
   "metadata": {},
   "outputs": [
    {
     "name": "stdout",
     "output_type": "stream",
     "text": [
      "[23, 42, 108, 3]\n"
     ]
    }
   ],
   "source": [
    "# test function\n",
    "print(append_size([23, 42, 108]))"
   ]
  },
  {
   "cell_type": "markdown",
   "id": "a509c7ab",
   "metadata": {},
   "source": [
    "### append sum\n",
    "add last 2 elements of the list and add it to list and repeat the process 2 more times and return the list at the end"
   ]
  },
  {
   "cell_type": "code",
   "execution_count": 6,
   "id": "66f04306",
   "metadata": {},
   "outputs": [],
   "source": [
    "# Write your function here\n",
    "def append_sum(my_list):\n",
    "  for i in range(3):\n",
    "    my_list.append(my_list[-1] + my_list[-2])\n",
    "    i += 1\n",
    "  return my_list"
   ]
  },
  {
   "cell_type": "code",
   "execution_count": 7,
   "id": "86cb9062",
   "metadata": {},
   "outputs": [
    {
     "name": "stdout",
     "output_type": "stream",
     "text": [
      "[1, 1, 2, 3, 5, 8]\n"
     ]
    }
   ],
   "source": [
    "# test function\n",
    "print(append_sum([1, 1, 2]))"
   ]
  },
  {
   "cell_type": "markdown",
   "id": "4270e18f",
   "metadata": {},
   "source": [
    "### larger list\n",
    "return the last element of list that has more elements, if their are same length return last element of first list"
   ]
  },
  {
   "cell_type": "code",
   "execution_count": 10,
   "id": "ad0b49a0",
   "metadata": {},
   "outputs": [],
   "source": [
    "# Write your function here\n",
    "def larger_list(my_list1, my_list2):\n",
    "  if len(my_list1) >= len(my_list2):\n",
    "    return my_list1[-1]\n",
    "  else:\n",
    "    return(my_list2[-1])"
   ]
  },
  {
   "cell_type": "code",
   "execution_count": 11,
   "id": "cd939d28",
   "metadata": {},
   "outputs": [
    {
     "name": "stdout",
     "output_type": "stream",
     "text": [
      "5\n"
     ]
    }
   ],
   "source": [
    "# test function\n",
    "print(larger_list([4, 10, 2, 5], [-10, 2, 5, 10]))"
   ]
  },
  {
   "cell_type": "markdown",
   "id": "5d3ff5c5",
   "metadata": {},
   "source": [
    "### more than n\n",
    "check if item apears more than n times in the list then return True otherwise return False"
   ]
  },
  {
   "cell_type": "code",
   "execution_count": 12,
   "id": "95c32e34",
   "metadata": {},
   "outputs": [],
   "source": [
    "# Write your function here\n",
    "def more_than_n(my_list, item, n):\n",
    "  if my_list.count(item) > n:\n",
    "    return True\n",
    "  else:\n",
    "    return False"
   ]
  },
  {
   "cell_type": "code",
   "execution_count": 13,
   "id": "58785a49",
   "metadata": {},
   "outputs": [
    {
     "name": "stdout",
     "output_type": "stream",
     "text": [
      "True\n"
     ]
    }
   ],
   "source": [
    "# test function\n",
    "print(more_than_n([2, 4, 6, 2, 3, 2, 1, 2], 2, 3))"
   ]
  },
  {
   "cell_type": "markdown",
   "id": "291c0900",
   "metadata": {},
   "source": [
    "### combine sort\n",
    "combine 2 list and sort it and return the sorted list"
   ]
  },
  {
   "cell_type": "code",
   "execution_count": 14,
   "id": "3f325da4",
   "metadata": {},
   "outputs": [],
   "source": [
    "# Write your function here\n",
    "def combine_sort(my_list1, my_list2):\n",
    "  new_list = my_list1 + my_list2\n",
    "  new_list.sort()\n",
    "  return new_list"
   ]
  },
  {
   "cell_type": "code",
   "execution_count": 15,
   "id": "a3f10b09",
   "metadata": {},
   "outputs": [
    {
     "name": "stdout",
     "output_type": "stream",
     "text": [
      "[-10, 2, 2, 4, 5, 5, 10, 10]\n"
     ]
    }
   ],
   "source": [
    "# test function\n",
    "print(combine_sort([4, 10, 2, 5], [-10, 2, 5, 10]))"
   ]
  },
  {
   "cell_type": "code",
   "execution_count": null,
   "id": "0c21e599",
   "metadata": {},
   "outputs": [],
   "source": []
  }
 ],
 "metadata": {
  "kernelspec": {
   "display_name": "Python 3 (ipykernel)",
   "language": "python",
   "name": "python3"
  },
  "language_info": {
   "codemirror_mode": {
    "name": "ipython",
    "version": 3
   },
   "file_extension": ".py",
   "mimetype": "text/x-python",
   "name": "python",
   "nbconvert_exporter": "python",
   "pygments_lexer": "ipython3",
   "version": "3.11.5"
  }
 },
 "nbformat": 4,
 "nbformat_minor": 5
}
