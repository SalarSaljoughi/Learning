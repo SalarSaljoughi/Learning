{
 "cells": [
  {
   "cell_type": "markdown",
   "id": "451e8967",
   "metadata": {},
   "source": [
    "# travel \n",
    "### travel expenses"
   ]
  },
  {
   "cell_type": "code",
   "execution_count": 1,
   "id": "cecf4361",
   "metadata": {},
   "outputs": [],
   "source": [
    "# define the function\n",
    "def calculate_expenses(plane_ticket_price, car_rental_rate, hotel_rate, trip_time):\n",
    "  car_rental_total = car_rental_rate * trip_time\n",
    "  hotel_total = (hotel_rate * trip_time) - 10\n",
    "  trip_total = car_rental_total + hotel_total + plane_ticket_price\n",
    "\n",
    "  return trip_total"
   ]
  },
  {
   "cell_type": "code",
   "execution_count": 2,
   "id": "58741984",
   "metadata": {},
   "outputs": [
    {
     "name": "stdout",
     "output_type": "stream",
     "text": [
      "1190\n"
     ]
    }
   ],
   "source": [
    "# call function\n",
    "print(calculate_expenses(200, 100, 100, 5))"
   ]
  },
  {
   "cell_type": "markdown",
   "id": "0d0daf31",
   "metadata": {},
   "source": [
    "### trip planner"
   ]
  },
  {
   "cell_type": "code",
   "execution_count": 3,
   "id": "7727bfaa",
   "metadata": {},
   "outputs": [],
   "source": [
    "# Write your code below:\n",
    "def trip_planner(first_destination, second_destination, final_destination = \"Codecademy HQ\"):\n",
    "  print(\"Here is what your trip will look like!\")\n",
    "  print(\"First, we will stop in \" + first_destination + \", then \" + second_destination + \", and lastly \" + final_destination )"
   ]
  },
  {
   "cell_type": "code",
   "execution_count": 5,
   "id": "be6cf551",
   "metadata": {},
   "outputs": [
    {
     "name": "stdout",
     "output_type": "stream",
     "text": [
      "Here is what your trip will look like!\n",
      "First, we will stop in France, then Germany, and lastly Denmark\n",
      "Here is what your trip will look like!\n",
      "First, we will stop in Denmark, then France, and lastly Germany\n"
     ]
    }
   ],
   "source": [
    "# call function with positional arguments\n",
    "trip_planner(\"France\", \"Germany\", \"Denmark\")\n",
    "trip_planner(\"Denmark\", \"France\", \"Germany\")"
   ]
  },
  {
   "cell_type": "code",
   "execution_count": 6,
   "id": "c5483cdc",
   "metadata": {},
   "outputs": [
    {
     "name": "stdout",
     "output_type": "stream",
     "text": [
      "Here is what your trip will look like!\n",
      "First, we will stop in Iceland, then India, and lastly Germany\n"
     ]
    }
   ],
   "source": [
    "# call functiono with keyword arguments\n",
    "trip_planner(first_destination = \"Iceland\", final_destination = \"Germany\", second_destination = \"India\")"
   ]
  },
  {
   "cell_type": "code",
   "execution_count": 7,
   "id": "e2b2d92b",
   "metadata": {},
   "outputs": [
    {
     "name": "stdout",
     "output_type": "stream",
     "text": [
      "Here is what your trip will look like!\n",
      "First, we will stop in Brooklyn, then Queens, and lastly Codecademy HQ\n"
     ]
    }
   ],
   "source": [
    "# call function with default arguments\n",
    "trip_planner(\"Brooklyn\", \"Queens\")"
   ]
  },
  {
   "cell_type": "markdown",
   "id": "2eefd9d5",
   "metadata": {},
   "source": [
    "### budget"
   ]
  },
  {
   "cell_type": "code",
   "execution_count": 8,
   "id": "d9bde1a9",
   "metadata": {},
   "outputs": [],
   "source": [
    "current_budget = 3500.75"
   ]
  },
  {
   "cell_type": "code",
   "execution_count": 9,
   "id": "2deed0f3",
   "metadata": {},
   "outputs": [
    {
     "name": "stdout",
     "output_type": "stream",
     "text": [
      "Your remaining budget is: $3500.75\n"
     ]
    }
   ],
   "source": [
    "# dwfine function to print the remaining budget\n",
    "def print_remaining_budget(budget):\n",
    "  print(\"Your remaining budget is: $\" + str(budget))\n",
    "\n",
    "print_remaining_budget(current_budget)"
   ]
  },
  {
   "cell_type": "code",
   "execution_count": 10,
   "id": "95e11477",
   "metadata": {},
   "outputs": [],
   "source": [
    "# Write a function to account for expense\n",
    "def deduct_expense(budget, expense):\n",
    "  return budget - expense"
   ]
  },
  {
   "cell_type": "code",
   "execution_count": 11,
   "id": "9efc6494",
   "metadata": {},
   "outputs": [
    {
     "name": "stdout",
     "output_type": "stream",
     "text": [
      "Your remaining budget is: $3491.75\n"
     ]
    }
   ],
   "source": [
    "# for example we buy a shirt - calculate the new budget\n",
    "shirt_expense = 9\n",
    "\n",
    "new_budget_after_shirt = deduct_expense(current_budget, shirt_expense)\n",
    "\n",
    "print_remaining_budget(new_budget_after_shirt)"
   ]
  },
  {
   "cell_type": "markdown",
   "id": "4b523eea",
   "metadata": {},
   "source": [
    "### weather report"
   ]
  },
  {
   "cell_type": "code",
   "execution_count": 12,
   "id": "a028d297",
   "metadata": {},
   "outputs": [],
   "source": [
    "weather_data = ['Sunny', 'Sunny', 'Cloudy', 'Raining', 'Snowing']\n",
    "\n",
    "def threeday_weather_report(weather):\n",
    "  first_day = \" Tomorrow the weather will be \" + weather[0]\n",
    "  second_day = \" The following day it will be \" + weather[1]\n",
    "  third_day = \" Two days from now it will be \" + weather[2]\n",
    "  return first_day, second_day, third_day"
   ]
  },
  {
   "cell_type": "code",
   "execution_count": 13,
   "id": "b984f1f4",
   "metadata": {},
   "outputs": [
    {
     "name": "stdout",
     "output_type": "stream",
     "text": [
      " Tomorrow the weather will be Sunny\n",
      " The following day it will be Sunny\n",
      " Two days from now it will be Cloudy\n"
     ]
    }
   ],
   "source": [
    "monday, tuesday, wednesday = threeday_weather_report(weather_data)\n",
    "\n",
    "print(monday)\n",
    "print(tuesday)\n",
    "print(wednesday)"
   ]
  },
  {
   "cell_type": "markdown",
   "id": "9e1cca9d",
   "metadata": {},
   "source": [
    "## trip planner V1.0"
   ]
  },
  {
   "cell_type": "code",
   "execution_count": 14,
   "id": "1da6f8aa",
   "metadata": {},
   "outputs": [
    {
     "name": "stdout",
     "output_type": "stream",
     "text": [
      "Welcome to tripplanner v1.0 Salar\n"
     ]
    }
   ],
   "source": [
    "# welcome message\n",
    "def trip_planner_welcome(name): \n",
    "  print(\"Welcome to tripplanner v1.0 \" + name)\n",
    "\n",
    "trip_planner_welcome(\"Salar\")"
   ]
  },
  {
   "cell_type": "code",
   "execution_count": 26,
   "id": "18e3450f",
   "metadata": {},
   "outputs": [
    {
     "name": "stdout",
     "output_type": "stream",
     "text": [
      "51.0\n"
     ]
    }
   ],
   "source": [
    "# calculate the estimated travel time with rounding based on a decimal\n",
    "def estimated_time_rounded(estimated_time):\n",
    "    rounded_time = round(estimated_time, 0)\n",
    "    return rounded_time\n",
    "    \n",
    "estimate = estimated_time_rounded(50.55)\n",
    "print(estimate)"
   ]
  },
  {
   "cell_type": "code",
   "execution_count": 29,
   "id": "46a9ae43",
   "metadata": {},
   "outputs": [
    {
     "name": "stdout",
     "output_type": "stream",
     "text": [
      "Your trip starts off in Denver\n",
      "And you are traveling to NY\n",
      "You will be traveling by Car\n",
      "It will take approximately 51.0 hours\n"
     ]
    }
   ],
   "source": [
    "# generate messages for user's planned trip\n",
    "def destination_setup(origin, destination, estimated_time, mode_of_transport = \"Car\"):\n",
    "    print(\"Your trip starts off in \" + origin)\n",
    "    print(\"And you are traveling to \" + destination)\n",
    "    print(\"You will be traveling by \" + mode_of_transport) \n",
    "    print(\"It will take approximately \" + str(estimated_time) + \" hours\")\n",
    "    \n",
    "destination_setup(\"Denver\", \"NY\", estimate)"
   ]
  },
  {
   "cell_type": "code",
   "execution_count": null,
   "id": "ba4b70dd",
   "metadata": {},
   "outputs": [],
   "source": []
  }
 ],
 "metadata": {
  "kernelspec": {
   "display_name": "Python 3 (ipykernel)",
   "language": "python",
   "name": "python3"
  },
  "language_info": {
   "codemirror_mode": {
    "name": "ipython",
    "version": 3
   },
   "file_extension": ".py",
   "mimetype": "text/x-python",
   "name": "python",
   "nbconvert_exporter": "python",
   "pygments_lexer": "ipython3",
   "version": "3.11.5"
  }
 },
 "nbformat": 4,
 "nbformat_minor": 5
}
