{
 "cells": [
  {
   "cell_type": "markdown",
   "id": "b3296806",
   "metadata": {},
   "source": [
    "# List comprehension practice"
   ]
  },
  {
   "cell_type": "code",
   "execution_count": 1,
   "id": "5851a9f6",
   "metadata": {},
   "outputs": [
    {
     "name": "stdout",
     "output_type": "stream",
     "text": [
      "[0, 1, 2, 3, 4, 5, 6, 7, 8, 9]\n"
     ]
    }
   ],
   "source": [
    "# create a list consists of the numbers 0-9 (inclusive).\n",
    "single_digits = list(range(10))\n",
    "print(single_digits)"
   ]
  },
  {
   "cell_type": "code",
   "execution_count": 2,
   "id": "beaa3f37",
   "metadata": {},
   "outputs": [
    {
     "name": "stdout",
     "output_type": "stream",
     "text": [
      "0\n",
      "1\n",
      "2\n",
      "3\n",
      "4\n",
      "5\n",
      "6\n",
      "7\n",
      "8\n",
      "9\n",
      "[0, 1, 4, 9, 16, 25, 36, 49, 64, 81]\n"
     ]
    }
   ],
   "source": [
    "# create empty list called squares and calculate the squares using for loop\n",
    "squares = []\n",
    "\n",
    "for digit in single_digits:\n",
    "  print(digit)\n",
    "  squares.append(digit ** 2)\n",
    "print(squares)"
   ]
  },
  {
   "cell_type": "code",
   "execution_count": 3,
   "id": "f4a511c1",
   "metadata": {},
   "outputs": [
    {
     "name": "stdout",
     "output_type": "stream",
     "text": [
      "[0, 1, 8, 27, 64, 125, 216, 343, 512, 729]\n"
     ]
    }
   ],
   "source": [
    "# create new list called cubes and calculate cubes using list comprehension\n",
    "\n",
    "cubes = [digit ** 3 for digit in single_digits]\n",
    "print(cubes)"
   ]
  },
  {
   "cell_type": "code",
   "execution_count": null,
   "id": "c12a586b",
   "metadata": {},
   "outputs": [],
   "source": []
  }
 ],
 "metadata": {
  "kernelspec": {
   "display_name": "Python 3 (ipykernel)",
   "language": "python",
   "name": "python3"
  },
  "language_info": {
   "codemirror_mode": {
    "name": "ipython",
    "version": 3
   },
   "file_extension": ".py",
   "mimetype": "text/x-python",
   "name": "python",
   "nbconvert_exporter": "python",
   "pygments_lexer": "ipython3",
   "version": "3.11.5"
  }
 },
 "nbformat": 4,
 "nbformat_minor": 5
}
