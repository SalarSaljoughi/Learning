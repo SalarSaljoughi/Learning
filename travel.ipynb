{
 "cells": [
  {
   "cell_type": "markdown",
   "id": "451e8967",
   "metadata": {},
   "source": [
    "# travel expenses\n",
    "calculating travel expenses"
   ]
  },
  {
   "cell_type": "code",
   "execution_count": 1,
   "id": "cecf4361",
   "metadata": {},
   "outputs": [],
   "source": [
    "# define the function\n",
    "def calculate_expenses(plane_ticket_price, car_rental_rate, hotel_rate, trip_time):\n",
    "  car_rental_total = car_rental_rate * trip_time\n",
    "  hotel_total = (hotel_rate * trip_time) - 10\n",
    "  trip_total = car_rental_total + hotel_total + plane_ticket_price\n",
    "\n",
    "  return trip_total"
   ]
  },
  {
   "cell_type": "code",
   "execution_count": 2,
   "id": "58741984",
   "metadata": {},
   "outputs": [
    {
     "name": "stdout",
     "output_type": "stream",
     "text": [
      "1190\n"
     ]
    }
   ],
   "source": [
    "# call function\n",
    "print(calculate_expenses(200, 100, 100, 5))"
   ]
  },
  {
   "cell_type": "code",
   "execution_count": null,
   "id": "2fe70cb0",
   "metadata": {},
   "outputs": [],
   "source": []
  }
 ],
 "metadata": {
  "kernelspec": {
   "display_name": "Python 3 (ipykernel)",
   "language": "python",
   "name": "python3"
  },
  "language_info": {
   "codemirror_mode": {
    "name": "ipython",
    "version": 3
   },
   "file_extension": ".py",
   "mimetype": "text/x-python",
   "name": "python",
   "nbconvert_exporter": "python",
   "pygments_lexer": "ipython3",
   "version": "3.11.5"
  }
 },
 "nbformat": 4,
 "nbformat_minor": 5
}
