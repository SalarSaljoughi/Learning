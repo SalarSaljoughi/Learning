{
 "cells": [
  {
   "cell_type": "markdown",
   "id": "451e8967",
   "metadata": {},
   "source": [
    "# travel expenses\n",
    "calculating travel expenses"
   ]
  },
  {
   "cell_type": "code",
   "execution_count": 1,
   "id": "cecf4361",
   "metadata": {},
   "outputs": [],
   "source": [
    "# define the function\n",
    "def calculate_expenses(plane_ticket_price, car_rental_rate, hotel_rate, trip_time):\n",
    "  car_rental_total = car_rental_rate * trip_time\n",
    "  hotel_total = (hotel_rate * trip_time) - 10\n",
    "  trip_total = car_rental_total + hotel_total + plane_ticket_price\n",
    "\n",
    "  return trip_total"
   ]
  },
  {
   "cell_type": "code",
   "execution_count": 2,
   "id": "58741984",
   "metadata": {},
   "outputs": [
    {
     "name": "stdout",
     "output_type": "stream",
     "text": [
      "1190\n"
     ]
    }
   ],
   "source": [
    "# call function\n",
    "print(calculate_expenses(200, 100, 100, 5))"
   ]
  },
  {
   "cell_type": "markdown",
   "id": "0d0daf31",
   "metadata": {},
   "source": [
    "## trip planner"
   ]
  },
  {
   "cell_type": "code",
   "execution_count": 3,
   "id": "7727bfaa",
   "metadata": {},
   "outputs": [],
   "source": [
    "# Write your code below:\n",
    "def trip_planner(first_destination, second_destination, final_destination = \"Codecademy HQ\"):\n",
    "  print(\"Here is what your trip will look like!\")\n",
    "  print(\"First, we will stop in \" + first_destination + \", then \" + second_destination + \", and lastly \" + final_destination )"
   ]
  },
  {
   "cell_type": "code",
   "execution_count": 5,
   "id": "be6cf551",
   "metadata": {},
   "outputs": [
    {
     "name": "stdout",
     "output_type": "stream",
     "text": [
      "Here is what your trip will look like!\n",
      "First, we will stop in France, then Germany, and lastly Denmark\n",
      "Here is what your trip will look like!\n",
      "First, we will stop in Denmark, then France, and lastly Germany\n"
     ]
    }
   ],
   "source": [
    "# call function with positional arguments\n",
    "trip_planner(\"France\", \"Germany\", \"Denmark\")\n",
    "trip_planner(\"Denmark\", \"France\", \"Germany\")"
   ]
  },
  {
   "cell_type": "code",
   "execution_count": 6,
   "id": "c5483cdc",
   "metadata": {},
   "outputs": [
    {
     "name": "stdout",
     "output_type": "stream",
     "text": [
      "Here is what your trip will look like!\n",
      "First, we will stop in Iceland, then India, and lastly Germany\n"
     ]
    }
   ],
   "source": [
    "# call functiono with keyword arguments\n",
    "trip_planner(first_destination = \"Iceland\", final_destination = \"Germany\", second_destination = \"India\")"
   ]
  },
  {
   "cell_type": "code",
   "execution_count": 7,
   "id": "e2b2d92b",
   "metadata": {},
   "outputs": [
    {
     "name": "stdout",
     "output_type": "stream",
     "text": [
      "Here is what your trip will look like!\n",
      "First, we will stop in Brooklyn, then Queens, and lastly Codecademy HQ\n"
     ]
    }
   ],
   "source": [
    "# call function with default arguments\n",
    "trip_planner(\"Brooklyn\", \"Queens\")"
   ]
  },
  {
   "cell_type": "code",
   "execution_count": null,
   "id": "b191a11f",
   "metadata": {},
   "outputs": [],
   "source": []
  }
 ],
 "metadata": {
  "kernelspec": {
   "display_name": "Python 3 (ipykernel)",
   "language": "python",
   "name": "python3"
  },
  "language_info": {
   "codemirror_mode": {
    "name": "ipython",
    "version": 3
   },
   "file_extension": ".py",
   "mimetype": "text/x-python",
   "name": "python",
   "nbconvert_exporter": "python",
   "pygments_lexer": "ipython3",
   "version": "3.11.5"
  }
 },
 "nbformat": 4,
 "nbformat_minor": 5
}
