{
 "cells": [
  {
   "cell_type": "markdown",
   "id": "834462c9",
   "metadata": {},
   "source": [
    "# Company temp username and password\n",
    "we want to create functions to generate temp username and password for employees"
   ]
  },
  {
   "cell_type": "markdown",
   "id": "7c32b857",
   "metadata": {},
   "source": [
    "### username\n",
    "we want function to generate user name, that uses first 3 letters of first name and 4 first letters of last name\n",
    "if name is shorter than 3 use the fullname and if the last name is shorter than 4 letters use full lastname"
   ]
  },
  {
   "cell_type": "code",
   "execution_count": 1,
   "id": "cb13af61",
   "metadata": {},
   "outputs": [],
   "source": [
    "def username_generator(first_name, last_name):\n",
    "  user_name = \"\"\n",
    "  if (len(first_name) < 3) and (len(last_name) < 4):\n",
    "    user_name = first_name + last_name\n",
    "  elif (len(first_name) < 3):\n",
    "    user_name = first_name + last_name[:4]\n",
    "  elif len(last_name) < 4:\n",
    "    user_name = first_name[:3] + last_name\n",
    "  else:\n",
    "    user_name = first_name[:3] + last_name[:4]\n",
    "  \n",
    "  return user_name"
   ]
  },
  {
   "cell_type": "code",
   "execution_count": 3,
   "id": "65d9456f",
   "metadata": {},
   "outputs": [
    {
     "data": {
      "text/plain": [
       "'AbeSimp'"
      ]
     },
     "execution_count": 3,
     "metadata": {},
     "output_type": "execute_result"
    }
   ],
   "source": [
    "# test function\n",
    "first_name = \"Abe\"\n",
    "last_name = \"Simpson\"\n",
    "\n",
    "username_generator(first_name, last_name)"
   ]
  },
  {
   "cell_type": "markdown",
   "id": "2b6367f2",
   "metadata": {},
   "source": [
    "### password\n",
    "generate password that uses username and shift all of the letters by one to the right, so the last letter of the username ends up as the first letter and so forth"
   ]
  },
  {
   "cell_type": "code",
   "execution_count": 14,
   "id": "77967436",
   "metadata": {},
   "outputs": [],
   "source": [
    "def password_generator(user_name):\n",
    "    password = \"\"\n",
    "    for i in range(0, len(user_name)):\n",
    "        password += user_name[i-1]\n",
    "    return password\n",
    "    print(password)"
   ]
  },
  {
   "cell_type": "code",
   "execution_count": 15,
   "id": "e40f3393",
   "metadata": {},
   "outputs": [
    {
     "data": {
      "text/plain": [
       "'pAbeSim'"
      ]
     },
     "execution_count": 15,
     "metadata": {},
     "output_type": "execute_result"
    }
   ],
   "source": [
    "password_generator(\"AbeSimp\")"
   ]
  }
 ],
 "metadata": {
  "kernelspec": {
   "display_name": "Python 3 (ipykernel)",
   "language": "python",
   "name": "python3"
  },
  "language_info": {
   "codemirror_mode": {
    "name": "ipython",
    "version": 3
   },
   "file_extension": ".py",
   "mimetype": "text/x-python",
   "name": "python",
   "nbconvert_exporter": "python",
   "pygments_lexer": "ipython3",
   "version": "3.11.5"
  }
 },
 "nbformat": 4,
 "nbformat_minor": 5
}
