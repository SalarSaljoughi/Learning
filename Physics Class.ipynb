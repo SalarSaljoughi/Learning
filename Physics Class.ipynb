{
 "cells": [
  {
   "cell_type": "markdown",
   "id": "70e99b99",
   "metadata": {},
   "source": [
    "# Physics Class"
   ]
  },
  {
   "cell_type": "code",
   "execution_count": 1,
   "id": "3e69891a",
   "metadata": {},
   "outputs": [],
   "source": [
    "# write a function that takes temperature in Fahrenheit as input and converts it to Celsius\n",
    "def f_to_c(f_temp):\n",
    "  c_temp = (f_temp - 32) * 5/9\n",
    "  return c_temp"
   ]
  },
  {
   "cell_type": "code",
   "execution_count": 2,
   "id": "af043186",
   "metadata": {},
   "outputs": [
    {
     "name": "stdout",
     "output_type": "stream",
     "text": [
      "37.77777777777778\n"
     ]
    }
   ],
   "source": [
    "# testing our function if temperature is 100 Fahrenheit\n",
    "f100_in_celsius = f_to_c(100)\n",
    "print(f100_in_celsius)"
   ]
  },
  {
   "cell_type": "code",
   "execution_count": 3,
   "id": "8dce15d6",
   "metadata": {},
   "outputs": [],
   "source": [
    "# write a function that takes temperature in Celsius and converts it to Fahrenheit\n",
    "def c_to_f(c_temp):\n",
    "  f_temp = c_temp * (9/5) + 32\n",
    "  return f_temp"
   ]
  },
  {
   "cell_type": "code",
   "execution_count": 4,
   "id": "9eb05dc8",
   "metadata": {},
   "outputs": [
    {
     "name": "stdout",
     "output_type": "stream",
     "text": [
      "32.0\n"
     ]
    }
   ],
   "source": [
    "# test function with 0 Celsius\n",
    "c0_in_fahrenheit = c_to_f(0)\n",
    "print(c0_in_fahrenheit)"
   ]
  },
  {
   "cell_type": "code",
   "execution_count": 5,
   "id": "56849790",
   "metadata": {},
   "outputs": [],
   "source": [
    "# define a function to calculate force\n",
    "def get_force(mass, acceleration):\n",
    "    force = mass * acceleration\n",
    "    return force"
   ]
  },
  {
   "cell_type": "code",
   "execution_count": 6,
   "id": "0615a7b8",
   "metadata": {},
   "outputs": [],
   "source": [
    "train_mass = 22680\n",
    "train_acceleration = 10"
   ]
  },
  {
   "cell_type": "code",
   "execution_count": 10,
   "id": "7952dc1e",
   "metadata": {},
   "outputs": [
    {
     "name": "stdout",
     "output_type": "stream",
     "text": [
      "226800\n"
     ]
    }
   ],
   "source": [
    "# test function with given data\n",
    "train_force = get_force(train_mass, train_acceleration)\n",
    "print(train_force)"
   ]
  },
  {
   "cell_type": "code",
   "execution_count": 11,
   "id": "6ad59738",
   "metadata": {},
   "outputs": [
    {
     "name": "stdout",
     "output_type": "stream",
     "text": [
      "The GE train supplies 226800 Newtoons of force.\n"
     ]
    }
   ],
   "source": [
    "print(\"The GE train supplies \" + str(train_force) + \" Newtoons of force.\")"
   ]
  },
  {
   "cell_type": "code",
   "execution_count": 12,
   "id": "3fc34d9b",
   "metadata": {},
   "outputs": [],
   "source": [
    "# define a function to calculate energy\n",
    "def get_energy(mass, c = 3*10**8):\n",
    "    energy = mass * (c ** 2)\n",
    "    return energy"
   ]
  },
  {
   "cell_type": "code",
   "execution_count": 13,
   "id": "1bc12ca7",
   "metadata": {},
   "outputs": [],
   "source": [
    "bomb_mass = 1"
   ]
  },
  {
   "cell_type": "code",
   "execution_count": 30,
   "id": "6979efeb",
   "metadata": {},
   "outputs": [
    {
     "name": "stdout",
     "output_type": "stream",
     "text": [
      "90000000000000000\n"
     ]
    }
   ],
   "source": [
    "# test function with bomb mass\n",
    "bomb_energy = get_energy(bomb_mass)\n",
    "print(bomb_energy)"
   ]
  },
  {
   "cell_type": "code",
   "execution_count": 31,
   "id": "850d8171",
   "metadata": {},
   "outputs": [
    {
     "name": "stdout",
     "output_type": "stream",
     "text": [
      "A 1kg bomb supplies 90000000000000000 Jules.\n"
     ]
    }
   ],
   "source": [
    "print(\"A 1kg bomb supplies \" + str(bomb_energy) + \" Jules.\")"
   ]
  },
  {
   "cell_type": "code",
   "execution_count": 32,
   "id": "2bade885",
   "metadata": {},
   "outputs": [],
   "source": [
    "# define a function to calculate the work\n",
    "def get_work(mass, acceleration, distance):\n",
    "    f = get_force(mass, acceleration)\n",
    "    work = f * distance\n",
    "    return work"
   ]
  },
  {
   "cell_type": "code",
   "execution_count": 33,
   "id": "80953118",
   "metadata": {},
   "outputs": [],
   "source": [
    "train_distance = 100"
   ]
  },
  {
   "cell_type": "code",
   "execution_count": 34,
   "id": "fd4ce0b5",
   "metadata": {},
   "outputs": [
    {
     "name": "stdout",
     "output_type": "stream",
     "text": [
      "22680000\n"
     ]
    }
   ],
   "source": [
    "train_work = get_work(train_mass, train_acceleration, train_distance)\n",
    "print(train_work)"
   ]
  },
  {
   "cell_type": "code",
   "execution_count": 35,
   "id": "216ecb74",
   "metadata": {},
   "outputs": [
    {
     "name": "stdout",
     "output_type": "stream",
     "text": [
      "the GE train does 22680000 Joules of work over 100 meters\n"
     ]
    }
   ],
   "source": [
    "print(\"the GE train does \" + str(train_work) + \" Joules of work over \" + str(train_distance) + \" meters\" )"
   ]
  }
 ],
 "metadata": {
  "kernelspec": {
   "display_name": "Python 3 (ipykernel)",
   "language": "python",
   "name": "python3"
  },
  "language_info": {
   "codemirror_mode": {
    "name": "ipython",
    "version": 3
   },
   "file_extension": ".py",
   "mimetype": "text/x-python",
   "name": "python",
   "nbconvert_exporter": "python",
   "pygments_lexer": "ipython3",
   "version": "3.11.5"
  }
 },
 "nbformat": 4,
 "nbformat_minor": 5
}
